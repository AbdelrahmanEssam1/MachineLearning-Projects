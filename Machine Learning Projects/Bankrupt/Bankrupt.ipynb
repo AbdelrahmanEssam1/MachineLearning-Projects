{
 "cells": [
  {
   "cell_type": "markdown",
   "id": "a598259d",
   "metadata": {},
   "source": [
    "# Prepare Data"
   ]
  },
  {
   "cell_type": "markdown",
   "id": "f8180407",
   "metadata": {},
   "source": [
    "## Import"
   ]
  },
  {
   "cell_type": "code",
   "execution_count": 1,
   "id": "65d39ea5",
   "metadata": {
    "ExecuteTime": {
     "end_time": "2023-03-29T04:04:42.923433Z",
     "start_time": "2023-03-29T04:04:41.249004Z"
    }
   },
   "outputs": [],
   "source": [
    "import pickle\n",
    "import matplotlib.pyplot as plt\n",
    "import pandas as pd\n",
    "import numpy as np\n",
    "import seaborn as sns\n",
    "from imblearn.over_sampling import RandomOverSampler\n",
    "from sklearn.impute import SimpleImputer\n",
    "from sklearn.ensemble import RandomForestClassifier\n",
    "from sklearn.metrics import ConfusionMatrixDisplay\n",
    "from sklearn.model_selection import train_test_split , GridSearchCV\n",
    "from sklearn.pipeline import make_pipeline"
   ]
  },
  {
   "cell_type": "code",
   "execution_count": 2,
   "id": "966d691a",
   "metadata": {
    "ExecuteTime": {
     "end_time": "2023-03-29T04:04:43.623807Z",
     "start_time": "2023-03-29T04:04:43.505515Z"
    }
   },
   "outputs": [
    {
     "data": {
      "text/html": [
       "<div>\n",
       "<style scoped>\n",
       "    .dataframe tbody tr th:only-of-type {\n",
       "        vertical-align: middle;\n",
       "    }\n",
       "\n",
       "    .dataframe tbody tr th {\n",
       "        vertical-align: top;\n",
       "    }\n",
       "\n",
       "    .dataframe thead th {\n",
       "        text-align: right;\n",
       "    }\n",
       "</style>\n",
       "<table border=\"1\" class=\"dataframe\">\n",
       "  <thead>\n",
       "    <tr style=\"text-align: right;\">\n",
       "      <th></th>\n",
       "      <th>Bankrupt?</th>\n",
       "      <th>ROA(C) before interest and depreciation before interest</th>\n",
       "      <th>ROA(A) before interest and % after tax</th>\n",
       "      <th>ROA(B) before interest and depreciation after tax</th>\n",
       "      <th>Operating Gross Margin</th>\n",
       "      <th>Realized Sales Gross Margin</th>\n",
       "      <th>Operating Profit Rate</th>\n",
       "      <th>Pre-tax net Interest Rate</th>\n",
       "      <th>After-tax net Interest Rate</th>\n",
       "      <th>Non-industry income and expenditure/revenue</th>\n",
       "      <th>...</th>\n",
       "      <th>Net Income to Total Assets</th>\n",
       "      <th>Total assets to GNP price</th>\n",
       "      <th>No-credit Interval</th>\n",
       "      <th>Gross Profit to Sales</th>\n",
       "      <th>Net Income to Stockholder's Equity</th>\n",
       "      <th>Liability to Equity</th>\n",
       "      <th>Degree of Financial Leverage (DFL)</th>\n",
       "      <th>Interest Coverage Ratio (Interest expense to EBIT)</th>\n",
       "      <th>Net Income Flag</th>\n",
       "      <th>Equity to Liability</th>\n",
       "    </tr>\n",
       "  </thead>\n",
       "  <tbody>\n",
       "    <tr>\n",
       "      <th>0</th>\n",
       "      <td>1</td>\n",
       "      <td>0.370594</td>\n",
       "      <td>0.424389</td>\n",
       "      <td>0.405750</td>\n",
       "      <td>0.601457</td>\n",
       "      <td>0.601457</td>\n",
       "      <td>0.998969</td>\n",
       "      <td>0.796887</td>\n",
       "      <td>0.808809</td>\n",
       "      <td>0.302646</td>\n",
       "      <td>...</td>\n",
       "      <td>0.716845</td>\n",
       "      <td>0.009219</td>\n",
       "      <td>0.622879</td>\n",
       "      <td>0.601453</td>\n",
       "      <td>0.827890</td>\n",
       "      <td>0.290202</td>\n",
       "      <td>0.026601</td>\n",
       "      <td>0.564050</td>\n",
       "      <td>1</td>\n",
       "      <td>0.016469</td>\n",
       "    </tr>\n",
       "    <tr>\n",
       "      <th>1</th>\n",
       "      <td>1</td>\n",
       "      <td>0.464291</td>\n",
       "      <td>0.538214</td>\n",
       "      <td>0.516730</td>\n",
       "      <td>0.610235</td>\n",
       "      <td>0.610235</td>\n",
       "      <td>0.998946</td>\n",
       "      <td>0.797380</td>\n",
       "      <td>0.809301</td>\n",
       "      <td>0.303556</td>\n",
       "      <td>...</td>\n",
       "      <td>0.795297</td>\n",
       "      <td>0.008323</td>\n",
       "      <td>0.623652</td>\n",
       "      <td>0.610237</td>\n",
       "      <td>0.839969</td>\n",
       "      <td>0.283846</td>\n",
       "      <td>0.264577</td>\n",
       "      <td>0.570175</td>\n",
       "      <td>1</td>\n",
       "      <td>0.020794</td>\n",
       "    </tr>\n",
       "    <tr>\n",
       "      <th>2</th>\n",
       "      <td>1</td>\n",
       "      <td>0.426071</td>\n",
       "      <td>0.499019</td>\n",
       "      <td>0.472295</td>\n",
       "      <td>0.601450</td>\n",
       "      <td>0.601364</td>\n",
       "      <td>0.998857</td>\n",
       "      <td>0.796403</td>\n",
       "      <td>0.808388</td>\n",
       "      <td>0.302035</td>\n",
       "      <td>...</td>\n",
       "      <td>0.774670</td>\n",
       "      <td>0.040003</td>\n",
       "      <td>0.623841</td>\n",
       "      <td>0.601449</td>\n",
       "      <td>0.836774</td>\n",
       "      <td>0.290189</td>\n",
       "      <td>0.026555</td>\n",
       "      <td>0.563706</td>\n",
       "      <td>1</td>\n",
       "      <td>0.016474</td>\n",
       "    </tr>\n",
       "    <tr>\n",
       "      <th>3</th>\n",
       "      <td>1</td>\n",
       "      <td>0.399844</td>\n",
       "      <td>0.451265</td>\n",
       "      <td>0.457733</td>\n",
       "      <td>0.583541</td>\n",
       "      <td>0.583541</td>\n",
       "      <td>0.998700</td>\n",
       "      <td>0.796967</td>\n",
       "      <td>0.808966</td>\n",
       "      <td>0.303350</td>\n",
       "      <td>...</td>\n",
       "      <td>0.739555</td>\n",
       "      <td>0.003252</td>\n",
       "      <td>0.622929</td>\n",
       "      <td>0.583538</td>\n",
       "      <td>0.834697</td>\n",
       "      <td>0.281721</td>\n",
       "      <td>0.026697</td>\n",
       "      <td>0.564663</td>\n",
       "      <td>1</td>\n",
       "      <td>0.023982</td>\n",
       "    </tr>\n",
       "    <tr>\n",
       "      <th>4</th>\n",
       "      <td>1</td>\n",
       "      <td>0.465022</td>\n",
       "      <td>0.538432</td>\n",
       "      <td>0.522298</td>\n",
       "      <td>0.598783</td>\n",
       "      <td>0.598783</td>\n",
       "      <td>0.998973</td>\n",
       "      <td>0.797366</td>\n",
       "      <td>0.809304</td>\n",
       "      <td>0.303475</td>\n",
       "      <td>...</td>\n",
       "      <td>0.795016</td>\n",
       "      <td>0.003878</td>\n",
       "      <td>0.623521</td>\n",
       "      <td>0.598782</td>\n",
       "      <td>0.839973</td>\n",
       "      <td>0.278514</td>\n",
       "      <td>0.024752</td>\n",
       "      <td>0.575617</td>\n",
       "      <td>1</td>\n",
       "      <td>0.035490</td>\n",
       "    </tr>\n",
       "  </tbody>\n",
       "</table>\n",
       "<p>5 rows × 96 columns</p>\n",
       "</div>"
      ],
      "text/plain": [
       "   Bankrupt?   ROA(C) before interest and depreciation before interest  \\\n",
       "0          1                                           0.370594          \n",
       "1          1                                           0.464291          \n",
       "2          1                                           0.426071          \n",
       "3          1                                           0.399844          \n",
       "4          1                                           0.465022          \n",
       "\n",
       "    ROA(A) before interest and % after tax  \\\n",
       "0                                 0.424389   \n",
       "1                                 0.538214   \n",
       "2                                 0.499019   \n",
       "3                                 0.451265   \n",
       "4                                 0.538432   \n",
       "\n",
       "    ROA(B) before interest and depreciation after tax  \\\n",
       "0                                           0.405750    \n",
       "1                                           0.516730    \n",
       "2                                           0.472295    \n",
       "3                                           0.457733    \n",
       "4                                           0.522298    \n",
       "\n",
       "    Operating Gross Margin   Realized Sales Gross Margin  \\\n",
       "0                 0.601457                      0.601457   \n",
       "1                 0.610235                      0.610235   \n",
       "2                 0.601450                      0.601364   \n",
       "3                 0.583541                      0.583541   \n",
       "4                 0.598783                      0.598783   \n",
       "\n",
       "    Operating Profit Rate   Pre-tax net Interest Rate  \\\n",
       "0                0.998969                    0.796887   \n",
       "1                0.998946                    0.797380   \n",
       "2                0.998857                    0.796403   \n",
       "3                0.998700                    0.796967   \n",
       "4                0.998973                    0.797366   \n",
       "\n",
       "    After-tax net Interest Rate   Non-industry income and expenditure/revenue  \\\n",
       "0                      0.808809                                      0.302646   \n",
       "1                      0.809301                                      0.303556   \n",
       "2                      0.808388                                      0.302035   \n",
       "3                      0.808966                                      0.303350   \n",
       "4                      0.809304                                      0.303475   \n",
       "\n",
       "   ...   Net Income to Total Assets   Total assets to GNP price  \\\n",
       "0  ...                     0.716845                    0.009219   \n",
       "1  ...                     0.795297                    0.008323   \n",
       "2  ...                     0.774670                    0.040003   \n",
       "3  ...                     0.739555                    0.003252   \n",
       "4  ...                     0.795016                    0.003878   \n",
       "\n",
       "    No-credit Interval   Gross Profit to Sales  \\\n",
       "0             0.622879                0.601453   \n",
       "1             0.623652                0.610237   \n",
       "2             0.623841                0.601449   \n",
       "3             0.622929                0.583538   \n",
       "4             0.623521                0.598782   \n",
       "\n",
       "    Net Income to Stockholder's Equity   Liability to Equity  \\\n",
       "0                             0.827890              0.290202   \n",
       "1                             0.839969              0.283846   \n",
       "2                             0.836774              0.290189   \n",
       "3                             0.834697              0.281721   \n",
       "4                             0.839973              0.278514   \n",
       "\n",
       "    Degree of Financial Leverage (DFL)  \\\n",
       "0                             0.026601   \n",
       "1                             0.264577   \n",
       "2                             0.026555   \n",
       "3                             0.026697   \n",
       "4                             0.024752   \n",
       "\n",
       "    Interest Coverage Ratio (Interest expense to EBIT)   Net Income Flag  \\\n",
       "0                                           0.564050                   1   \n",
       "1                                           0.570175                   1   \n",
       "2                                           0.563706                   1   \n",
       "3                                           0.564663                   1   \n",
       "4                                           0.575617                   1   \n",
       "\n",
       "    Equity to Liability  \n",
       "0              0.016469  \n",
       "1              0.020794  \n",
       "2              0.016474  \n",
       "3              0.023982  \n",
       "4              0.035490  \n",
       "\n",
       "[5 rows x 96 columns]"
      ]
     },
     "execution_count": 2,
     "metadata": {},
     "output_type": "execute_result"
    }
   ],
   "source": [
    "df = pd.read_csv(\"data.csv\")\n",
    "df.head()"
   ]
  },
  {
   "cell_type": "code",
   "execution_count": 3,
   "id": "b8026b14",
   "metadata": {
    "ExecuteTime": {
     "end_time": "2023-03-29T04:04:44.418797Z",
     "start_time": "2023-03-29T04:04:44.392175Z"
    }
   },
   "outputs": [
    {
     "data": {
      "text/html": [
       "<div>\n",
       "<style scoped>\n",
       "    .dataframe tbody tr th:only-of-type {\n",
       "        vertical-align: middle;\n",
       "    }\n",
       "\n",
       "    .dataframe tbody tr th {\n",
       "        vertical-align: top;\n",
       "    }\n",
       "\n",
       "    .dataframe thead th {\n",
       "        text-align: right;\n",
       "    }\n",
       "</style>\n",
       "<table border=\"1\" class=\"dataframe\">\n",
       "  <thead>\n",
       "    <tr style=\"text-align: right;\">\n",
       "      <th></th>\n",
       "      <th>Bankrupt?</th>\n",
       "      <th>_ROA(C)_before_interest_and_depreciation_before_interest</th>\n",
       "      <th>_ROA(A)_before_interest_and_%_after_tax</th>\n",
       "      <th>_ROA(B)_before_interest_and_depreciation_after_tax</th>\n",
       "      <th>_Operating_Gross_Margin</th>\n",
       "      <th>_Realized_Sales_Gross_Margin</th>\n",
       "      <th>_Operating_Profit_Rate</th>\n",
       "      <th>_Pre-tax_net_Interest_Rate</th>\n",
       "      <th>_After-tax_net_Interest_Rate</th>\n",
       "      <th>_Non-industry_income_and_expenditure/revenue</th>\n",
       "      <th>...</th>\n",
       "      <th>_Net_Income_to_Total_Assets</th>\n",
       "      <th>_Total_assets_to_GNP_price</th>\n",
       "      <th>_No-credit_Interval</th>\n",
       "      <th>_Gross_Profit_to_Sales</th>\n",
       "      <th>_Net_Income_to_Stockholder's_Equity</th>\n",
       "      <th>_Liability_to_Equity</th>\n",
       "      <th>_Degree_of_Financial_Leverage_(DFL)</th>\n",
       "      <th>_Interest_Coverage_Ratio_(Interest_expense_to_EBIT)</th>\n",
       "      <th>_Net_Income_Flag</th>\n",
       "      <th>_Equity_to_Liability</th>\n",
       "    </tr>\n",
       "  </thead>\n",
       "  <tbody>\n",
       "    <tr>\n",
       "      <th>0</th>\n",
       "      <td>1</td>\n",
       "      <td>0.370594</td>\n",
       "      <td>0.424389</td>\n",
       "      <td>0.405750</td>\n",
       "      <td>0.601457</td>\n",
       "      <td>0.601457</td>\n",
       "      <td>0.998969</td>\n",
       "      <td>0.796887</td>\n",
       "      <td>0.808809</td>\n",
       "      <td>0.302646</td>\n",
       "      <td>...</td>\n",
       "      <td>0.716845</td>\n",
       "      <td>0.009219</td>\n",
       "      <td>0.622879</td>\n",
       "      <td>0.601453</td>\n",
       "      <td>0.827890</td>\n",
       "      <td>0.290202</td>\n",
       "      <td>0.026601</td>\n",
       "      <td>0.564050</td>\n",
       "      <td>1</td>\n",
       "      <td>0.016469</td>\n",
       "    </tr>\n",
       "    <tr>\n",
       "      <th>1</th>\n",
       "      <td>1</td>\n",
       "      <td>0.464291</td>\n",
       "      <td>0.538214</td>\n",
       "      <td>0.516730</td>\n",
       "      <td>0.610235</td>\n",
       "      <td>0.610235</td>\n",
       "      <td>0.998946</td>\n",
       "      <td>0.797380</td>\n",
       "      <td>0.809301</td>\n",
       "      <td>0.303556</td>\n",
       "      <td>...</td>\n",
       "      <td>0.795297</td>\n",
       "      <td>0.008323</td>\n",
       "      <td>0.623652</td>\n",
       "      <td>0.610237</td>\n",
       "      <td>0.839969</td>\n",
       "      <td>0.283846</td>\n",
       "      <td>0.264577</td>\n",
       "      <td>0.570175</td>\n",
       "      <td>1</td>\n",
       "      <td>0.020794</td>\n",
       "    </tr>\n",
       "    <tr>\n",
       "      <th>2</th>\n",
       "      <td>1</td>\n",
       "      <td>0.426071</td>\n",
       "      <td>0.499019</td>\n",
       "      <td>0.472295</td>\n",
       "      <td>0.601450</td>\n",
       "      <td>0.601364</td>\n",
       "      <td>0.998857</td>\n",
       "      <td>0.796403</td>\n",
       "      <td>0.808388</td>\n",
       "      <td>0.302035</td>\n",
       "      <td>...</td>\n",
       "      <td>0.774670</td>\n",
       "      <td>0.040003</td>\n",
       "      <td>0.623841</td>\n",
       "      <td>0.601449</td>\n",
       "      <td>0.836774</td>\n",
       "      <td>0.290189</td>\n",
       "      <td>0.026555</td>\n",
       "      <td>0.563706</td>\n",
       "      <td>1</td>\n",
       "      <td>0.016474</td>\n",
       "    </tr>\n",
       "    <tr>\n",
       "      <th>3</th>\n",
       "      <td>1</td>\n",
       "      <td>0.399844</td>\n",
       "      <td>0.451265</td>\n",
       "      <td>0.457733</td>\n",
       "      <td>0.583541</td>\n",
       "      <td>0.583541</td>\n",
       "      <td>0.998700</td>\n",
       "      <td>0.796967</td>\n",
       "      <td>0.808966</td>\n",
       "      <td>0.303350</td>\n",
       "      <td>...</td>\n",
       "      <td>0.739555</td>\n",
       "      <td>0.003252</td>\n",
       "      <td>0.622929</td>\n",
       "      <td>0.583538</td>\n",
       "      <td>0.834697</td>\n",
       "      <td>0.281721</td>\n",
       "      <td>0.026697</td>\n",
       "      <td>0.564663</td>\n",
       "      <td>1</td>\n",
       "      <td>0.023982</td>\n",
       "    </tr>\n",
       "    <tr>\n",
       "      <th>4</th>\n",
       "      <td>1</td>\n",
       "      <td>0.465022</td>\n",
       "      <td>0.538432</td>\n",
       "      <td>0.522298</td>\n",
       "      <td>0.598783</td>\n",
       "      <td>0.598783</td>\n",
       "      <td>0.998973</td>\n",
       "      <td>0.797366</td>\n",
       "      <td>0.809304</td>\n",
       "      <td>0.303475</td>\n",
       "      <td>...</td>\n",
       "      <td>0.795016</td>\n",
       "      <td>0.003878</td>\n",
       "      <td>0.623521</td>\n",
       "      <td>0.598782</td>\n",
       "      <td>0.839973</td>\n",
       "      <td>0.278514</td>\n",
       "      <td>0.024752</td>\n",
       "      <td>0.575617</td>\n",
       "      <td>1</td>\n",
       "      <td>0.035490</td>\n",
       "    </tr>\n",
       "  </tbody>\n",
       "</table>\n",
       "<p>5 rows × 96 columns</p>\n",
       "</div>"
      ],
      "text/plain": [
       "   Bankrupt?  _ROA(C)_before_interest_and_depreciation_before_interest  \\\n",
       "0          1                                           0.370594          \n",
       "1          1                                           0.464291          \n",
       "2          1                                           0.426071          \n",
       "3          1                                           0.399844          \n",
       "4          1                                           0.465022          \n",
       "\n",
       "   _ROA(A)_before_interest_and_%_after_tax  \\\n",
       "0                                 0.424389   \n",
       "1                                 0.538214   \n",
       "2                                 0.499019   \n",
       "3                                 0.451265   \n",
       "4                                 0.538432   \n",
       "\n",
       "   _ROA(B)_before_interest_and_depreciation_after_tax  \\\n",
       "0                                           0.405750    \n",
       "1                                           0.516730    \n",
       "2                                           0.472295    \n",
       "3                                           0.457733    \n",
       "4                                           0.522298    \n",
       "\n",
       "   _Operating_Gross_Margin  _Realized_Sales_Gross_Margin  \\\n",
       "0                 0.601457                      0.601457   \n",
       "1                 0.610235                      0.610235   \n",
       "2                 0.601450                      0.601364   \n",
       "3                 0.583541                      0.583541   \n",
       "4                 0.598783                      0.598783   \n",
       "\n",
       "   _Operating_Profit_Rate  _Pre-tax_net_Interest_Rate  \\\n",
       "0                0.998969                    0.796887   \n",
       "1                0.998946                    0.797380   \n",
       "2                0.998857                    0.796403   \n",
       "3                0.998700                    0.796967   \n",
       "4                0.998973                    0.797366   \n",
       "\n",
       "   _After-tax_net_Interest_Rate  _Non-industry_income_and_expenditure/revenue  \\\n",
       "0                      0.808809                                      0.302646   \n",
       "1                      0.809301                                      0.303556   \n",
       "2                      0.808388                                      0.302035   \n",
       "3                      0.808966                                      0.303350   \n",
       "4                      0.809304                                      0.303475   \n",
       "\n",
       "   ...  _Net_Income_to_Total_Assets  _Total_assets_to_GNP_price  \\\n",
       "0  ...                     0.716845                    0.009219   \n",
       "1  ...                     0.795297                    0.008323   \n",
       "2  ...                     0.774670                    0.040003   \n",
       "3  ...                     0.739555                    0.003252   \n",
       "4  ...                     0.795016                    0.003878   \n",
       "\n",
       "   _No-credit_Interval  _Gross_Profit_to_Sales  \\\n",
       "0             0.622879                0.601453   \n",
       "1             0.623652                0.610237   \n",
       "2             0.623841                0.601449   \n",
       "3             0.622929                0.583538   \n",
       "4             0.623521                0.598782   \n",
       "\n",
       "   _Net_Income_to_Stockholder's_Equity  _Liability_to_Equity  \\\n",
       "0                             0.827890              0.290202   \n",
       "1                             0.839969              0.283846   \n",
       "2                             0.836774              0.290189   \n",
       "3                             0.834697              0.281721   \n",
       "4                             0.839973              0.278514   \n",
       "\n",
       "   _Degree_of_Financial_Leverage_(DFL)  \\\n",
       "0                             0.026601   \n",
       "1                             0.264577   \n",
       "2                             0.026555   \n",
       "3                             0.026697   \n",
       "4                             0.024752   \n",
       "\n",
       "   _Interest_Coverage_Ratio_(Interest_expense_to_EBIT)  _Net_Income_Flag  \\\n",
       "0                                           0.564050                   1   \n",
       "1                                           0.570175                   1   \n",
       "2                                           0.563706                   1   \n",
       "3                                           0.564663                   1   \n",
       "4                                           0.575617                   1   \n",
       "\n",
       "   _Equity_to_Liability  \n",
       "0              0.016469  \n",
       "1              0.020794  \n",
       "2              0.016474  \n",
       "3              0.023982  \n",
       "4              0.035490  \n",
       "\n",
       "[5 rows x 96 columns]"
      ]
     },
     "execution_count": 3,
     "metadata": {},
     "output_type": "execute_result"
    }
   ],
   "source": [
    "df.columns = [c.replace(' ', '_') for c in df.columns]\n",
    "df.head()"
   ]
  },
  {
   "cell_type": "markdown",
   "id": "690cc287",
   "metadata": {},
   "source": [
    "## Explore"
   ]
  },
  {
   "cell_type": "code",
   "execution_count": 4,
   "id": "1ce54b74",
   "metadata": {
    "ExecuteTime": {
     "end_time": "2023-03-29T04:04:46.631280Z",
     "start_time": "2023-03-29T04:04:46.604692Z"
    }
   },
   "outputs": [
    {
     "name": "stdout",
     "output_type": "stream",
     "text": [
      "<class 'pandas.core.frame.DataFrame'>\n",
      "RangeIndex: 6819 entries, 0 to 6818\n",
      "Data columns (total 96 columns):\n",
      " #   Column                                                    Non-Null Count  Dtype  \n",
      "---  ------                                                    --------------  -----  \n",
      " 0   Bankrupt?                                                 6819 non-null   int64  \n",
      " 1   _ROA(C)_before_interest_and_depreciation_before_interest  6819 non-null   float64\n",
      " 2   _ROA(A)_before_interest_and_%_after_tax                   6819 non-null   float64\n",
      " 3   _ROA(B)_before_interest_and_depreciation_after_tax        6819 non-null   float64\n",
      " 4   _Operating_Gross_Margin                                   6819 non-null   float64\n",
      " 5   _Realized_Sales_Gross_Margin                              6819 non-null   float64\n",
      " 6   _Operating_Profit_Rate                                    6819 non-null   float64\n",
      " 7   _Pre-tax_net_Interest_Rate                                6819 non-null   float64\n",
      " 8   _After-tax_net_Interest_Rate                              6819 non-null   float64\n",
      " 9   _Non-industry_income_and_expenditure/revenue              6819 non-null   float64\n",
      " 10  _Continuous_interest_rate_(after_tax)                     6819 non-null   float64\n",
      " 11  _Operating_Expense_Rate                                   6819 non-null   float64\n",
      " 12  _Research_and_development_expense_rate                    6819 non-null   float64\n",
      " 13  _Cash_flow_rate                                           6819 non-null   float64\n",
      " 14  _Interest-bearing_debt_interest_rate                      6819 non-null   float64\n",
      " 15  _Tax_rate_(A)                                             6819 non-null   float64\n",
      " 16  _Net_Value_Per_Share_(B)                                  6819 non-null   float64\n",
      " 17  _Net_Value_Per_Share_(A)                                  6819 non-null   float64\n",
      " 18  _Net_Value_Per_Share_(C)                                  6819 non-null   float64\n",
      " 19  _Persistent_EPS_in_the_Last_Four_Seasons                  6819 non-null   float64\n",
      " 20  _Cash_Flow_Per_Share                                      6819 non-null   float64\n",
      " 21  _Revenue_Per_Share_(Yuan_¥)                               6819 non-null   float64\n",
      " 22  _Operating_Profit_Per_Share_(Yuan_¥)                      6819 non-null   float64\n",
      " 23  _Per_Share_Net_profit_before_tax_(Yuan_¥)                 6819 non-null   float64\n",
      " 24  _Realized_Sales_Gross_Profit_Growth_Rate                  6819 non-null   float64\n",
      " 25  _Operating_Profit_Growth_Rate                             6819 non-null   float64\n",
      " 26  _After-tax_Net_Profit_Growth_Rate                         6819 non-null   float64\n",
      " 27  _Regular_Net_Profit_Growth_Rate                           6819 non-null   float64\n",
      " 28  _Continuous_Net_Profit_Growth_Rate                        6819 non-null   float64\n",
      " 29  _Total_Asset_Growth_Rate                                  6819 non-null   float64\n",
      " 30  _Net_Value_Growth_Rate                                    6819 non-null   float64\n",
      " 31  _Total_Asset_Return_Growth_Rate_Ratio                     6819 non-null   float64\n",
      " 32  _Cash_Reinvestment_%                                      6819 non-null   float64\n",
      " 33  _Current_Ratio                                            6819 non-null   float64\n",
      " 34  _Quick_Ratio                                              6819 non-null   float64\n",
      " 35  _Interest_Expense_Ratio                                   6819 non-null   float64\n",
      " 36  _Total_debt/Total_net_worth                               6819 non-null   float64\n",
      " 37  _Debt_ratio_%                                             6819 non-null   float64\n",
      " 38  _Net_worth/Assets                                         6819 non-null   float64\n",
      " 39  _Long-term_fund_suitability_ratio_(A)                     6819 non-null   float64\n",
      " 40  _Borrowing_dependency                                     6819 non-null   float64\n",
      " 41  _Contingent_liabilities/Net_worth                         6819 non-null   float64\n",
      " 42  _Operating_profit/Paid-in_capital                         6819 non-null   float64\n",
      " 43  _Net_profit_before_tax/Paid-in_capital                    6819 non-null   float64\n",
      " 44  _Inventory_and_accounts_receivable/Net_value              6819 non-null   float64\n",
      " 45  _Total_Asset_Turnover                                     6819 non-null   float64\n",
      " 46  _Accounts_Receivable_Turnover                             6819 non-null   float64\n",
      " 47  _Average_Collection_Days                                  6819 non-null   float64\n",
      " 48  _Inventory_Turnover_Rate_(times)                          6819 non-null   float64\n",
      " 49  _Fixed_Assets_Turnover_Frequency                          6819 non-null   float64\n",
      " 50  _Net_Worth_Turnover_Rate_(times)                          6819 non-null   float64\n",
      " 51  _Revenue_per_person                                       6819 non-null   float64\n",
      " 52  _Operating_profit_per_person                              6819 non-null   float64\n",
      " 53  _Allocation_rate_per_person                               6819 non-null   float64\n",
      " 54  _Working_Capital_to_Total_Assets                          6819 non-null   float64\n",
      " 55  _Quick_Assets/Total_Assets                                6819 non-null   float64\n",
      " 56  _Current_Assets/Total_Assets                              6819 non-null   float64\n",
      " 57  _Cash/Total_Assets                                        6819 non-null   float64\n",
      " 58  _Quick_Assets/Current_Liability                           6819 non-null   float64\n",
      " 59  _Cash/Current_Liability                                   6819 non-null   float64\n",
      " 60  _Current_Liability_to_Assets                              6819 non-null   float64\n",
      " 61  _Operating_Funds_to_Liability                             6819 non-null   float64\n",
      " 62  _Inventory/Working_Capital                                6819 non-null   float64\n",
      " 63  _Inventory/Current_Liability                              6819 non-null   float64\n",
      " 64  _Current_Liabilities/Liability                            6819 non-null   float64\n",
      " 65  _Working_Capital/Equity                                   6819 non-null   float64\n",
      " 66  _Current_Liabilities/Equity                               6819 non-null   float64\n",
      " 67  _Long-term_Liability_to_Current_Assets                    6819 non-null   float64\n",
      " 68  _Retained_Earnings_to_Total_Assets                        6819 non-null   float64\n",
      " 69  _Total_income/Total_expense                               6819 non-null   float64\n",
      " 70  _Total_expense/Assets                                     6819 non-null   float64\n",
      " 71  _Current_Asset_Turnover_Rate                              6819 non-null   float64\n",
      " 72  _Quick_Asset_Turnover_Rate                                6819 non-null   float64\n",
      " 73  _Working_capitcal_Turnover_Rate                           6819 non-null   float64\n",
      " 74  _Cash_Turnover_Rate                                       6819 non-null   float64\n",
      " 75  _Cash_Flow_to_Sales                                       6819 non-null   float64\n",
      " 76  _Fixed_Assets_to_Assets                                   6819 non-null   float64\n",
      " 77  _Current_Liability_to_Liability                           6819 non-null   float64\n",
      " 78  _Current_Liability_to_Equity                              6819 non-null   float64\n",
      " 79  _Equity_to_Long-term_Liability                            6819 non-null   float64\n",
      " 80  _Cash_Flow_to_Total_Assets                                6819 non-null   float64\n",
      " 81  _Cash_Flow_to_Liability                                   6819 non-null   float64\n",
      " 82  _CFO_to_Assets                                            6819 non-null   float64\n",
      " 83  _Cash_Flow_to_Equity                                      6819 non-null   float64\n",
      " 84  _Current_Liability_to_Current_Assets                      6819 non-null   float64\n",
      " 85  _Liability-Assets_Flag                                    6819 non-null   int64  \n",
      " 86  _Net_Income_to_Total_Assets                               6819 non-null   float64\n",
      " 87  _Total_assets_to_GNP_price                                6819 non-null   float64\n",
      " 88  _No-credit_Interval                                       6819 non-null   float64\n",
      " 89  _Gross_Profit_to_Sales                                    6819 non-null   float64\n",
      " 90  _Net_Income_to_Stockholder's_Equity                       6819 non-null   float64\n",
      " 91  _Liability_to_Equity                                      6819 non-null   float64\n",
      " 92  _Degree_of_Financial_Leverage_(DFL)                       6819 non-null   float64\n",
      " 93  _Interest_Coverage_Ratio_(Interest_expense_to_EBIT)       6819 non-null   float64\n",
      " 94  _Net_Income_Flag                                          6819 non-null   int64  \n",
      " 95  _Equity_to_Liability                                      6819 non-null   float64\n",
      "dtypes: float64(93), int64(3)\n",
      "memory usage: 5.0 MB\n"
     ]
    }
   ],
   "source": [
    "df.info()"
   ]
  },
  {
   "cell_type": "code",
   "execution_count": 5,
   "id": "5508b470",
   "metadata": {
    "ExecuteTime": {
     "end_time": "2023-03-29T04:04:49.136361Z",
     "start_time": "2023-03-29T04:04:49.121362Z"
    }
   },
   "outputs": [
    {
     "data": {
      "text/plain": [
       "0"
      ]
     },
     "execution_count": 5,
     "metadata": {},
     "output_type": "execute_result"
    }
   ],
   "source": [
    "(df.isna().sum() > 0).sum()"
   ]
  },
  {
   "cell_type": "code",
   "execution_count": 6,
   "id": "24fd8f58",
   "metadata": {
    "ExecuteTime": {
     "end_time": "2023-03-29T04:04:49.663955Z",
     "start_time": "2023-03-29T04:04:49.543867Z"
    }
   },
   "outputs": [
    {
     "data": {
      "image/png": "[encoded data removed]",
      "text/plain": [
       "<Figure size 432x288 with 1 Axes>"
      ]
     },
     "metadata": {
      "needs_background": "light"
     },
     "output_type": "display_data"
    }
   ],
   "source": [
    "df['Bankrupt?'].value_counts(normalize= True).plot(kind= 'bar')\n",
    "plt.xlabel(\"Bankrupt classes\")\n",
    "plt.ylabel(\"Frequancy\")\n",
    "plt.title(\"Class balance\");"
   ]
  },
  {
   "cell_type": "code",
   "execution_count": 7,
   "id": "bc5f790b",
   "metadata": {
    "ExecuteTime": {
     "end_time": "2023-03-29T04:04:50.228874Z",
     "start_time": "2023-03-29T04:04:50.144314Z"
    }
   },
   "outputs": [
    {
     "data": {
      "image/png": "[encoded data removed]",
      "text/plain": [
       "<Figure size 432x288 with 1 Axes>"
      ]
     },
     "metadata": {
      "needs_background": "light"
     },
     "output_type": "display_data"
    }
   ],
   "source": [
    "sns.boxenplot(x=\"Bankrupt?\" , y=\"_Operating_Gross_Margin\" , data=df)\n",
    "plt.xlabel(\"Bankrupt classes\")\n",
    "plt.ylabel(\"Groos profit /Net sales\")\n",
    "plt.title(\"Distribution of Profit/Net sales Ratio, by Class\");"
   ]
  },
  {
   "cell_type": "code",
   "execution_count": 8,
   "id": "44b0f91b",
   "metadata": {
    "ExecuteTime": {
     "end_time": "2023-03-29T04:04:51.693749Z",
     "start_time": "2023-03-29T04:04:51.675796Z"
    }
   },
   "outputs": [
    {
     "data": {
      "text/plain": [
       "count    6,819\n",
       "mean         1\n",
       "std          0\n",
       "min          0\n",
       "25%          1\n",
       "50%          1\n",
       "75%          1\n",
       "max          1\n",
       "Name: _Operating_Gross_Margin, dtype: object"
      ]
     },
     "execution_count": 8,
     "metadata": {},
     "output_type": "execute_result"
    }
   ],
   "source": [
    "df['_Operating_Gross_Margin'].describe().apply(\"{0:,.0f}\".format)"
   ]
  },
  {
   "cell_type": "code",
   "execution_count": 9,
   "id": "d8e67773",
   "metadata": {
    "ExecuteTime": {
     "end_time": "2023-03-29T04:04:52.221900Z",
     "start_time": "2023-03-29T04:04:52.118216Z"
    }
   },
   "outputs": [
    {
     "data": {
      "image/png": "[encoded data removed]",
      "text/plain": [
       "<Figure size 432x288 with 1 Axes>"
      ]
     },
     "metadata": {
      "needs_background": "light"
     },
     "output_type": "display_data"
    }
   ],
   "source": [
    "df[\"_Operating_Gross_Margin\"].hist()\n",
    "plt.xlabel(\"Groos profit /Net sales\")\n",
    "plt.ylabel(\"count\")\n",
    "plt.title(\"Distrbution of Groos profit /Net sales Ratio\");"
   ]
  },
  {
   "cell_type": "code",
   "execution_count": 10,
   "id": "631f3e0b",
   "metadata": {
    "ExecuteTime": {
     "end_time": "2023-03-29T04:04:53.848450Z",
     "start_time": "2023-03-29T04:04:53.762657Z"
    }
   },
   "outputs": [
    {
     "data": {
      "image/png": "[encoded data removed]",
      "text/plain": [
       "<Figure size 432x288 with 1 Axes>"
      ]
     },
     "metadata": {
      "needs_background": "light"
     },
     "output_type": "display_data"
    }
   ],
   "source": [
    "q1 , q9 = df['_Operating_Gross_Margin'].quantile([0.1,0.9])\n",
    "mask = df[\"_Operating_Gross_Margin\"].between(q1 , q9)\n",
    "sns.boxplot(x='Bankrupt?' , y='_Operating_Gross_Margin', data= df[mask])\n",
    "plt.xlabel(\"Bankrupt\")\n",
    "plt.ylabel(\"Groos profit /Net sales\")\n",
    "plt.title(\"Distribution of Groos profit /Net sales Ratio, by Bankruptcy Status\");"
   ]
  },
  {
   "cell_type": "code",
   "execution_count": 11,
   "id": "53e49074",
   "metadata": {
    "ExecuteTime": {
     "end_time": "2023-03-29T04:04:54.268359Z",
     "start_time": "2023-03-29T04:04:54.179409Z"
    }
   },
   "outputs": [
    {
     "data": {
      "image/png": "[encoded data removed]",
      "text/plain": [
       "<Figure size 432x288 with 1 Axes>"
      ]
     },
     "metadata": {
      "needs_background": "light"
     },
     "output_type": "display_data"
    }
   ],
   "source": [
    "df['_Total_assets_to_GNP_price'].hist();"
   ]
  },
  {
   "cell_type": "code",
   "execution_count": 12,
   "id": "5ced2b93",
   "metadata": {
    "ExecuteTime": {
     "end_time": "2023-03-29T04:04:55.527708Z",
     "start_time": "2023-03-29T04:04:55.444215Z"
    }
   },
   "outputs": [
    {
     "data": {
      "image/png": "[encoded data removed]",
      "text/plain": [
       "<Figure size 432x288 with 1 Axes>"
      ]
     },
     "metadata": {
      "needs_background": "light"
     },
     "output_type": "display_data"
    }
   ],
   "source": [
    "df['_Total_assets_to_GNP_price'].hist();"
   ]
  },
  {
   "cell_type": "code",
   "execution_count": 13,
   "id": "8eda8114",
   "metadata": {
    "ExecuteTime": {
     "end_time": "2023-03-29T04:04:56.471128Z",
     "start_time": "2023-03-29T04:04:55.828729Z"
    }
   },
   "outputs": [
    {
     "data": {
      "image/png": "[encoded data removed]",
      "text/plain": [
       "<Figure size 432x288 with 2 Axes>"
      ]
     },
     "metadata": {
      "needs_background": "light"
     },
     "output_type": "display_data"
    }
   ],
   "source": [
    "corr = df.drop(columns=['Bankrupt?']).corr()\n",
    "sns.heatmap(corr);"
   ]
  },
  {
   "cell_type": "markdown",
   "id": "51174a0d",
   "metadata": {},
   "source": [
    "## Split"
   ]
  },
  {
   "cell_type": "code",
   "execution_count": 14,
   "id": "8918a2ee",
   "metadata": {
    "ExecuteTime": {
     "end_time": "2023-03-29T04:04:58.383450Z",
     "start_time": "2023-03-29T04:04:58.366384Z"
    }
   },
   "outputs": [
    {
     "name": "stdout",
     "output_type": "stream",
     "text": [
      "X shape: (6819, 95)\n",
      "y shape: (6819,)\n"
     ]
    }
   ],
   "source": [
    "target = \"Bankrupt?\"\n",
    "X = df.drop(columns=[target])\n",
    "y = df[target]\n",
    "\n",
    "print(\"X shape:\", X.shape)\n",
    "print(\"y shape:\", y.shape)"
   ]
  },
  {
   "cell_type": "code",
   "execution_count": 15,
   "id": "8f83b09d",
   "metadata": {
    "ExecuteTime": {
     "end_time": "2023-03-29T04:04:58.850173Z",
     "start_time": "2023-03-29T04:04:58.830655Z"
    }
   },
   "outputs": [],
   "source": [
    "X_train , X_test , y_train , y_test = train_test_split(X , y , test_size=0.2 , random_state=42)"
   ]
  },
  {
   "cell_type": "code",
   "execution_count": 16,
   "id": "3061a804",
   "metadata": {
    "ExecuteTime": {
     "end_time": "2023-03-29T04:04:59.296437Z",
     "start_time": "2023-03-29T04:04:59.285472Z"
    }
   },
   "outputs": [
    {
     "name": "stdout",
     "output_type": "stream",
     "text": [
      "X_train shape: (5455, 95)\n",
      "y_train shape: (5455,)\n",
      "X_test shape: (1364, 95)\n",
      "y_test shape: (1364,)\n"
     ]
    }
   ],
   "source": [
    "print(\"X_train shape:\", X_train.shape)\n",
    "print(\"y_train shape:\", y_train.shape)\n",
    "print(\"X_test shape:\", X_test.shape)\n",
    "print(\"y_test shape:\", y_test.shape)"
   ]
  },
  {
   "cell_type": "markdown",
   "id": "8691f257",
   "metadata": {},
   "source": [
    "## Resample"
   ]
  },
  {
   "cell_type": "code",
   "execution_count": 17,
   "id": "6a5319bf",
   "metadata": {
    "ExecuteTime": {
     "end_time": "2023-03-29T04:05:01.167620Z",
     "start_time": "2023-03-29T04:05:01.112522Z"
    }
   },
   "outputs": [
    {
     "name": "stdout",
     "output_type": "stream",
     "text": [
      "(10572, 95)\n"
     ]
    },
    {
     "data": {
      "text/html": [
       "<div>\n",
       "<style scoped>\n",
       "    .dataframe tbody tr th:only-of-type {\n",
       "        vertical-align: middle;\n",
       "    }\n",
       "\n",
       "    .dataframe tbody tr th {\n",
       "        vertical-align: top;\n",
       "    }\n",
       "\n",
       "    .dataframe thead th {\n",
       "        text-align: right;\n",
       "    }\n",
       "</style>\n",
       "<table border=\"1\" class=\"dataframe\">\n",
       "  <thead>\n",
       "    <tr style=\"text-align: right;\">\n",
       "      <th></th>\n",
       "      <th>_ROA(C)_before_interest_and_depreciation_before_interest</th>\n",
       "      <th>_ROA(A)_before_interest_and_%_after_tax</th>\n",
       "      <th>_ROA(B)_before_interest_and_depreciation_after_tax</th>\n",
       "      <th>_Operating_Gross_Margin</th>\n",
       "      <th>_Realized_Sales_Gross_Margin</th>\n",
       "      <th>_Operating_Profit_Rate</th>\n",
       "      <th>_Pre-tax_net_Interest_Rate</th>\n",
       "      <th>_After-tax_net_Interest_Rate</th>\n",
       "      <th>_Non-industry_income_and_expenditure/revenue</th>\n",
       "      <th>_Continuous_interest_rate_(after_tax)</th>\n",
       "      <th>...</th>\n",
       "      <th>_Net_Income_to_Total_Assets</th>\n",
       "      <th>_Total_assets_to_GNP_price</th>\n",
       "      <th>_No-credit_Interval</th>\n",
       "      <th>_Gross_Profit_to_Sales</th>\n",
       "      <th>_Net_Income_to_Stockholder's_Equity</th>\n",
       "      <th>_Liability_to_Equity</th>\n",
       "      <th>_Degree_of_Financial_Leverage_(DFL)</th>\n",
       "      <th>_Interest_Coverage_Ratio_(Interest_expense_to_EBIT)</th>\n",
       "      <th>_Net_Income_Flag</th>\n",
       "      <th>_Equity_to_Liability</th>\n",
       "    </tr>\n",
       "  </thead>\n",
       "  <tbody>\n",
       "    <tr>\n",
       "      <th>0</th>\n",
       "      <td>0.498513</td>\n",
       "      <td>0.542848</td>\n",
       "      <td>0.544622</td>\n",
       "      <td>0.599194</td>\n",
       "      <td>0.599036</td>\n",
       "      <td>0.998986</td>\n",
       "      <td>0.797412</td>\n",
       "      <td>0.809330</td>\n",
       "      <td>0.303528</td>\n",
       "      <td>0.781593</td>\n",
       "      <td>...</td>\n",
       "      <td>0.801313</td>\n",
       "      <td>0.005821</td>\n",
       "      <td>0.623649</td>\n",
       "      <td>0.599196</td>\n",
       "      <td>0.840580</td>\n",
       "      <td>0.282564</td>\n",
       "      <td>0.027239</td>\n",
       "      <td>0.566658</td>\n",
       "      <td>1</td>\n",
       "      <td>0.022512</td>\n",
       "    </tr>\n",
       "    <tr>\n",
       "      <th>1</th>\n",
       "      <td>0.506606</td>\n",
       "      <td>0.562309</td>\n",
       "      <td>0.558863</td>\n",
       "      <td>0.609334</td>\n",
       "      <td>0.609334</td>\n",
       "      <td>0.999027</td>\n",
       "      <td>0.797450</td>\n",
       "      <td>0.809375</td>\n",
       "      <td>0.303508</td>\n",
       "      <td>0.781637</td>\n",
       "      <td>...</td>\n",
       "      <td>0.810914</td>\n",
       "      <td>0.000481</td>\n",
       "      <td>0.623932</td>\n",
       "      <td>0.609332</td>\n",
       "      <td>0.841339</td>\n",
       "      <td>0.280570</td>\n",
       "      <td>0.026843</td>\n",
       "      <td>0.565395</td>\n",
       "      <td>1</td>\n",
       "      <td>0.026670</td>\n",
       "    </tr>\n",
       "    <tr>\n",
       "      <th>2</th>\n",
       "      <td>0.508799</td>\n",
       "      <td>0.561001</td>\n",
       "      <td>0.554687</td>\n",
       "      <td>0.614242</td>\n",
       "      <td>0.614055</td>\n",
       "      <td>0.999094</td>\n",
       "      <td>0.797533</td>\n",
       "      <td>0.809424</td>\n",
       "      <td>0.303514</td>\n",
       "      <td>0.781692</td>\n",
       "      <td>...</td>\n",
       "      <td>0.809740</td>\n",
       "      <td>0.001397</td>\n",
       "      <td>0.623714</td>\n",
       "      <td>0.614241</td>\n",
       "      <td>0.840969</td>\n",
       "      <td>0.277772</td>\n",
       "      <td>0.026864</td>\n",
       "      <td>0.565484</td>\n",
       "      <td>1</td>\n",
       "      <td>0.041556</td>\n",
       "    </tr>\n",
       "    <tr>\n",
       "      <th>3</th>\n",
       "      <td>0.499976</td>\n",
       "      <td>0.562527</td>\n",
       "      <td>0.546764</td>\n",
       "      <td>0.597825</td>\n",
       "      <td>0.597825</td>\n",
       "      <td>0.999004</td>\n",
       "      <td>0.797411</td>\n",
       "      <td>0.809329</td>\n",
       "      <td>0.303490</td>\n",
       "      <td>0.781590</td>\n",
       "      <td>...</td>\n",
       "      <td>0.810082</td>\n",
       "      <td>0.000998</td>\n",
       "      <td>0.623986</td>\n",
       "      <td>0.597824</td>\n",
       "      <td>0.841885</td>\n",
       "      <td>0.286871</td>\n",
       "      <td>0.026951</td>\n",
       "      <td>0.565820</td>\n",
       "      <td>1</td>\n",
       "      <td>0.018173</td>\n",
       "    </tr>\n",
       "    <tr>\n",
       "      <th>4</th>\n",
       "      <td>0.477892</td>\n",
       "      <td>0.547700</td>\n",
       "      <td>0.529150</td>\n",
       "      <td>0.600362</td>\n",
       "      <td>0.600362</td>\n",
       "      <td>0.998975</td>\n",
       "      <td>0.797412</td>\n",
       "      <td>0.809333</td>\n",
       "      <td>0.303551</td>\n",
       "      <td>0.781584</td>\n",
       "      <td>...</td>\n",
       "      <td>0.804638</td>\n",
       "      <td>0.002826</td>\n",
       "      <td>0.623845</td>\n",
       "      <td>0.600363</td>\n",
       "      <td>0.840885</td>\n",
       "      <td>0.282073</td>\n",
       "      <td>0.026959</td>\n",
       "      <td>0.565848</td>\n",
       "      <td>1</td>\n",
       "      <td>0.023328</td>\n",
       "    </tr>\n",
       "  </tbody>\n",
       "</table>\n",
       "<p>5 rows × 95 columns</p>\n",
       "</div>"
      ],
      "text/plain": [
       "   _ROA(C)_before_interest_and_depreciation_before_interest  \\\n",
       "0                                           0.498513          \n",
       "1                                           0.506606          \n",
       "2                                           0.508799          \n",
       "3                                           0.499976          \n",
       "4                                           0.477892          \n",
       "\n",
       "   _ROA(A)_before_interest_and_%_after_tax  \\\n",
       "0                                 0.542848   \n",
       "1                                 0.562309   \n",
       "2                                 0.561001   \n",
       "3                                 0.562527   \n",
       "4                                 0.547700   \n",
       "\n",
       "   _ROA(B)_before_interest_and_depreciation_after_tax  \\\n",
       "0                                           0.544622    \n",
       "1                                           0.558863    \n",
       "2                                           0.554687    \n",
       "3                                           0.546764    \n",
       "4                                           0.529150    \n",
       "\n",
       "   _Operating_Gross_Margin  _Realized_Sales_Gross_Margin  \\\n",
       "0                 0.599194                      0.599036   \n",
       "1                 0.609334                      0.609334   \n",
       "2                 0.614242                      0.614055   \n",
       "3                 0.597825                      0.597825   \n",
       "4                 0.600362                      0.600362   \n",
       "\n",
       "   _Operating_Profit_Rate  _Pre-tax_net_Interest_Rate  \\\n",
       "0                0.998986                    0.797412   \n",
       "1                0.999027                    0.797450   \n",
       "2                0.999094                    0.797533   \n",
       "3                0.999004                    0.797411   \n",
       "4                0.998975                    0.797412   \n",
       "\n",
       "   _After-tax_net_Interest_Rate  _Non-industry_income_and_expenditure/revenue  \\\n",
       "0                      0.809330                                      0.303528   \n",
       "1                      0.809375                                      0.303508   \n",
       "2                      0.809424                                      0.303514   \n",
       "3                      0.809329                                      0.303490   \n",
       "4                      0.809333                                      0.303551   \n",
       "\n",
       "   _Continuous_interest_rate_(after_tax)  ...  _Net_Income_to_Total_Assets  \\\n",
       "0                               0.781593  ...                     0.801313   \n",
       "1                               0.781637  ...                     0.810914   \n",
       "2                               0.781692  ...                     0.809740   \n",
       "3                               0.781590  ...                     0.810082   \n",
       "4                               0.781584  ...                     0.804638   \n",
       "\n",
       "   _Total_assets_to_GNP_price  _No-credit_Interval  _Gross_Profit_to_Sales  \\\n",
       "0                    0.005821             0.623649                0.599196   \n",
       "1                    0.000481             0.623932                0.609332   \n",
       "2                    0.001397             0.623714                0.614241   \n",
       "3                    0.000998             0.623986                0.597824   \n",
       "4                    0.002826             0.623845                0.600363   \n",
       "\n",
       "   _Net_Income_to_Stockholder's_Equity  _Liability_to_Equity  \\\n",
       "0                             0.840580              0.282564   \n",
       "1                             0.841339              0.280570   \n",
       "2                             0.840969              0.277772   \n",
       "3                             0.841885              0.286871   \n",
       "4                             0.840885              0.282073   \n",
       "\n",
       "   _Degree_of_Financial_Leverage_(DFL)  \\\n",
       "0                             0.027239   \n",
       "1                             0.026843   \n",
       "2                             0.026864   \n",
       "3                             0.026951   \n",
       "4                             0.026959   \n",
       "\n",
       "   _Interest_Coverage_Ratio_(Interest_expense_to_EBIT)  _Net_Income_Flag  \\\n",
       "0                                           0.566658                   1   \n",
       "1                                           0.565395                   1   \n",
       "2                                           0.565484                   1   \n",
       "3                                           0.565820                   1   \n",
       "4                                           0.565848                   1   \n",
       "\n",
       "   _Equity_to_Liability  \n",
       "0              0.022512  \n",
       "1              0.026670  \n",
       "2              0.041556  \n",
       "3              0.018173  \n",
       "4              0.023328  \n",
       "\n",
       "[5 rows x 95 columns]"
      ]
     },
     "execution_count": 17,
     "metadata": {},
     "output_type": "execute_result"
    }
   ],
   "source": [
    "over_sampler = RandomOverSampler(random_state=42)\n",
    "X_train_over , y_train_over = over_sampler.fit_resample(X_train , y_train)\n",
    "print(X_train_over.shape)\n",
    "X_train_over.head()"
   ]
  },
  {
   "cell_type": "markdown",
   "id": "5723b3f2",
   "metadata": {},
   "source": [
    "## Build BaseLine"
   ]
  },
  {
   "cell_type": "code",
   "execution_count": 18,
   "id": "1c7d31ed",
   "metadata": {
    "ExecuteTime": {
     "end_time": "2023-03-29T04:05:02.331672Z",
     "start_time": "2023-03-29T04:05:02.320341Z"
    }
   },
   "outputs": [
    {
     "name": "stdout",
     "output_type": "stream",
     "text": [
      "Baseline Accuracy: 0.969\n"
     ]
    }
   ],
   "source": [
    "acc_baseline = y_train.value_counts(normalize=True).max()\n",
    "print(\"Baseline Accuracy:\", round(acc_baseline, 4))"
   ]
  },
  {
   "cell_type": "markdown",
   "id": "1f7001f0",
   "metadata": {},
   "source": [
    "## iterate"
   ]
  },
  {
   "cell_type": "code",
   "execution_count": 19,
   "id": "f67be896",
   "metadata": {
    "ExecuteTime": {
     "end_time": "2023-03-29T04:05:05.011197Z",
     "start_time": "2023-03-29T04:05:05.005162Z"
    }
   },
   "outputs": [],
   "source": [
    "clf = make_pipeline(RandomForestClassifier(random_state=42))"
   ]
  },
  {
   "cell_type": "code",
   "execution_count": 20,
   "id": "13347a23",
   "metadata": {
    "ExecuteTime": {
     "end_time": "2023-03-29T04:05:05.367585Z",
     "start_time": "2023-03-29T04:05:05.361577Z"
    }
   },
   "outputs": [
    {
     "data": {
      "text/plain": [
       "{'randomforestclassifier__n_estimators': range(25, 100, 25),\n",
       " 'randomforestclassifier__max_depth': range(10, 70, 10)}"
      ]
     },
     "execution_count": 20,
     "metadata": {},
     "output_type": "execute_result"
    }
   ],
   "source": [
    "params= {\n",
    "    \n",
    "    \"randomforestclassifier__n_estimators\":range(25 , 100 , 25),\n",
    "    \"randomforestclassifier__max_depth\": range(10 , 70 , 10)\n",
    "    \n",
    "}\n",
    "params"
   ]
  },
  {
   "cell_type": "code",
   "execution_count": 21,
   "id": "9209387f",
   "metadata": {
    "ExecuteTime": {
     "end_time": "2023-03-29T04:05:05.863920Z",
     "start_time": "2023-03-29T04:05:05.848310Z"
    }
   },
   "outputs": [
    {
     "data": {
      "text/plain": [
       "GridSearchCV(cv=5,\n",
       "             estimator=Pipeline(steps=[('randomforestclassifier',\n",
       "                                        RandomForestClassifier(random_state=42))]),\n",
       "             n_jobs=-1,\n",
       "             param_grid={'randomforestclassifier__max_depth': range(10, 70, 10),\n",
       "                         'randomforestclassifier__n_estimators': range(25, 100, 25)},\n",
       "             verbose=1)"
      ]
     },
     "execution_count": 21,
     "metadata": {},
     "output_type": "execute_result"
    }
   ],
   "source": [
    "model = GridSearchCV(\n",
    "\n",
    "    clf,\n",
    "    param_grid= params,\n",
    "    cv=5,\n",
    "    n_jobs=-1,\n",
    "    verbose= 1\n",
    "\n",
    ")\n",
    "model"
   ]
  },
  {
   "cell_type": "code",
   "execution_count": 22,
   "id": "c64d1ecf",
   "metadata": {
    "ExecuteTime": {
     "end_time": "2023-03-29T04:05:25.521728Z",
     "start_time": "2023-03-29T04:05:06.412954Z"
    }
   },
   "outputs": [
    {
     "name": "stdout",
     "output_type": "stream",
     "text": [
      "Fitting 5 folds for each of 18 candidates, totalling 90 fits\n"
     ]
    },
    {
     "data": {
      "text/plain": [
       "GridSearchCV(cv=5,\n",
       "             estimator=Pipeline(steps=[('randomforestclassifier',\n",
       "                                        RandomForestClassifier(random_state=42))]),\n",
       "             n_jobs=-1,\n",
       "             param_grid={'randomforestclassifier__max_depth': range(10, 70, 10),\n",
       "                         'randomforestclassifier__n_estimators': range(25, 100, 25)},\n",
       "             verbose=1)"
      ]
     },
     "execution_count": 22,
     "metadata": {},
     "output_type": "execute_result"
    }
   ],
   "source": [
    "model.fit(X_train_over , y_train_over)"
   ]
  },
  {
   "cell_type": "code",
   "execution_count": 23,
   "id": "1dfdf22c",
   "metadata": {
    "ExecuteTime": {
     "end_time": "2023-03-29T04:05:29.234137Z",
     "start_time": "2023-03-29T04:05:29.205167Z"
    }
   },
   "outputs": [
    {
     "data": {
      "text/html": [
       "<div>\n",
       "<style scoped>\n",
       "    .dataframe tbody tr th:only-of-type {\n",
       "        vertical-align: middle;\n",
       "    }\n",
       "\n",
       "    .dataframe tbody tr th {\n",
       "        vertical-align: top;\n",
       "    }\n",
       "\n",
       "    .dataframe thead th {\n",
       "        text-align: right;\n",
       "    }\n",
       "</style>\n",
       "<table border=\"1\" class=\"dataframe\">\n",
       "  <thead>\n",
       "    <tr style=\"text-align: right;\">\n",
       "      <th></th>\n",
       "      <th>mean_fit_time</th>\n",
       "      <th>std_fit_time</th>\n",
       "      <th>mean_score_time</th>\n",
       "      <th>std_score_time</th>\n",
       "      <th>param_randomforestclassifier__max_depth</th>\n",
       "      <th>param_randomforestclassifier__n_estimators</th>\n",
       "      <th>params</th>\n",
       "      <th>split0_test_score</th>\n",
       "      <th>split1_test_score</th>\n",
       "      <th>split2_test_score</th>\n",
       "      <th>split3_test_score</th>\n",
       "      <th>split4_test_score</th>\n",
       "      <th>mean_test_score</th>\n",
       "      <th>std_test_score</th>\n",
       "      <th>rank_test_score</th>\n",
       "    </tr>\n",
       "  </thead>\n",
       "  <tbody>\n",
       "    <tr>\n",
       "      <th>0</th>\n",
       "      <td>0.699547</td>\n",
       "      <td>0.031900</td>\n",
       "      <td>0.012773</td>\n",
       "      <td>0.001671</td>\n",
       "      <td>10</td>\n",
       "      <td>25</td>\n",
       "      <td>{'randomforestclassifier__max_depth': 10, 'ran...</td>\n",
       "      <td>0.979196</td>\n",
       "      <td>0.977778</td>\n",
       "      <td>0.980132</td>\n",
       "      <td>0.978713</td>\n",
       "      <td>0.979659</td>\n",
       "      <td>0.979096</td>\n",
       "      <td>0.000811</td>\n",
       "      <td>17</td>\n",
       "    </tr>\n",
       "    <tr>\n",
       "      <th>1</th>\n",
       "      <td>1.414797</td>\n",
       "      <td>0.046326</td>\n",
       "      <td>0.023807</td>\n",
       "      <td>0.007429</td>\n",
       "      <td>10</td>\n",
       "      <td>50</td>\n",
       "      <td>{'randomforestclassifier__max_depth': 10, 'ran...</td>\n",
       "      <td>0.979669</td>\n",
       "      <td>0.979196</td>\n",
       "      <td>0.980132</td>\n",
       "      <td>0.979186</td>\n",
       "      <td>0.979186</td>\n",
       "      <td>0.979474</td>\n",
       "      <td>0.000378</td>\n",
       "      <td>16</td>\n",
       "    </tr>\n",
       "    <tr>\n",
       "      <th>2</th>\n",
       "      <td>2.078956</td>\n",
       "      <td>0.112207</td>\n",
       "      <td>0.029068</td>\n",
       "      <td>0.002590</td>\n",
       "      <td>10</td>\n",
       "      <td>75</td>\n",
       "      <td>{'randomforestclassifier__max_depth': 10, 'ran...</td>\n",
       "      <td>0.979196</td>\n",
       "      <td>0.980142</td>\n",
       "      <td>0.977294</td>\n",
       "      <td>0.979659</td>\n",
       "      <td>0.978713</td>\n",
       "      <td>0.979001</td>\n",
       "      <td>0.000977</td>\n",
       "      <td>18</td>\n",
       "    </tr>\n",
       "    <tr>\n",
       "      <th>3</th>\n",
       "      <td>0.889267</td>\n",
       "      <td>0.068835</td>\n",
       "      <td>0.014102</td>\n",
       "      <td>0.002012</td>\n",
       "      <td>20</td>\n",
       "      <td>25</td>\n",
       "      <td>{'randomforestclassifier__max_depth': 20, 'ran...</td>\n",
       "      <td>0.985816</td>\n",
       "      <td>0.985816</td>\n",
       "      <td>0.990066</td>\n",
       "      <td>0.988647</td>\n",
       "      <td>0.988647</td>\n",
       "      <td>0.987798</td>\n",
       "      <td>0.001700</td>\n",
       "      <td>15</td>\n",
       "    </tr>\n",
       "    <tr>\n",
       "      <th>4</th>\n",
       "      <td>1.625623</td>\n",
       "      <td>0.064373</td>\n",
       "      <td>0.022030</td>\n",
       "      <td>0.001315</td>\n",
       "      <td>20</td>\n",
       "      <td>50</td>\n",
       "      <td>{'randomforestclassifier__max_depth': 20, 'ran...</td>\n",
       "      <td>0.987234</td>\n",
       "      <td>0.987707</td>\n",
       "      <td>0.989120</td>\n",
       "      <td>0.990066</td>\n",
       "      <td>0.987701</td>\n",
       "      <td>0.988366</td>\n",
       "      <td>0.001060</td>\n",
       "      <td>14</td>\n",
       "    </tr>\n",
       "    <tr>\n",
       "      <th>5</th>\n",
       "      <td>2.435875</td>\n",
       "      <td>0.101257</td>\n",
       "      <td>0.030052</td>\n",
       "      <td>0.001007</td>\n",
       "      <td>20</td>\n",
       "      <td>75</td>\n",
       "      <td>{'randomforestclassifier__max_depth': 20, 'ran...</td>\n",
       "      <td>0.987234</td>\n",
       "      <td>0.988180</td>\n",
       "      <td>0.990066</td>\n",
       "      <td>0.989120</td>\n",
       "      <td>0.988174</td>\n",
       "      <td>0.988555</td>\n",
       "      <td>0.000963</td>\n",
       "      <td>13</td>\n",
       "    </tr>\n",
       "    <tr>\n",
       "      <th>6</th>\n",
       "      <td>0.915199</td>\n",
       "      <td>0.040409</td>\n",
       "      <td>0.016604</td>\n",
       "      <td>0.005238</td>\n",
       "      <td>30</td>\n",
       "      <td>25</td>\n",
       "      <td>{'randomforestclassifier__max_depth': 30, 'ran...</td>\n",
       "      <td>0.992435</td>\n",
       "      <td>0.992908</td>\n",
       "      <td>0.991958</td>\n",
       "      <td>0.991485</td>\n",
       "      <td>0.991485</td>\n",
       "      <td>0.992054</td>\n",
       "      <td>0.000553</td>\n",
       "      <td>12</td>\n",
       "    </tr>\n",
       "    <tr>\n",
       "      <th>7</th>\n",
       "      <td>1.783889</td>\n",
       "      <td>0.053952</td>\n",
       "      <td>0.025510</td>\n",
       "      <td>0.005011</td>\n",
       "      <td>30</td>\n",
       "      <td>50</td>\n",
       "      <td>{'randomforestclassifier__max_depth': 30, 'ran...</td>\n",
       "      <td>0.992435</td>\n",
       "      <td>0.992908</td>\n",
       "      <td>0.993377</td>\n",
       "      <td>0.994324</td>\n",
       "      <td>0.992431</td>\n",
       "      <td>0.993095</td>\n",
       "      <td>0.000707</td>\n",
       "      <td>11</td>\n",
       "    </tr>\n",
       "    <tr>\n",
       "      <th>8</th>\n",
       "      <td>2.556857</td>\n",
       "      <td>0.024221</td>\n",
       "      <td>0.033306</td>\n",
       "      <td>0.003131</td>\n",
       "      <td>30</td>\n",
       "      <td>75</td>\n",
       "      <td>{'randomforestclassifier__max_depth': 30, 'ran...</td>\n",
       "      <td>0.992435</td>\n",
       "      <td>0.992908</td>\n",
       "      <td>0.993377</td>\n",
       "      <td>0.994324</td>\n",
       "      <td>0.992904</td>\n",
       "      <td>0.993190</td>\n",
       "      <td>0.000641</td>\n",
       "      <td>10</td>\n",
       "    </tr>\n",
       "    <tr>\n",
       "      <th>9</th>\n",
       "      <td>0.934969</td>\n",
       "      <td>0.026677</td>\n",
       "      <td>0.014004</td>\n",
       "      <td>0.000896</td>\n",
       "      <td>40</td>\n",
       "      <td>25</td>\n",
       "      <td>{'randomforestclassifier__max_depth': 40, 'ran...</td>\n",
       "      <td>0.992908</td>\n",
       "      <td>0.994326</td>\n",
       "      <td>0.993851</td>\n",
       "      <td>0.993851</td>\n",
       "      <td>0.994797</td>\n",
       "      <td>0.993946</td>\n",
       "      <td>0.000627</td>\n",
       "      <td>9</td>\n",
       "    </tr>\n",
       "    <tr>\n",
       "      <th>10</th>\n",
       "      <td>1.808409</td>\n",
       "      <td>0.056759</td>\n",
       "      <td>0.023336</td>\n",
       "      <td>0.000846</td>\n",
       "      <td>40</td>\n",
       "      <td>50</td>\n",
       "      <td>{'randomforestclassifier__max_depth': 40, 'ran...</td>\n",
       "      <td>0.992435</td>\n",
       "      <td>0.995745</td>\n",
       "      <td>0.994797</td>\n",
       "      <td>0.996216</td>\n",
       "      <td>0.995743</td>\n",
       "      <td>0.994987</td>\n",
       "      <td>0.001357</td>\n",
       "      <td>3</td>\n",
       "    </tr>\n",
       "    <tr>\n",
       "      <th>11</th>\n",
       "      <td>2.698999</td>\n",
       "      <td>0.072722</td>\n",
       "      <td>0.032126</td>\n",
       "      <td>0.001113</td>\n",
       "      <td>40</td>\n",
       "      <td>75</td>\n",
       "      <td>{'randomforestclassifier__max_depth': 40, 'ran...</td>\n",
       "      <td>0.992435</td>\n",
       "      <td>0.994799</td>\n",
       "      <td>0.994324</td>\n",
       "      <td>0.995270</td>\n",
       "      <td>0.994324</td>\n",
       "      <td>0.994230</td>\n",
       "      <td>0.000964</td>\n",
       "      <td>6</td>\n",
       "    </tr>\n",
       "    <tr>\n",
       "      <th>12</th>\n",
       "      <td>0.929557</td>\n",
       "      <td>0.034947</td>\n",
       "      <td>0.014505</td>\n",
       "      <td>0.000891</td>\n",
       "      <td>50</td>\n",
       "      <td>25</td>\n",
       "      <td>{'randomforestclassifier__max_depth': 50, 'ran...</td>\n",
       "      <td>0.992435</td>\n",
       "      <td>0.994326</td>\n",
       "      <td>0.993851</td>\n",
       "      <td>0.994324</td>\n",
       "      <td>0.994797</td>\n",
       "      <td>0.993946</td>\n",
       "      <td>0.000813</td>\n",
       "      <td>7</td>\n",
       "    </tr>\n",
       "    <tr>\n",
       "      <th>13</th>\n",
       "      <td>1.823335</td>\n",
       "      <td>0.052103</td>\n",
       "      <td>0.025413</td>\n",
       "      <td>0.002173</td>\n",
       "      <td>50</td>\n",
       "      <td>50</td>\n",
       "      <td>{'randomforestclassifier__max_depth': 50, 'ran...</td>\n",
       "      <td>0.992435</td>\n",
       "      <td>0.995745</td>\n",
       "      <td>0.995270</td>\n",
       "      <td>0.996689</td>\n",
       "      <td>0.995743</td>\n",
       "      <td>0.995176</td>\n",
       "      <td>0.001446</td>\n",
       "      <td>1</td>\n",
       "    </tr>\n",
       "    <tr>\n",
       "      <th>14</th>\n",
       "      <td>2.769745</td>\n",
       "      <td>0.170773</td>\n",
       "      <td>0.032995</td>\n",
       "      <td>0.001456</td>\n",
       "      <td>50</td>\n",
       "      <td>75</td>\n",
       "      <td>{'randomforestclassifier__max_depth': 50, 'ran...</td>\n",
       "      <td>0.991962</td>\n",
       "      <td>0.995272</td>\n",
       "      <td>0.993851</td>\n",
       "      <td>0.996216</td>\n",
       "      <td>0.994324</td>\n",
       "      <td>0.994325</td>\n",
       "      <td>0.001434</td>\n",
       "      <td>4</td>\n",
       "    </tr>\n",
       "    <tr>\n",
       "      <th>15</th>\n",
       "      <td>0.939405</td>\n",
       "      <td>0.032649</td>\n",
       "      <td>0.014835</td>\n",
       "      <td>0.001221</td>\n",
       "      <td>60</td>\n",
       "      <td>25</td>\n",
       "      <td>{'randomforestclassifier__max_depth': 60, 'ran...</td>\n",
       "      <td>0.992435</td>\n",
       "      <td>0.994326</td>\n",
       "      <td>0.993851</td>\n",
       "      <td>0.994324</td>\n",
       "      <td>0.994797</td>\n",
       "      <td>0.993946</td>\n",
       "      <td>0.000813</td>\n",
       "      <td>7</td>\n",
       "    </tr>\n",
       "    <tr>\n",
       "      <th>16</th>\n",
       "      <td>1.850400</td>\n",
       "      <td>0.083685</td>\n",
       "      <td>0.022168</td>\n",
       "      <td>0.002065</td>\n",
       "      <td>60</td>\n",
       "      <td>50</td>\n",
       "      <td>{'randomforestclassifier__max_depth': 60, 'ran...</td>\n",
       "      <td>0.992435</td>\n",
       "      <td>0.995745</td>\n",
       "      <td>0.995270</td>\n",
       "      <td>0.996689</td>\n",
       "      <td>0.995743</td>\n",
       "      <td>0.995176</td>\n",
       "      <td>0.001446</td>\n",
       "      <td>1</td>\n",
       "    </tr>\n",
       "    <tr>\n",
       "      <th>17</th>\n",
       "      <td>2.187467</td>\n",
       "      <td>0.140704</td>\n",
       "      <td>0.021405</td>\n",
       "      <td>0.003380</td>\n",
       "      <td>60</td>\n",
       "      <td>75</td>\n",
       "      <td>{'randomforestclassifier__max_depth': 60, 'ran...</td>\n",
       "      <td>0.991962</td>\n",
       "      <td>0.995272</td>\n",
       "      <td>0.993851</td>\n",
       "      <td>0.996216</td>\n",
       "      <td>0.994324</td>\n",
       "      <td>0.994325</td>\n",
       "      <td>0.001434</td>\n",
       "      <td>4</td>\n",
       "    </tr>\n",
       "  </tbody>\n",
       "</table>\n",
       "</div>"
      ],
      "text/plain": [
       "    mean_fit_time  std_fit_time  mean_score_time  std_score_time  \\\n",
       "0        0.699547      0.031900         0.012773        0.001671   \n",
       "1        1.414797      0.046326         0.023807        0.007429   \n",
       "2        2.078956      0.112207         0.029068        0.002590   \n",
       "3        0.889267      0.068835         0.014102        0.002012   \n",
       "4        1.625623      0.064373         0.022030        0.001315   \n",
       "5        2.435875      0.101257         0.030052        0.001007   \n",
       "6        0.915199      0.040409         0.016604        0.005238   \n",
       "7        1.783889      0.053952         0.025510        0.005011   \n",
       "8        2.556857      0.024221         0.033306        0.003131   \n",
       "9        0.934969      0.026677         0.014004        0.000896   \n",
       "10       1.808409      0.056759         0.023336        0.000846   \n",
       "11       2.698999      0.072722         0.032126        0.001113   \n",
       "12       0.929557      0.034947         0.014505        0.000891   \n",
       "13       1.823335      0.052103         0.025413        0.002173   \n",
       "14       2.769745      0.170773         0.032995        0.001456   \n",
       "15       0.939405      0.032649         0.014835        0.001221   \n",
       "16       1.850400      0.083685         0.022168        0.002065   \n",
       "17       2.187467      0.140704         0.021405        0.003380   \n",
       "\n",
       "   param_randomforestclassifier__max_depth  \\\n",
       "0                                       10   \n",
       "1                                       10   \n",
       "2                                       10   \n",
       "3                                       20   \n",
       "4                                       20   \n",
       "5                                       20   \n",
       "6                                       30   \n",
       "7                                       30   \n",
       "8                                       30   \n",
       "9                                       40   \n",
       "10                                      40   \n",
       "11                                      40   \n",
       "12                                      50   \n",
       "13                                      50   \n",
       "14                                      50   \n",
       "15                                      60   \n",
       "16                                      60   \n",
       "17                                      60   \n",
       "\n",
       "   param_randomforestclassifier__n_estimators  \\\n",
       "0                                          25   \n",
       "1                                          50   \n",
       "2                                          75   \n",
       "3                                          25   \n",
       "4                                          50   \n",
       "5                                          75   \n",
       "6                                          25   \n",
       "7                                          50   \n",
       "8                                          75   \n",
       "9                                          25   \n",
       "10                                         50   \n",
       "11                                         75   \n",
       "12                                         25   \n",
       "13                                         50   \n",
       "14                                         75   \n",
       "15                                         25   \n",
       "16                                         50   \n",
       "17                                         75   \n",
       "\n",
       "                                               params  split0_test_score  \\\n",
       "0   {'randomforestclassifier__max_depth': 10, 'ran...           0.979196   \n",
       "1   {'randomforestclassifier__max_depth': 10, 'ran...           0.979669   \n",
       "2   {'randomforestclassifier__max_depth': 10, 'ran...           0.979196   \n",
       "3   {'randomforestclassifier__max_depth': 20, 'ran...           0.985816   \n",
       "4   {'randomforestclassifier__max_depth': 20, 'ran...           0.987234   \n",
       "5   {'randomforestclassifier__max_depth': 20, 'ran...           0.987234   \n",
       "6   {'randomforestclassifier__max_depth': 30, 'ran...           0.992435   \n",
       "7   {'randomforestclassifier__max_depth': 30, 'ran...           0.992435   \n",
       "8   {'randomforestclassifier__max_depth': 30, 'ran...           0.992435   \n",
       "9   {'randomforestclassifier__max_depth': 40, 'ran...           0.992908   \n",
       "10  {'randomforestclassifier__max_depth': 40, 'ran...           0.992435   \n",
       "11  {'randomforestclassifier__max_depth': 40, 'ran...           0.992435   \n",
       "12  {'randomforestclassifier__max_depth': 50, 'ran...           0.992435   \n",
       "13  {'randomforestclassifier__max_depth': 50, 'ran...           0.992435   \n",
       "14  {'randomforestclassifier__max_depth': 50, 'ran...           0.991962   \n",
       "15  {'randomforestclassifier__max_depth': 60, 'ran...           0.992435   \n",
       "16  {'randomforestclassifier__max_depth': 60, 'ran...           0.992435   \n",
       "17  {'randomforestclassifier__max_depth': 60, 'ran...           0.991962   \n",
       "\n",
       "    split1_test_score  split2_test_score  split3_test_score  \\\n",
       "0            0.977778           0.980132           0.978713   \n",
       "1            0.979196           0.980132           0.979186   \n",
       "2            0.980142           0.977294           0.979659   \n",
       "3            0.985816           0.990066           0.988647   \n",
       "4            0.987707           0.989120           0.990066   \n",
       "5            0.988180           0.990066           0.989120   \n",
       "6            0.992908           0.991958           0.991485   \n",
       "7            0.992908           0.993377           0.994324   \n",
       "8            0.992908           0.993377           0.994324   \n",
       "9            0.994326           0.993851           0.993851   \n",
       "10           0.995745           0.994797           0.996216   \n",
       "11           0.994799           0.994324           0.995270   \n",
       "12           0.994326           0.993851           0.994324   \n",
       "13           0.995745           0.995270           0.996689   \n",
       "14           0.995272           0.993851           0.996216   \n",
       "15           0.994326           0.993851           0.994324   \n",
       "16           0.995745           0.995270           0.996689   \n",
       "17           0.995272           0.993851           0.996216   \n",
       "\n",
       "    split4_test_score  mean_test_score  std_test_score  rank_test_score  \n",
       "0            0.979659         0.979096        0.000811               17  \n",
       "1            0.979186         0.979474        0.000378               16  \n",
       "2            0.978713         0.979001        0.000977               18  \n",
       "3            0.988647         0.987798        0.001700               15  \n",
       "4            0.987701         0.988366        0.001060               14  \n",
       "5            0.988174         0.988555        0.000963               13  \n",
       "6            0.991485         0.992054        0.000553               12  \n",
       "7            0.992431         0.993095        0.000707               11  \n",
       "8            0.992904         0.993190        0.000641               10  \n",
       "9            0.994797         0.993946        0.000627                9  \n",
       "10           0.995743         0.994987        0.001357                3  \n",
       "11           0.994324         0.994230        0.000964                6  \n",
       "12           0.994797         0.993946        0.000813                7  \n",
       "13           0.995743         0.995176        0.001446                1  \n",
       "14           0.994324         0.994325        0.001434                4  \n",
       "15           0.994797         0.993946        0.000813                7  \n",
       "16           0.995743         0.995176        0.001446                1  \n",
       "17           0.994324         0.994325        0.001434                4  "
      ]
     },
     "execution_count": 23,
     "metadata": {},
     "output_type": "execute_result"
    }
   ],
   "source": [
    "cv_results = pd.DataFrame(model.cv_results_)\n",
    "cv_results"
   ]
  },
  {
   "cell_type": "code",
   "execution_count": 24,
   "id": "7642dbc5",
   "metadata": {
    "ExecuteTime": {
     "end_time": "2023-03-29T04:05:31.537124Z",
     "start_time": "2023-03-29T04:05:31.530028Z"
    }
   },
   "outputs": [
    {
     "data": {
      "text/plain": [
       "{'randomforestclassifier__max_depth': 50,\n",
       " 'randomforestclassifier__n_estimators': 50}"
      ]
     },
     "execution_count": 24,
     "metadata": {},
     "output_type": "execute_result"
    }
   ],
   "source": [
    "model.best_params_"
   ]
  },
  {
   "cell_type": "code",
   "execution_count": 25,
   "id": "12b43b15",
   "metadata": {
    "ExecuteTime": {
     "end_time": "2023-03-29T04:05:32.722477Z",
     "start_time": "2023-03-29T04:05:32.653392Z"
    }
   },
   "outputs": [
    {
     "data": {
      "text/plain": [
       "array([0, 0, 0, ..., 1, 1, 1], dtype=int64)"
      ]
     },
     "execution_count": 25,
     "metadata": {},
     "output_type": "execute_result"
    }
   ],
   "source": [
    "model.predict(X_train_over)"
   ]
  },
  {
   "cell_type": "markdown",
   "id": "162bdbe6",
   "metadata": {},
   "source": [
    "## Evaluate"
   ]
  },
  {
   "cell_type": "code",
   "execution_count": 26,
   "id": "e196dab1",
   "metadata": {
    "ExecuteTime": {
     "end_time": "2023-03-29T04:05:33.880255Z",
     "start_time": "2023-03-29T04:05:33.792490Z"
    }
   },
   "outputs": [
    {
     "name": "stdout",
     "output_type": "stream",
     "text": [
      "Training accuracy: 1.0\n",
      "test accuracy: 0.967\n"
     ]
    }
   ],
   "source": [
    "acc_train = model.score(X_train_over , y_train_over)\n",
    "acc_test = model.score(X_test , y_test)\n",
    "\n",
    "print(f\"Training accuracy: {round(acc_train , 4)}\")\n",
    "print(f\"test accuracy: {round(acc_test , 4)}\")"
   ]
  },
  {
   "cell_type": "code",
   "execution_count": 27,
   "id": "6911e149",
   "metadata": {
    "ExecuteTime": {
     "end_time": "2023-03-29T04:05:35.221855Z",
     "start_time": "2023-03-29T04:05:35.119412Z"
    }
   },
   "outputs": [
    {
     "data": {
      "image/png": "[encoded data removed]",
      "text/plain": [
       "<Figure size 432x288 with 2 Axes>"
      ]
     },
     "metadata": {
      "needs_background": "light"
     },
     "output_type": "display_data"
    }
   ],
   "source": [
    "ConfusionMatrixDisplay.from_estimator(\n",
    "\n",
    "    model,\n",
    "    X_test,\n",
    "    y_test\n",
    "    \n",
    ");"
   ]
  },
  {
   "cell_type": "markdown",
   "id": "873a5813",
   "metadata": {},
   "source": [
    "## Communication"
   ]
  },
  {
   "cell_type": "code",
   "execution_count": 28,
   "id": "2e6a29c6",
   "metadata": {
    "ExecuteTime": {
     "end_time": "2023-03-29T04:05:37.274294Z",
     "start_time": "2023-03-29T04:05:37.262227Z"
    }
   },
   "outputs": [],
   "source": [
    "features = X_test.columns\n",
    "importances = model.best_estimator_.named_steps['randomforestclassifier'].feature_importances_"
   ]
  },
  {
   "cell_type": "code",
   "execution_count": 29,
   "id": "bfa9f9bb",
   "metadata": {
    "ExecuteTime": {
     "end_time": "2023-03-29T04:05:37.744354Z",
     "start_time": "2023-03-29T04:05:37.649973Z"
    }
   },
   "outputs": [
    {
     "data": {
      "image/png": "[encoded data removed]",
      "text/plain": [
       "<Figure size 432x288 with 1 Axes>"
      ]
     },
     "metadata": {
      "needs_background": "light"
     },
     "output_type": "display_data"
    }
   ],
   "source": [
    "feat_imp = pd.Series(importances , index=features).sort_values()\n",
    "feat_imp.tail().plot(kind= 'barh')\n",
    "plt.xlabel(\"Gini Importance\")\n",
    "plt.ylabel(\"Feature\")\n",
    "plt.title(\"Feature Importance\");"
   ]
  },
  {
   "cell_type": "code",
   "execution_count": 30,
   "id": "39a13a6a",
   "metadata": {
    "ExecuteTime": {
     "end_time": "2023-03-29T04:05:40.313793Z",
     "start_time": "2023-03-29T04:05:40.292193Z"
    }
   },
   "outputs": [],
   "source": [
    "with open(\"model-1\" , \"wb\") as f:\n",
    "    pickle.dump(model ,f)"
   ]
  }
 ],
 "metadata": {
  "kernelspec": {
   "display_name": "Python 3 (ipykernel)",
   "language": "python",
   "name": "python3"
  },
  "language_info": {
   "codemirror_mode": {
    "name": "ipython",
    "version": 3
   },
   "file_extension": ".py",
   "mimetype": "text/x-python",
   "name": "python",
   "nbconvert_exporter": "python",
   "pygments_lexer": "ipython3",
   "version": "3.9.12"
  }
 },
 "nbformat": 4,
 "nbformat_minor": 5
}
