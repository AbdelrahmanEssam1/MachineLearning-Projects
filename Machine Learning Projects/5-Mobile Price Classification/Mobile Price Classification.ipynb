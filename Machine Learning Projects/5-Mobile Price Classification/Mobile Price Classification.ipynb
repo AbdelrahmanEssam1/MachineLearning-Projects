{
 "cells": [
  {
   "cell_type": "markdown",
   "id": "5d82b043",
   "metadata": {},
   "source": [
    "## Mobile Price Classification"
   ]
  },
  {
   "cell_type": "markdown",
   "id": "4832a629",
   "metadata": {},
   "source": [
    "## Importing toolkit"
   ]
  },
  {
   "cell_type": "code",
   "execution_count": 1,
   "id": "38efe385",
   "metadata": {
    "ExecuteTime": {
     "end_time": "2023-03-31T12:42:35.550604Z",
     "start_time": "2023-03-31T12:42:34.003464Z"
    }
   },
   "outputs": [],
   "source": [
    "import pickle\n",
    "import matplotlib.pyplot as plt\n",
    "import pandas as pd\n",
    "import numpy as np\n",
    "import seaborn as sns\n",
    "from sklearn.preprocessing import MinMaxScaler\n",
    "from sklearn.linear_model import LogisticRegression\n",
    "from sklearn.svm import SVC\n",
    "from sklearn.metrics import ConfusionMatrixDisplay , classification_report\n",
    "from sklearn.model_selection import train_test_split"
   ]
  },
  {
   "cell_type": "markdown",
   "id": "2679bce3",
   "metadata": {},
   "source": [
    "## Data preparation"
   ]
  },
  {
   "cell_type": "code",
   "execution_count": 2,
   "id": "424d03ab",
   "metadata": {
    "ExecuteTime": {
     "end_time": "2023-03-31T12:42:35.600050Z",
     "start_time": "2023-03-31T12:42:35.552643Z"
    }
   },
   "outputs": [
    {
     "data": {
      "text/html": [
       "<div>\n",
       "<style scoped>\n",
       "    .dataframe tbody tr th:only-of-type {\n",
       "        vertical-align: middle;\n",
       "    }\n",
       "\n",
       "    .dataframe tbody tr th {\n",
       "        vertical-align: top;\n",
       "    }\n",
       "\n",
       "    .dataframe thead th {\n",
       "        text-align: right;\n",
       "    }\n",
       "</style>\n",
       "<table border=\"1\" class=\"dataframe\">\n",
       "  <thead>\n",
       "    <tr style=\"text-align: right;\">\n",
       "      <th></th>\n",
       "      <th>0</th>\n",
       "      <th>1</th>\n",
       "      <th>2</th>\n",
       "      <th>3</th>\n",
       "      <th>4</th>\n",
       "      <th>5</th>\n",
       "      <th>6</th>\n",
       "      <th>7</th>\n",
       "      <th>8</th>\n",
       "      <th>9</th>\n",
       "      <th>...</th>\n",
       "      <th>1990</th>\n",
       "      <th>1991</th>\n",
       "      <th>1992</th>\n",
       "      <th>1993</th>\n",
       "      <th>1994</th>\n",
       "      <th>1995</th>\n",
       "      <th>1996</th>\n",
       "      <th>1997</th>\n",
       "      <th>1998</th>\n",
       "      <th>1999</th>\n",
       "    </tr>\n",
       "  </thead>\n",
       "  <tbody>\n",
       "    <tr>\n",
       "      <th>battery_power</th>\n",
       "      <td>842.0</td>\n",
       "      <td>1021.0</td>\n",
       "      <td>563.0</td>\n",
       "      <td>615.0</td>\n",
       "      <td>1821.0</td>\n",
       "      <td>1859.0</td>\n",
       "      <td>1821.0</td>\n",
       "      <td>1954.0</td>\n",
       "      <td>1445.0</td>\n",
       "      <td>509.0</td>\n",
       "      <td>...</td>\n",
       "      <td>1617.0</td>\n",
       "      <td>1882.0</td>\n",
       "      <td>674.0</td>\n",
       "      <td>1467.0</td>\n",
       "      <td>858.0</td>\n",
       "      <td>794.0</td>\n",
       "      <td>1965.0</td>\n",
       "      <td>1911.0</td>\n",
       "      <td>1512.0</td>\n",
       "      <td>510.0</td>\n",
       "    </tr>\n",
       "    <tr>\n",
       "      <th>blue</th>\n",
       "      <td>0.0</td>\n",
       "      <td>1.0</td>\n",
       "      <td>1.0</td>\n",
       "      <td>1.0</td>\n",
       "      <td>1.0</td>\n",
       "      <td>0.0</td>\n",
       "      <td>0.0</td>\n",
       "      <td>0.0</td>\n",
       "      <td>1.0</td>\n",
       "      <td>1.0</td>\n",
       "      <td>...</td>\n",
       "      <td>1.0</td>\n",
       "      <td>0.0</td>\n",
       "      <td>1.0</td>\n",
       "      <td>1.0</td>\n",
       "      <td>0.0</td>\n",
       "      <td>1.0</td>\n",
       "      <td>1.0</td>\n",
       "      <td>0.0</td>\n",
       "      <td>0.0</td>\n",
       "      <td>1.0</td>\n",
       "    </tr>\n",
       "    <tr>\n",
       "      <th>clock_speed</th>\n",
       "      <td>2.2</td>\n",
       "      <td>0.5</td>\n",
       "      <td>0.5</td>\n",
       "      <td>2.5</td>\n",
       "      <td>1.2</td>\n",
       "      <td>0.5</td>\n",
       "      <td>1.7</td>\n",
       "      <td>0.5</td>\n",
       "      <td>0.5</td>\n",
       "      <td>0.6</td>\n",
       "      <td>...</td>\n",
       "      <td>2.4</td>\n",
       "      <td>2.0</td>\n",
       "      <td>2.9</td>\n",
       "      <td>0.5</td>\n",
       "      <td>2.2</td>\n",
       "      <td>0.5</td>\n",
       "      <td>2.6</td>\n",
       "      <td>0.9</td>\n",
       "      <td>0.9</td>\n",
       "      <td>2.0</td>\n",
       "    </tr>\n",
       "    <tr>\n",
       "      <th>dual_sim</th>\n",
       "      <td>0.0</td>\n",
       "      <td>1.0</td>\n",
       "      <td>1.0</td>\n",
       "      <td>0.0</td>\n",
       "      <td>0.0</td>\n",
       "      <td>1.0</td>\n",
       "      <td>0.0</td>\n",
       "      <td>1.0</td>\n",
       "      <td>0.0</td>\n",
       "      <td>1.0</td>\n",
       "      <td>...</td>\n",
       "      <td>0.0</td>\n",
       "      <td>0.0</td>\n",
       "      <td>1.0</td>\n",
       "      <td>0.0</td>\n",
       "      <td>0.0</td>\n",
       "      <td>1.0</td>\n",
       "      <td>1.0</td>\n",
       "      <td>1.0</td>\n",
       "      <td>0.0</td>\n",
       "      <td>1.0</td>\n",
       "    </tr>\n",
       "    <tr>\n",
       "      <th>fc</th>\n",
       "      <td>1.0</td>\n",
       "      <td>0.0</td>\n",
       "      <td>2.0</td>\n",
       "      <td>0.0</td>\n",
       "      <td>13.0</td>\n",
       "      <td>3.0</td>\n",
       "      <td>4.0</td>\n",
       "      <td>0.0</td>\n",
       "      <td>0.0</td>\n",
       "      <td>2.0</td>\n",
       "      <td>...</td>\n",
       "      <td>8.0</td>\n",
       "      <td>11.0</td>\n",
       "      <td>1.0</td>\n",
       "      <td>0.0</td>\n",
       "      <td>1.0</td>\n",
       "      <td>0.0</td>\n",
       "      <td>0.0</td>\n",
       "      <td>1.0</td>\n",
       "      <td>4.0</td>\n",
       "      <td>5.0</td>\n",
       "    </tr>\n",
       "    <tr>\n",
       "      <th>four_g</th>\n",
       "      <td>0.0</td>\n",
       "      <td>1.0</td>\n",
       "      <td>1.0</td>\n",
       "      <td>0.0</td>\n",
       "      <td>1.0</td>\n",
       "      <td>0.0</td>\n",
       "      <td>1.0</td>\n",
       "      <td>0.0</td>\n",
       "      <td>0.0</td>\n",
       "      <td>1.0</td>\n",
       "      <td>...</td>\n",
       "      <td>1.0</td>\n",
       "      <td>1.0</td>\n",
       "      <td>0.0</td>\n",
       "      <td>0.0</td>\n",
       "      <td>0.0</td>\n",
       "      <td>1.0</td>\n",
       "      <td>0.0</td>\n",
       "      <td>1.0</td>\n",
       "      <td>1.0</td>\n",
       "      <td>1.0</td>\n",
       "    </tr>\n",
       "    <tr>\n",
       "      <th>int_memory</th>\n",
       "      <td>7.0</td>\n",
       "      <td>53.0</td>\n",
       "      <td>41.0</td>\n",
       "      <td>10.0</td>\n",
       "      <td>44.0</td>\n",
       "      <td>22.0</td>\n",
       "      <td>10.0</td>\n",
       "      <td>24.0</td>\n",
       "      <td>53.0</td>\n",
       "      <td>9.0</td>\n",
       "      <td>...</td>\n",
       "      <td>36.0</td>\n",
       "      <td>44.0</td>\n",
       "      <td>21.0</td>\n",
       "      <td>18.0</td>\n",
       "      <td>50.0</td>\n",
       "      <td>2.0</td>\n",
       "      <td>39.0</td>\n",
       "      <td>36.0</td>\n",
       "      <td>46.0</td>\n",
       "      <td>45.0</td>\n",
       "    </tr>\n",
       "    <tr>\n",
       "      <th>m_dep</th>\n",
       "      <td>0.6</td>\n",
       "      <td>0.7</td>\n",
       "      <td>0.9</td>\n",
       "      <td>0.8</td>\n",
       "      <td>0.6</td>\n",
       "      <td>0.7</td>\n",
       "      <td>0.8</td>\n",
       "      <td>0.8</td>\n",
       "      <td>0.7</td>\n",
       "      <td>0.1</td>\n",
       "      <td>...</td>\n",
       "      <td>0.8</td>\n",
       "      <td>0.8</td>\n",
       "      <td>0.2</td>\n",
       "      <td>0.6</td>\n",
       "      <td>0.1</td>\n",
       "      <td>0.8</td>\n",
       "      <td>0.2</td>\n",
       "      <td>0.7</td>\n",
       "      <td>0.1</td>\n",
       "      <td>0.9</td>\n",
       "    </tr>\n",
       "    <tr>\n",
       "      <th>mobile_wt</th>\n",
       "      <td>188.0</td>\n",
       "      <td>136.0</td>\n",
       "      <td>145.0</td>\n",
       "      <td>131.0</td>\n",
       "      <td>141.0</td>\n",
       "      <td>164.0</td>\n",
       "      <td>139.0</td>\n",
       "      <td>187.0</td>\n",
       "      <td>174.0</td>\n",
       "      <td>93.0</td>\n",
       "      <td>...</td>\n",
       "      <td>85.0</td>\n",
       "      <td>113.0</td>\n",
       "      <td>198.0</td>\n",
       "      <td>122.0</td>\n",
       "      <td>84.0</td>\n",
       "      <td>106.0</td>\n",
       "      <td>187.0</td>\n",
       "      <td>108.0</td>\n",
       "      <td>145.0</td>\n",
       "      <td>168.0</td>\n",
       "    </tr>\n",
       "    <tr>\n",
       "      <th>n_cores</th>\n",
       "      <td>2.0</td>\n",
       "      <td>3.0</td>\n",
       "      <td>5.0</td>\n",
       "      <td>6.0</td>\n",
       "      <td>2.0</td>\n",
       "      <td>1.0</td>\n",
       "      <td>8.0</td>\n",
       "      <td>4.0</td>\n",
       "      <td>7.0</td>\n",
       "      <td>5.0</td>\n",
       "      <td>...</td>\n",
       "      <td>1.0</td>\n",
       "      <td>8.0</td>\n",
       "      <td>3.0</td>\n",
       "      <td>5.0</td>\n",
       "      <td>1.0</td>\n",
       "      <td>6.0</td>\n",
       "      <td>4.0</td>\n",
       "      <td>8.0</td>\n",
       "      <td>5.0</td>\n",
       "      <td>6.0</td>\n",
       "    </tr>\n",
       "    <tr>\n",
       "      <th>pc</th>\n",
       "      <td>2.0</td>\n",
       "      <td>6.0</td>\n",
       "      <td>6.0</td>\n",
       "      <td>9.0</td>\n",
       "      <td>14.0</td>\n",
       "      <td>7.0</td>\n",
       "      <td>10.0</td>\n",
       "      <td>0.0</td>\n",
       "      <td>14.0</td>\n",
       "      <td>15.0</td>\n",
       "      <td>...</td>\n",
       "      <td>9.0</td>\n",
       "      <td>19.0</td>\n",
       "      <td>4.0</td>\n",
       "      <td>0.0</td>\n",
       "      <td>2.0</td>\n",
       "      <td>14.0</td>\n",
       "      <td>3.0</td>\n",
       "      <td>3.0</td>\n",
       "      <td>5.0</td>\n",
       "      <td>16.0</td>\n",
       "    </tr>\n",
       "    <tr>\n",
       "      <th>px_height</th>\n",
       "      <td>20.0</td>\n",
       "      <td>905.0</td>\n",
       "      <td>1263.0</td>\n",
       "      <td>1216.0</td>\n",
       "      <td>1208.0</td>\n",
       "      <td>1004.0</td>\n",
       "      <td>381.0</td>\n",
       "      <td>512.0</td>\n",
       "      <td>386.0</td>\n",
       "      <td>1137.0</td>\n",
       "      <td>...</td>\n",
       "      <td>743.0</td>\n",
       "      <td>4.0</td>\n",
       "      <td>576.0</td>\n",
       "      <td>888.0</td>\n",
       "      <td>528.0</td>\n",
       "      <td>1222.0</td>\n",
       "      <td>915.0</td>\n",
       "      <td>868.0</td>\n",
       "      <td>336.0</td>\n",
       "      <td>483.0</td>\n",
       "    </tr>\n",
       "    <tr>\n",
       "      <th>px_width</th>\n",
       "      <td>756.0</td>\n",
       "      <td>1988.0</td>\n",
       "      <td>1716.0</td>\n",
       "      <td>1786.0</td>\n",
       "      <td>1212.0</td>\n",
       "      <td>1654.0</td>\n",
       "      <td>1018.0</td>\n",
       "      <td>1149.0</td>\n",
       "      <td>836.0</td>\n",
       "      <td>1224.0</td>\n",
       "      <td>...</td>\n",
       "      <td>1426.0</td>\n",
       "      <td>743.0</td>\n",
       "      <td>1809.0</td>\n",
       "      <td>1099.0</td>\n",
       "      <td>1416.0</td>\n",
       "      <td>1890.0</td>\n",
       "      <td>1965.0</td>\n",
       "      <td>1632.0</td>\n",
       "      <td>670.0</td>\n",
       "      <td>754.0</td>\n",
       "    </tr>\n",
       "    <tr>\n",
       "      <th>ram</th>\n",
       "      <td>2549.0</td>\n",
       "      <td>2631.0</td>\n",
       "      <td>2603.0</td>\n",
       "      <td>2769.0</td>\n",
       "      <td>1411.0</td>\n",
       "      <td>1067.0</td>\n",
       "      <td>3220.0</td>\n",
       "      <td>700.0</td>\n",
       "      <td>1099.0</td>\n",
       "      <td>513.0</td>\n",
       "      <td>...</td>\n",
       "      <td>296.0</td>\n",
       "      <td>3579.0</td>\n",
       "      <td>1180.0</td>\n",
       "      <td>3962.0</td>\n",
       "      <td>3978.0</td>\n",
       "      <td>668.0</td>\n",
       "      <td>2032.0</td>\n",
       "      <td>3057.0</td>\n",
       "      <td>869.0</td>\n",
       "      <td>3919.0</td>\n",
       "    </tr>\n",
       "    <tr>\n",
       "      <th>sc_h</th>\n",
       "      <td>9.0</td>\n",
       "      <td>17.0</td>\n",
       "      <td>11.0</td>\n",
       "      <td>16.0</td>\n",
       "      <td>8.0</td>\n",
       "      <td>17.0</td>\n",
       "      <td>13.0</td>\n",
       "      <td>16.0</td>\n",
       "      <td>17.0</td>\n",
       "      <td>19.0</td>\n",
       "      <td>...</td>\n",
       "      <td>5.0</td>\n",
       "      <td>19.0</td>\n",
       "      <td>6.0</td>\n",
       "      <td>15.0</td>\n",
       "      <td>17.0</td>\n",
       "      <td>13.0</td>\n",
       "      <td>11.0</td>\n",
       "      <td>9.0</td>\n",
       "      <td>18.0</td>\n",
       "      <td>19.0</td>\n",
       "    </tr>\n",
       "    <tr>\n",
       "      <th>sc_w</th>\n",
       "      <td>7.0</td>\n",
       "      <td>3.0</td>\n",
       "      <td>2.0</td>\n",
       "      <td>8.0</td>\n",
       "      <td>2.0</td>\n",
       "      <td>1.0</td>\n",
       "      <td>8.0</td>\n",
       "      <td>3.0</td>\n",
       "      <td>1.0</td>\n",
       "      <td>10.0</td>\n",
       "      <td>...</td>\n",
       "      <td>3.0</td>\n",
       "      <td>8.0</td>\n",
       "      <td>3.0</td>\n",
       "      <td>11.0</td>\n",
       "      <td>16.0</td>\n",
       "      <td>4.0</td>\n",
       "      <td>10.0</td>\n",
       "      <td>1.0</td>\n",
       "      <td>10.0</td>\n",
       "      <td>4.0</td>\n",
       "    </tr>\n",
       "    <tr>\n",
       "      <th>talk_time</th>\n",
       "      <td>19.0</td>\n",
       "      <td>7.0</td>\n",
       "      <td>9.0</td>\n",
       "      <td>11.0</td>\n",
       "      <td>15.0</td>\n",
       "      <td>10.0</td>\n",
       "      <td>18.0</td>\n",
       "      <td>5.0</td>\n",
       "      <td>20.0</td>\n",
       "      <td>12.0</td>\n",
       "      <td>...</td>\n",
       "      <td>7.0</td>\n",
       "      <td>20.0</td>\n",
       "      <td>4.0</td>\n",
       "      <td>5.0</td>\n",
       "      <td>3.0</td>\n",
       "      <td>19.0</td>\n",
       "      <td>16.0</td>\n",
       "      <td>5.0</td>\n",
       "      <td>19.0</td>\n",
       "      <td>2.0</td>\n",
       "    </tr>\n",
       "    <tr>\n",
       "      <th>three_g</th>\n",
       "      <td>0.0</td>\n",
       "      <td>1.0</td>\n",
       "      <td>1.0</td>\n",
       "      <td>1.0</td>\n",
       "      <td>1.0</td>\n",
       "      <td>1.0</td>\n",
       "      <td>1.0</td>\n",
       "      <td>1.0</td>\n",
       "      <td>1.0</td>\n",
       "      <td>1.0</td>\n",
       "      <td>...</td>\n",
       "      <td>1.0</td>\n",
       "      <td>1.0</td>\n",
       "      <td>1.0</td>\n",
       "      <td>1.0</td>\n",
       "      <td>1.0</td>\n",
       "      <td>1.0</td>\n",
       "      <td>1.0</td>\n",
       "      <td>1.0</td>\n",
       "      <td>1.0</td>\n",
       "      <td>1.0</td>\n",
       "    </tr>\n",
       "    <tr>\n",
       "      <th>touch_screen</th>\n",
       "      <td>0.0</td>\n",
       "      <td>1.0</td>\n",
       "      <td>1.0</td>\n",
       "      <td>0.0</td>\n",
       "      <td>1.0</td>\n",
       "      <td>0.0</td>\n",
       "      <td>0.0</td>\n",
       "      <td>1.0</td>\n",
       "      <td>0.0</td>\n",
       "      <td>0.0</td>\n",
       "      <td>...</td>\n",
       "      <td>0.0</td>\n",
       "      <td>1.0</td>\n",
       "      <td>1.0</td>\n",
       "      <td>1.0</td>\n",
       "      <td>1.0</td>\n",
       "      <td>1.0</td>\n",
       "      <td>1.0</td>\n",
       "      <td>1.0</td>\n",
       "      <td>1.0</td>\n",
       "      <td>1.0</td>\n",
       "    </tr>\n",
       "    <tr>\n",
       "      <th>wifi</th>\n",
       "      <td>1.0</td>\n",
       "      <td>0.0</td>\n",
       "      <td>0.0</td>\n",
       "      <td>0.0</td>\n",
       "      <td>0.0</td>\n",
       "      <td>0.0</td>\n",
       "      <td>1.0</td>\n",
       "      <td>1.0</td>\n",
       "      <td>0.0</td>\n",
       "      <td>0.0</td>\n",
       "      <td>...</td>\n",
       "      <td>0.0</td>\n",
       "      <td>0.0</td>\n",
       "      <td>1.0</td>\n",
       "      <td>1.0</td>\n",
       "      <td>0.0</td>\n",
       "      <td>0.0</td>\n",
       "      <td>1.0</td>\n",
       "      <td>0.0</td>\n",
       "      <td>1.0</td>\n",
       "      <td>1.0</td>\n",
       "    </tr>\n",
       "    <tr>\n",
       "      <th>price_range</th>\n",
       "      <td>1.0</td>\n",
       "      <td>2.0</td>\n",
       "      <td>2.0</td>\n",
       "      <td>2.0</td>\n",
       "      <td>1.0</td>\n",
       "      <td>1.0</td>\n",
       "      <td>3.0</td>\n",
       "      <td>0.0</td>\n",
       "      <td>0.0</td>\n",
       "      <td>0.0</td>\n",
       "      <td>...</td>\n",
       "      <td>0.0</td>\n",
       "      <td>3.0</td>\n",
       "      <td>0.0</td>\n",
       "      <td>3.0</td>\n",
       "      <td>3.0</td>\n",
       "      <td>0.0</td>\n",
       "      <td>2.0</td>\n",
       "      <td>3.0</td>\n",
       "      <td>0.0</td>\n",
       "      <td>3.0</td>\n",
       "    </tr>\n",
       "  </tbody>\n",
       "</table>\n",
       "<p>21 rows × 2000 columns</p>\n",
       "</div>"
      ],
      "text/plain": [
       "                 0       1       2       3       4       5       6       7     \\\n",
       "battery_power   842.0  1021.0   563.0   615.0  1821.0  1859.0  1821.0  1954.0   \n",
       "blue              0.0     1.0     1.0     1.0     1.0     0.0     0.0     0.0   \n",
       "clock_speed       2.2     0.5     0.5     2.5     1.2     0.5     1.7     0.5   \n",
       "dual_sim          0.0     1.0     1.0     0.0     0.0     1.0     0.0     1.0   \n",
       "fc                1.0     0.0     2.0     0.0    13.0     3.0     4.0     0.0   \n",
       "four_g            0.0     1.0     1.0     0.0     1.0     0.0     1.0     0.0   \n",
       "int_memory        7.0    53.0    41.0    10.0    44.0    22.0    10.0    24.0   \n",
       "m_dep             0.6     0.7     0.9     0.8     0.6     0.7     0.8     0.8   \n",
       "mobile_wt       188.0   136.0   145.0   131.0   141.0   164.0   139.0   187.0   \n",
       "n_cores           2.0     3.0     5.0     6.0     2.0     1.0     8.0     4.0   \n",
       "pc                2.0     6.0     6.0     9.0    14.0     7.0    10.0     0.0   \n",
       "px_height        20.0   905.0  1263.0  1216.0  1208.0  1004.0   381.0   512.0   \n",
       "px_width        756.0  1988.0  1716.0  1786.0  1212.0  1654.0  1018.0  1149.0   \n",
       "ram            2549.0  2631.0  2603.0  2769.0  1411.0  1067.0  3220.0   700.0   \n",
       "sc_h              9.0    17.0    11.0    16.0     8.0    17.0    13.0    16.0   \n",
       "sc_w              7.0     3.0     2.0     8.0     2.0     1.0     8.0     3.0   \n",
       "talk_time        19.0     7.0     9.0    11.0    15.0    10.0    18.0     5.0   \n",
       "three_g           0.0     1.0     1.0     1.0     1.0     1.0     1.0     1.0   \n",
       "touch_screen      0.0     1.0     1.0     0.0     1.0     0.0     0.0     1.0   \n",
       "wifi              1.0     0.0     0.0     0.0     0.0     0.0     1.0     1.0   \n",
       "price_range       1.0     2.0     2.0     2.0     1.0     1.0     3.0     0.0   \n",
       "\n",
       "                 8       9     ...    1990    1991    1992    1993    1994  \\\n",
       "battery_power  1445.0   509.0  ...  1617.0  1882.0   674.0  1467.0   858.0   \n",
       "blue              1.0     1.0  ...     1.0     0.0     1.0     1.0     0.0   \n",
       "clock_speed       0.5     0.6  ...     2.4     2.0     2.9     0.5     2.2   \n",
       "dual_sim          0.0     1.0  ...     0.0     0.0     1.0     0.0     0.0   \n",
       "fc                0.0     2.0  ...     8.0    11.0     1.0     0.0     1.0   \n",
       "four_g            0.0     1.0  ...     1.0     1.0     0.0     0.0     0.0   \n",
       "int_memory       53.0     9.0  ...    36.0    44.0    21.0    18.0    50.0   \n",
       "m_dep             0.7     0.1  ...     0.8     0.8     0.2     0.6     0.1   \n",
       "mobile_wt       174.0    93.0  ...    85.0   113.0   198.0   122.0    84.0   \n",
       "n_cores           7.0     5.0  ...     1.0     8.0     3.0     5.0     1.0   \n",
       "pc               14.0    15.0  ...     9.0    19.0     4.0     0.0     2.0   \n",
       "px_height       386.0  1137.0  ...   743.0     4.0   576.0   888.0   528.0   \n",
       "px_width        836.0  1224.0  ...  1426.0   743.0  1809.0  1099.0  1416.0   \n",
       "ram            1099.0   513.0  ...   296.0  3579.0  1180.0  3962.0  3978.0   \n",
       "sc_h             17.0    19.0  ...     5.0    19.0     6.0    15.0    17.0   \n",
       "sc_w              1.0    10.0  ...     3.0     8.0     3.0    11.0    16.0   \n",
       "talk_time        20.0    12.0  ...     7.0    20.0     4.0     5.0     3.0   \n",
       "three_g           1.0     1.0  ...     1.0     1.0     1.0     1.0     1.0   \n",
       "touch_screen      0.0     0.0  ...     0.0     1.0     1.0     1.0     1.0   \n",
       "wifi              0.0     0.0  ...     0.0     0.0     1.0     1.0     0.0   \n",
       "price_range       0.0     0.0  ...     0.0     3.0     0.0     3.0     3.0   \n",
       "\n",
       "                 1995    1996    1997    1998    1999  \n",
       "battery_power   794.0  1965.0  1911.0  1512.0   510.0  \n",
       "blue              1.0     1.0     0.0     0.0     1.0  \n",
       "clock_speed       0.5     2.6     0.9     0.9     2.0  \n",
       "dual_sim          1.0     1.0     1.0     0.0     1.0  \n",
       "fc                0.0     0.0     1.0     4.0     5.0  \n",
       "four_g            1.0     0.0     1.0     1.0     1.0  \n",
       "int_memory        2.0    39.0    36.0    46.0    45.0  \n",
       "m_dep             0.8     0.2     0.7     0.1     0.9  \n",
       "mobile_wt       106.0   187.0   108.0   145.0   168.0  \n",
       "n_cores           6.0     4.0     8.0     5.0     6.0  \n",
       "pc               14.0     3.0     3.0     5.0    16.0  \n",
       "px_height      1222.0   915.0   868.0   336.0   483.0  \n",
       "px_width       1890.0  1965.0  1632.0   670.0   754.0  \n",
       "ram             668.0  2032.0  3057.0   869.0  3919.0  \n",
       "sc_h             13.0    11.0     9.0    18.0    19.0  \n",
       "sc_w              4.0    10.0     1.0    10.0     4.0  \n",
       "talk_time        19.0    16.0     5.0    19.0     2.0  \n",
       "three_g           1.0     1.0     1.0     1.0     1.0  \n",
       "touch_screen      1.0     1.0     1.0     1.0     1.0  \n",
       "wifi              0.0     1.0     0.0     1.0     1.0  \n",
       "price_range       0.0     2.0     3.0     0.0     3.0  \n",
       "\n",
       "[21 rows x 2000 columns]"
      ]
     },
     "execution_count": 2,
     "metadata": {},
     "output_type": "execute_result"
    }
   ],
   "source": [
    "df_train = pd.read_csv(\"train.csv\")\n",
    "df_train.T"
   ]
  },
  {
   "cell_type": "markdown",
   "id": "354c7a41",
   "metadata": {},
   "source": [
    "## Data Exploration"
   ]
  },
  {
   "cell_type": "code",
   "execution_count": 3,
   "id": "bdc82544",
   "metadata": {
    "ExecuteTime": {
     "end_time": "2023-03-31T12:42:35.613050Z",
     "start_time": "2023-03-31T12:42:35.602049Z"
    }
   },
   "outputs": [
    {
     "name": "stdout",
     "output_type": "stream",
     "text": [
      "<class 'pandas.core.frame.DataFrame'>\n",
      "RangeIndex: 2000 entries, 0 to 1999\n",
      "Data columns (total 21 columns):\n",
      " #   Column         Non-Null Count  Dtype  \n",
      "---  ------         --------------  -----  \n",
      " 0   battery_power  2000 non-null   int64  \n",
      " 1   blue           2000 non-null   int64  \n",
      " 2   clock_speed    2000 non-null   float64\n",
      " 3   dual_sim       2000 non-null   int64  \n",
      " 4   fc             2000 non-null   int64  \n",
      " 5   four_g         2000 non-null   int64  \n",
      " 6   int_memory     2000 non-null   int64  \n",
      " 7   m_dep          2000 non-null   float64\n",
      " 8   mobile_wt      2000 non-null   int64  \n",
      " 9   n_cores        2000 non-null   int64  \n",
      " 10  pc             2000 non-null   int64  \n",
      " 11  px_height      2000 non-null   int64  \n",
      " 12  px_width       2000 non-null   int64  \n",
      " 13  ram            2000 non-null   int64  \n",
      " 14  sc_h           2000 non-null   int64  \n",
      " 15  sc_w           2000 non-null   int64  \n",
      " 16  talk_time      2000 non-null   int64  \n",
      " 17  three_g        2000 non-null   int64  \n",
      " 18  touch_screen   2000 non-null   int64  \n",
      " 19  wifi           2000 non-null   int64  \n",
      " 20  price_range    2000 non-null   int64  \n",
      "dtypes: float64(2), int64(19)\n",
      "memory usage: 328.2 KB\n"
     ]
    }
   ],
   "source": [
    "df_train.info()"
   ]
  },
  {
   "cell_type": "code",
   "execution_count": 4,
   "id": "3d30da48",
   "metadata": {
    "ExecuteTime": {
     "end_time": "2023-03-31T12:42:35.674984Z",
     "start_time": "2023-03-31T12:42:35.615225Z"
    }
   },
   "outputs": [
    {
     "data": {
      "text/html": [
       "<div>\n",
       "<style scoped>\n",
       "    .dataframe tbody tr th:only-of-type {\n",
       "        vertical-align: middle;\n",
       "    }\n",
       "\n",
       "    .dataframe tbody tr th {\n",
       "        vertical-align: top;\n",
       "    }\n",
       "\n",
       "    .dataframe thead th {\n",
       "        text-align: right;\n",
       "    }\n",
       "</style>\n",
       "<table border=\"1\" class=\"dataframe\">\n",
       "  <thead>\n",
       "    <tr style=\"text-align: right;\">\n",
       "      <th></th>\n",
       "      <th>battery_power</th>\n",
       "      <th>blue</th>\n",
       "      <th>clock_speed</th>\n",
       "      <th>dual_sim</th>\n",
       "      <th>fc</th>\n",
       "      <th>four_g</th>\n",
       "      <th>int_memory</th>\n",
       "      <th>m_dep</th>\n",
       "      <th>mobile_wt</th>\n",
       "      <th>n_cores</th>\n",
       "      <th>...</th>\n",
       "      <th>px_height</th>\n",
       "      <th>px_width</th>\n",
       "      <th>ram</th>\n",
       "      <th>sc_h</th>\n",
       "      <th>sc_w</th>\n",
       "      <th>talk_time</th>\n",
       "      <th>three_g</th>\n",
       "      <th>touch_screen</th>\n",
       "      <th>wifi</th>\n",
       "      <th>price_range</th>\n",
       "    </tr>\n",
       "  </thead>\n",
       "  <tbody>\n",
       "    <tr>\n",
       "      <th>count</th>\n",
       "      <td>2000.000000</td>\n",
       "      <td>2000.0000</td>\n",
       "      <td>2000.000000</td>\n",
       "      <td>2000.000000</td>\n",
       "      <td>2000.000000</td>\n",
       "      <td>2000.000000</td>\n",
       "      <td>2000.000000</td>\n",
       "      <td>2000.000000</td>\n",
       "      <td>2000.000000</td>\n",
       "      <td>2000.000000</td>\n",
       "      <td>...</td>\n",
       "      <td>2000.000000</td>\n",
       "      <td>2000.000000</td>\n",
       "      <td>2000.000000</td>\n",
       "      <td>2000.000000</td>\n",
       "      <td>2000.000000</td>\n",
       "      <td>2000.000000</td>\n",
       "      <td>2000.000000</td>\n",
       "      <td>2000.000000</td>\n",
       "      <td>2000.000000</td>\n",
       "      <td>2000.000000</td>\n",
       "    </tr>\n",
       "    <tr>\n",
       "      <th>mean</th>\n",
       "      <td>1238.518500</td>\n",
       "      <td>0.4950</td>\n",
       "      <td>1.522250</td>\n",
       "      <td>0.509500</td>\n",
       "      <td>4.309500</td>\n",
       "      <td>0.521500</td>\n",
       "      <td>32.046500</td>\n",
       "      <td>0.501750</td>\n",
       "      <td>140.249000</td>\n",
       "      <td>4.520500</td>\n",
       "      <td>...</td>\n",
       "      <td>645.108000</td>\n",
       "      <td>1251.515500</td>\n",
       "      <td>2124.213000</td>\n",
       "      <td>12.306500</td>\n",
       "      <td>5.767000</td>\n",
       "      <td>11.011000</td>\n",
       "      <td>0.761500</td>\n",
       "      <td>0.503000</td>\n",
       "      <td>0.507000</td>\n",
       "      <td>1.500000</td>\n",
       "    </tr>\n",
       "    <tr>\n",
       "      <th>std</th>\n",
       "      <td>439.418206</td>\n",
       "      <td>0.5001</td>\n",
       "      <td>0.816004</td>\n",
       "      <td>0.500035</td>\n",
       "      <td>4.341444</td>\n",
       "      <td>0.499662</td>\n",
       "      <td>18.145715</td>\n",
       "      <td>0.288416</td>\n",
       "      <td>35.399655</td>\n",
       "      <td>2.287837</td>\n",
       "      <td>...</td>\n",
       "      <td>443.780811</td>\n",
       "      <td>432.199447</td>\n",
       "      <td>1084.732044</td>\n",
       "      <td>4.213245</td>\n",
       "      <td>4.356398</td>\n",
       "      <td>5.463955</td>\n",
       "      <td>0.426273</td>\n",
       "      <td>0.500116</td>\n",
       "      <td>0.500076</td>\n",
       "      <td>1.118314</td>\n",
       "    </tr>\n",
       "    <tr>\n",
       "      <th>min</th>\n",
       "      <td>501.000000</td>\n",
       "      <td>0.0000</td>\n",
       "      <td>0.500000</td>\n",
       "      <td>0.000000</td>\n",
       "      <td>0.000000</td>\n",
       "      <td>0.000000</td>\n",
       "      <td>2.000000</td>\n",
       "      <td>0.100000</td>\n",
       "      <td>80.000000</td>\n",
       "      <td>1.000000</td>\n",
       "      <td>...</td>\n",
       "      <td>0.000000</td>\n",
       "      <td>500.000000</td>\n",
       "      <td>256.000000</td>\n",
       "      <td>5.000000</td>\n",
       "      <td>0.000000</td>\n",
       "      <td>2.000000</td>\n",
       "      <td>0.000000</td>\n",
       "      <td>0.000000</td>\n",
       "      <td>0.000000</td>\n",
       "      <td>0.000000</td>\n",
       "    </tr>\n",
       "    <tr>\n",
       "      <th>25%</th>\n",
       "      <td>851.750000</td>\n",
       "      <td>0.0000</td>\n",
       "      <td>0.700000</td>\n",
       "      <td>0.000000</td>\n",
       "      <td>1.000000</td>\n",
       "      <td>0.000000</td>\n",
       "      <td>16.000000</td>\n",
       "      <td>0.200000</td>\n",
       "      <td>109.000000</td>\n",
       "      <td>3.000000</td>\n",
       "      <td>...</td>\n",
       "      <td>282.750000</td>\n",
       "      <td>874.750000</td>\n",
       "      <td>1207.500000</td>\n",
       "      <td>9.000000</td>\n",
       "      <td>2.000000</td>\n",
       "      <td>6.000000</td>\n",
       "      <td>1.000000</td>\n",
       "      <td>0.000000</td>\n",
       "      <td>0.000000</td>\n",
       "      <td>0.750000</td>\n",
       "    </tr>\n",
       "    <tr>\n",
       "      <th>50%</th>\n",
       "      <td>1226.000000</td>\n",
       "      <td>0.0000</td>\n",
       "      <td>1.500000</td>\n",
       "      <td>1.000000</td>\n",
       "      <td>3.000000</td>\n",
       "      <td>1.000000</td>\n",
       "      <td>32.000000</td>\n",
       "      <td>0.500000</td>\n",
       "      <td>141.000000</td>\n",
       "      <td>4.000000</td>\n",
       "      <td>...</td>\n",
       "      <td>564.000000</td>\n",
       "      <td>1247.000000</td>\n",
       "      <td>2146.500000</td>\n",
       "      <td>12.000000</td>\n",
       "      <td>5.000000</td>\n",
       "      <td>11.000000</td>\n",
       "      <td>1.000000</td>\n",
       "      <td>1.000000</td>\n",
       "      <td>1.000000</td>\n",
       "      <td>1.500000</td>\n",
       "    </tr>\n",
       "    <tr>\n",
       "      <th>75%</th>\n",
       "      <td>1615.250000</td>\n",
       "      <td>1.0000</td>\n",
       "      <td>2.200000</td>\n",
       "      <td>1.000000</td>\n",
       "      <td>7.000000</td>\n",
       "      <td>1.000000</td>\n",
       "      <td>48.000000</td>\n",
       "      <td>0.800000</td>\n",
       "      <td>170.000000</td>\n",
       "      <td>7.000000</td>\n",
       "      <td>...</td>\n",
       "      <td>947.250000</td>\n",
       "      <td>1633.000000</td>\n",
       "      <td>3064.500000</td>\n",
       "      <td>16.000000</td>\n",
       "      <td>9.000000</td>\n",
       "      <td>16.000000</td>\n",
       "      <td>1.000000</td>\n",
       "      <td>1.000000</td>\n",
       "      <td>1.000000</td>\n",
       "      <td>2.250000</td>\n",
       "    </tr>\n",
       "    <tr>\n",
       "      <th>max</th>\n",
       "      <td>1998.000000</td>\n",
       "      <td>1.0000</td>\n",
       "      <td>3.000000</td>\n",
       "      <td>1.000000</td>\n",
       "      <td>19.000000</td>\n",
       "      <td>1.000000</td>\n",
       "      <td>64.000000</td>\n",
       "      <td>1.000000</td>\n",
       "      <td>200.000000</td>\n",
       "      <td>8.000000</td>\n",
       "      <td>...</td>\n",
       "      <td>1960.000000</td>\n",
       "      <td>1998.000000</td>\n",
       "      <td>3998.000000</td>\n",
       "      <td>19.000000</td>\n",
       "      <td>18.000000</td>\n",
       "      <td>20.000000</td>\n",
       "      <td>1.000000</td>\n",
       "      <td>1.000000</td>\n",
       "      <td>1.000000</td>\n",
       "      <td>3.000000</td>\n",
       "    </tr>\n",
       "  </tbody>\n",
       "</table>\n",
       "<p>8 rows × 21 columns</p>\n",
       "</div>"
      ],
      "text/plain": [
       "       battery_power       blue  clock_speed     dual_sim           fc  \\\n",
       "count    2000.000000  2000.0000  2000.000000  2000.000000  2000.000000   \n",
       "mean     1238.518500     0.4950     1.522250     0.509500     4.309500   \n",
       "std       439.418206     0.5001     0.816004     0.500035     4.341444   \n",
       "min       501.000000     0.0000     0.500000     0.000000     0.000000   \n",
       "25%       851.750000     0.0000     0.700000     0.000000     1.000000   \n",
       "50%      1226.000000     0.0000     1.500000     1.000000     3.000000   \n",
       "75%      1615.250000     1.0000     2.200000     1.000000     7.000000   \n",
       "max      1998.000000     1.0000     3.000000     1.000000    19.000000   \n",
       "\n",
       "            four_g   int_memory        m_dep    mobile_wt      n_cores  ...  \\\n",
       "count  2000.000000  2000.000000  2000.000000  2000.000000  2000.000000  ...   \n",
       "mean      0.521500    32.046500     0.501750   140.249000     4.520500  ...   \n",
       "std       0.499662    18.145715     0.288416    35.399655     2.287837  ...   \n",
       "min       0.000000     2.000000     0.100000    80.000000     1.000000  ...   \n",
       "25%       0.000000    16.000000     0.200000   109.000000     3.000000  ...   \n",
       "50%       1.000000    32.000000     0.500000   141.000000     4.000000  ...   \n",
       "75%       1.000000    48.000000     0.800000   170.000000     7.000000  ...   \n",
       "max       1.000000    64.000000     1.000000   200.000000     8.000000  ...   \n",
       "\n",
       "         px_height     px_width          ram         sc_h         sc_w  \\\n",
       "count  2000.000000  2000.000000  2000.000000  2000.000000  2000.000000   \n",
       "mean    645.108000  1251.515500  2124.213000    12.306500     5.767000   \n",
       "std     443.780811   432.199447  1084.732044     4.213245     4.356398   \n",
       "min       0.000000   500.000000   256.000000     5.000000     0.000000   \n",
       "25%     282.750000   874.750000  1207.500000     9.000000     2.000000   \n",
       "50%     564.000000  1247.000000  2146.500000    12.000000     5.000000   \n",
       "75%     947.250000  1633.000000  3064.500000    16.000000     9.000000   \n",
       "max    1960.000000  1998.000000  3998.000000    19.000000    18.000000   \n",
       "\n",
       "         talk_time      three_g  touch_screen         wifi  price_range  \n",
       "count  2000.000000  2000.000000   2000.000000  2000.000000  2000.000000  \n",
       "mean     11.011000     0.761500      0.503000     0.507000     1.500000  \n",
       "std       5.463955     0.426273      0.500116     0.500076     1.118314  \n",
       "min       2.000000     0.000000      0.000000     0.000000     0.000000  \n",
       "25%       6.000000     1.000000      0.000000     0.000000     0.750000  \n",
       "50%      11.000000     1.000000      1.000000     1.000000     1.500000  \n",
       "75%      16.000000     1.000000      1.000000     1.000000     2.250000  \n",
       "max      20.000000     1.000000      1.000000     1.000000     3.000000  \n",
       "\n",
       "[8 rows x 21 columns]"
      ]
     },
     "execution_count": 4,
     "metadata": {},
     "output_type": "execute_result"
    }
   ],
   "source": [
    "df_train.describe()"
   ]
  },
  {
   "cell_type": "code",
   "execution_count": 5,
   "id": "3c8df733",
   "metadata": {
    "ExecuteTime": {
     "end_time": "2023-03-31T12:42:35.691105Z",
     "start_time": "2023-03-31T12:42:35.676022Z"
    }
   },
   "outputs": [
    {
     "data": {
      "text/plain": [
       "battery_power    1094\n",
       "blue                2\n",
       "clock_speed        26\n",
       "dual_sim            2\n",
       "fc                 20\n",
       "four_g              2\n",
       "int_memory         63\n",
       "m_dep              10\n",
       "mobile_wt         121\n",
       "n_cores             8\n",
       "pc                 21\n",
       "px_height        1137\n",
       "px_width         1109\n",
       "ram              1562\n",
       "sc_h               15\n",
       "sc_w               19\n",
       "talk_time          19\n",
       "three_g             2\n",
       "touch_screen        2\n",
       "wifi                2\n",
       "price_range         4\n",
       "dtype: int64"
      ]
     },
     "execution_count": 5,
     "metadata": {},
     "output_type": "execute_result"
    }
   ],
   "source": [
    "df_train.nunique()"
   ]
  },
  {
   "cell_type": "markdown",
   "id": "dbdfa3c8",
   "metadata": {},
   "source": [
    "## We want to calculate the relative frequencies of the classes"
   ]
  },
  {
   "cell_type": "code",
   "execution_count": 6,
   "id": "c57caec3",
   "metadata": {
    "ExecuteTime": {
     "end_time": "2023-03-31T12:42:35.848086Z",
     "start_time": "2023-03-31T12:42:35.692316Z"
    }
   },
   "outputs": [
    {
     "data": {
      "image/png": "[encoded data removed]",
      "text/plain": [
       "<Figure size 432x288 with 1 Axes>"
      ]
     },
     "metadata": {
      "needs_background": "light"
     },
     "output_type": "display_data"
    }
   ],
   "source": [
    "df_train['price_range'].value_counts(normalize= True).plot(kind = 'bar')\n",
    "plt.xlabel(\"Price Range classes\")\n",
    "plt.ylabel(\"Frequency\")\n",
    "plt.title(\"Classes balance\");"
   ]
  },
  {
   "cell_type": "markdown",
   "id": "4cb357e5",
   "metadata": {},
   "source": [
    "## Now we show the correlation of the \"Ram & Battery Power\" column for both groups in the \"Price Range\" column"
   ]
  },
  {
   "cell_type": "code",
   "execution_count": 7,
   "id": "b0b42829",
   "metadata": {
    "ExecuteTime": {
     "end_time": "2023-03-31T12:42:35.942012Z",
     "start_time": "2023-03-31T12:42:35.850089Z"
    }
   },
   "outputs": [
    {
     "data": {
      "image/png": "[encoded data removed]",
      "text/plain": [
       "<Figure size 432x288 with 1 Axes>"
      ]
     },
     "metadata": {
      "needs_background": "light"
     },
     "output_type": "display_data"
    }
   ],
   "source": [
    "sns.boxplot(x='price_range' , y='ram' , data=df_train)\n",
    "plt.xlabel(\"Price Range classes\")\n",
    "plt.ylabel(\"Ram\")\n",
    "plt.title(\"Distribution of Ram Ratio, by Class\");"
   ]
  },
  {
   "cell_type": "code",
   "execution_count": 8,
   "id": "c05be5ea",
   "metadata": {
    "ExecuteTime": {
     "end_time": "2023-03-31T12:42:36.051511Z",
     "start_time": "2023-03-31T12:42:35.945038Z"
    }
   },
   "outputs": [
    {
     "data": {
      "image/png": "[encoded data removed]",
      "text/plain": [
       "<Figure size 432x288 with 1 Axes>"
      ]
     },
     "metadata": {
      "needs_background": "light"
     },
     "output_type": "display_data"
    }
   ],
   "source": [
    "sns.boxplot(x='price_range' , y='battery_power' , data=df_train)\n",
    "plt.xlabel(\"Price Range classes\")\n",
    "plt.ylabel(\"Battery Power\")\n",
    "plt.title(\"Distribution of Battery Power Ratio, by Class\");"
   ]
  },
  {
   "cell_type": "markdown",
   "id": "8e4aea1f",
   "metadata": {},
   "source": [
    "## 3G Supported phones"
   ]
  },
  {
   "cell_type": "code",
   "execution_count": 9,
   "id": "f4d93823",
   "metadata": {
    "ExecuteTime": {
     "end_time": "2023-03-31T12:42:36.144229Z",
     "start_time": "2023-03-31T12:42:36.054513Z"
    }
   },
   "outputs": [
    {
     "data": {
      "image/png": "[encoded data removed]",
      "text/plain": [
       "<Figure size 432x288 with 1 Axes>"
      ]
     },
     "metadata": {},
     "output_type": "display_data"
    }
   ],
   "source": [
    "labels = [\"3G-supported\",'Not supported']\n",
    "values = df_train['three_g'].value_counts().values\n",
    "fig, ax = plt.subplots()\n",
    "colors = ['orange', 'lightskyblue']\n",
    "ax.pie(values, labels=labels, autopct='%1.1f%%',shadow=True,startangle=90,colors=colors)\n",
    "plt.show();"
   ]
  },
  {
   "cell_type": "markdown",
   "id": "c6ee4e75",
   "metadata": {},
   "source": [
    "## 4G supported phones  "
   ]
  },
  {
   "cell_type": "code",
   "execution_count": 10,
   "id": "546913b4",
   "metadata": {
    "ExecuteTime": {
     "end_time": "2023-03-31T12:42:36.205791Z",
     "start_time": "2023-03-31T12:42:36.147556Z"
    }
   },
   "outputs": [
    {
     "data": {
      "image/png": "[encoded data removed]",
      "text/plain": [
       "<Figure size 432x288 with 1 Axes>"
      ]
     },
     "metadata": {},
     "output_type": "display_data"
    }
   ],
   "source": [
    "labels = [\"4G-supported\",'Not supported']\n",
    "values = df_train['four_g'].value_counts().values\n",
    "fig1, ax1 = plt.subplots()\n",
    "colors = ['orange', 'lightskyblue']\n",
    "ax1.pie(values, labels=labels, autopct='%1.1f%%',shadow=True,startangle=90,colors=colors)\n",
    "plt.show();"
   ]
  },
  {
   "cell_type": "markdown",
   "id": "d820ec61",
   "metadata": {},
   "source": [
    "# Multicollinearity"
   ]
  },
  {
   "cell_type": "code",
   "execution_count": 11,
   "id": "a2fedb1d",
   "metadata": {
    "ExecuteTime": {
     "end_time": "2023-03-31T12:42:36.504924Z",
     "start_time": "2023-03-31T12:42:36.207782Z"
    }
   },
   "outputs": [
    {
     "data": {
      "image/png": "[encoded data removed]",
      "text/plain": [
       "<Figure size 432x288 with 2 Axes>"
      ]
     },
     "metadata": {
      "needs_background": "light"
     },
     "output_type": "display_data"
    }
   ],
   "source": [
    "corr = df_train.drop(columns='price_range').corr()\n",
    "sns.heatmap(corr);"
   ]
  },
  {
   "cell_type": "markdown",
   "id": "fda81081",
   "metadata": {},
   "source": [
    "## Split"
   ]
  },
  {
   "cell_type": "code",
   "execution_count": 12,
   "id": "d296e32d",
   "metadata": {
    "ExecuteTime": {
     "end_time": "2023-03-31T12:42:36.520308Z",
     "start_time": "2023-03-31T12:42:36.506920Z"
    }
   },
   "outputs": [
    {
     "name": "stdout",
     "output_type": "stream",
     "text": [
      "X Shape (2000, 20)\n",
      "y Shape (2000,)\n"
     ]
    }
   ],
   "source": [
    "target = 'price_range'\n",
    "X = df_train.drop(columns= [target])\n",
    "y= df_train[target]\n",
    "print(f\"X Shape {X.shape}\")\n",
    "print(f\"y Shape {y.shape}\")"
   ]
  },
  {
   "cell_type": "markdown",
   "id": "30ed04f1",
   "metadata": {},
   "source": [
    "### Scale and Normalize Data"
   ]
  },
  {
   "cell_type": "code",
   "execution_count": 13,
   "id": "a30c6008",
   "metadata": {
    "ExecuteTime": {
     "end_time": "2023-03-31T12:42:36.535425Z",
     "start_time": "2023-03-31T12:42:36.522446Z"
    }
   },
   "outputs": [],
   "source": [
    "scalar = MinMaxScaler()"
   ]
  },
  {
   "cell_type": "code",
   "execution_count": 14,
   "id": "4dc5cc0d",
   "metadata": {
    "ExecuteTime": {
     "end_time": "2023-03-31T12:42:36.551423Z",
     "start_time": "2023-03-31T12:42:36.537428Z"
    }
   },
   "outputs": [],
   "source": [
    "features = X.columns\n",
    "X = scalar.fit_transform(X)"
   ]
  },
  {
   "cell_type": "code",
   "execution_count": 15,
   "id": "26925b90",
   "metadata": {
    "ExecuteTime": {
     "end_time": "2023-03-31T12:42:36.567423Z",
     "start_time": "2023-03-31T12:42:36.553428Z"
    }
   },
   "outputs": [
    {
     "name": "stdout",
     "output_type": "stream",
     "text": [
      "[[0.22778891 0.         0.68       ... 0.         0.         1.        ]\n",
      " [0.34736139 1.         0.         ... 1.         1.         0.        ]\n",
      " [0.04141617 1.         0.         ... 1.         1.         0.        ]\n",
      " ...\n",
      " [0.94188377 0.         0.16       ... 1.         1.         0.        ]\n",
      " [0.6753507  0.         0.16       ... 1.         1.         1.        ]\n",
      " [0.00601202 1.         0.6        ... 1.         1.         1.        ]]\n"
     ]
    }
   ],
   "source": [
    "print(X)"
   ]
  },
  {
   "cell_type": "code",
   "execution_count": 16,
   "id": "657bcc27",
   "metadata": {
    "ExecuteTime": {
     "end_time": "2023-03-31T12:42:36.583243Z",
     "start_time": "2023-03-31T12:42:36.568425Z"
    }
   },
   "outputs": [],
   "source": [
    "X_train , X_test , y_train , y_test = train_test_split(X, y, test_size=0.2 , random_state=42)"
   ]
  },
  {
   "cell_type": "code",
   "execution_count": 17,
   "id": "b21d6c1a",
   "metadata": {
    "ExecuteTime": {
     "end_time": "2023-03-31T12:42:36.598702Z",
     "start_time": "2023-03-31T12:42:36.585164Z"
    }
   },
   "outputs": [
    {
     "name": "stdout",
     "output_type": "stream",
     "text": [
      "X_train shape: (1600, 20)\n",
      "y_train shape: (1600,)\n",
      "X_test shape: (400, 20)\n",
      "y_test shape: (400,)\n"
     ]
    }
   ],
   "source": [
    "print(\"X_train shape:\", X_train.shape)\n",
    "print(\"y_train shape:\", y_train.shape)\n",
    "print(\"X_test shape:\", X_test.shape)\n",
    "print(\"y_test shape:\", y_test.shape)"
   ]
  },
  {
   "cell_type": "markdown",
   "id": "27fd4be9",
   "metadata": {},
   "source": [
    "## Iterate"
   ]
  },
  {
   "cell_type": "markdown",
   "id": "af2aa103",
   "metadata": {},
   "source": [
    "## 1-Logistic Regression"
   ]
  },
  {
   "cell_type": "code",
   "execution_count": 18,
   "id": "1c46f765",
   "metadata": {
    "ExecuteTime": {
     "end_time": "2023-03-31T12:42:36.614760Z",
     "start_time": "2023-03-31T12:42:36.599693Z"
    }
   },
   "outputs": [],
   "source": [
    "model_lr = LogisticRegression(max_iter=1000)"
   ]
  },
  {
   "cell_type": "markdown",
   "id": "4983ddd9",
   "metadata": {},
   "source": [
    "### Training model"
   ]
  },
  {
   "cell_type": "code",
   "execution_count": 19,
   "id": "eadac4f5",
   "metadata": {
    "ExecuteTime": {
     "end_time": "2023-03-31T12:42:36.676774Z",
     "start_time": "2023-03-31T12:42:36.615776Z"
    }
   },
   "outputs": [
    {
     "data": {
      "text/plain": [
       "LogisticRegression(max_iter=1000)"
      ]
     },
     "execution_count": 19,
     "metadata": {},
     "output_type": "execute_result"
    }
   ],
   "source": [
    "model_lr.fit(X_train,y_train)"
   ]
  },
  {
   "cell_type": "code",
   "execution_count": 20,
   "id": "97b7f0ff",
   "metadata": {
    "ExecuteTime": {
     "end_time": "2023-03-31T12:42:36.692698Z",
     "start_time": "2023-03-31T12:42:36.678691Z"
    }
   },
   "outputs": [
    {
     "name": "stdout",
     "output_type": "stream",
     "text": [
      "Training accuracy: 0.938125\n"
     ]
    }
   ],
   "source": [
    "training_acc_lr= model_lr.score(X_train , y_train)\n",
    "print(f\"Training accuracy: {training_acc_lr}\")"
   ]
  },
  {
   "cell_type": "markdown",
   "id": "8de83aaa",
   "metadata": {},
   "source": [
    "## Evaluate Logistic Regression model"
   ]
  },
  {
   "cell_type": "code",
   "execution_count": 21,
   "id": "b30d8c0e",
   "metadata": {
    "ExecuteTime": {
     "end_time": "2023-03-31T12:42:36.708212Z",
     "start_time": "2023-03-31T12:42:36.694202Z"
    }
   },
   "outputs": [
    {
     "name": "stdout",
     "output_type": "stream",
     "text": [
      "Testing accuracy: 0.94\n"
     ]
    }
   ],
   "source": [
    "testing_acc_lr= model_lr.score(X_test , y_test)\n",
    "print(f\"Testing accuracy: {testing_acc_lr}\")"
   ]
  },
  {
   "cell_type": "code",
   "execution_count": 22,
   "id": "b0f5598c",
   "metadata": {
    "ExecuteTime": {
     "end_time": "2023-03-31T12:42:36.832343Z",
     "start_time": "2023-03-31T12:42:36.710212Z"
    }
   },
   "outputs": [
    {
     "data": {
      "image/png": "[encoded data removed]",
      "text/plain": [
       "<Figure size 432x288 with 2 Axes>"
      ]
     },
     "metadata": {
      "needs_background": "light"
     },
     "output_type": "display_data"
    }
   ],
   "source": [
    "# Plot confusion matrix\n",
    "ConfusionMatrixDisplay.from_estimator(\n",
    "    model_lr,\n",
    "    X_test,\n",
    "    y_test\n",
    ");"
   ]
  },
  {
   "cell_type": "markdown",
   "id": "9f4a7b69",
   "metadata": {
    "ExecuteTime": {
     "end_time": "2023-03-31T12:13:48.222571Z",
     "start_time": "2023-03-31T12:13:48.193900Z"
    }
   },
   "source": [
    "## 2-SVM"
   ]
  },
  {
   "cell_type": "code",
   "execution_count": 23,
   "id": "47702280",
   "metadata": {
    "ExecuteTime": {
     "end_time": "2023-03-31T12:42:36.847771Z",
     "start_time": "2023-03-31T12:42:36.835359Z"
    }
   },
   "outputs": [],
   "source": [
    "model_svc= SVC()"
   ]
  },
  {
   "cell_type": "markdown",
   "id": "878fba06",
   "metadata": {},
   "source": [
    "### Training model"
   ]
  },
  {
   "cell_type": "code",
   "execution_count": 24,
   "id": "5bc056ec",
   "metadata": {
    "ExecuteTime": {
     "end_time": "2023-03-31T12:42:36.958473Z",
     "start_time": "2023-03-31T12:42:36.849769Z"
    }
   },
   "outputs": [
    {
     "data": {
      "text/plain": [
       "SVC()"
      ]
     },
     "execution_count": 24,
     "metadata": {},
     "output_type": "execute_result"
    }
   ],
   "source": [
    "model_svc.fit(X_train, y_train)"
   ]
  },
  {
   "cell_type": "code",
   "execution_count": 25,
   "id": "ef3d09f7",
   "metadata": {
    "ExecuteTime": {
     "end_time": "2023-03-31T12:42:37.132574Z",
     "start_time": "2023-03-31T12:42:36.960462Z"
    }
   },
   "outputs": [
    {
     "name": "stdout",
     "output_type": "stream",
     "text": [
      "Testing accuracy: 0.969375\n"
     ]
    }
   ],
   "source": [
    "training_acc_svc = model_svc.score(X_train , y_train)\n",
    "print(f\"Testing accuracy: {training_acc_svc}\")"
   ]
  },
  {
   "cell_type": "markdown",
   "id": "e99114d6",
   "metadata": {},
   "source": [
    "## Evaluate SVM model"
   ]
  },
  {
   "cell_type": "code",
   "execution_count": 26,
   "id": "ef9fcfab",
   "metadata": {
    "ExecuteTime": {
     "end_time": "2023-03-31T12:42:37.195494Z",
     "start_time": "2023-03-31T12:42:37.133575Z"
    }
   },
   "outputs": [
    {
     "name": "stdout",
     "output_type": "stream",
     "text": [
      "Testing accuracy: 0.8625\n"
     ]
    }
   ],
   "source": [
    "testing_acc_svc= model_svc.score(X_test , y_test)\n",
    "print(f\"Testing accuracy: {testing_acc_svc}\")"
   ]
  },
  {
   "cell_type": "code",
   "execution_count": 27,
   "id": "f38c9ce8",
   "metadata": {
    "ExecuteTime": {
     "end_time": "2023-03-31T12:42:37.354333Z",
     "start_time": "2023-03-31T12:42:37.197578Z"
    }
   },
   "outputs": [
    {
     "data": {
      "image/png": "[encoded data removed]",
      "text/plain": [
       "<Figure size 432x288 with 2 Axes>"
      ]
     },
     "metadata": {
      "needs_background": "light"
     },
     "output_type": "display_data"
    }
   ],
   "source": [
    "# Plot confusion matrix\n",
    "ConfusionMatrixDisplay.from_estimator(\n",
    "    model_svc,\n",
    "    X_test,\n",
    "    y_test\n",
    ");"
   ]
  },
  {
   "cell_type": "code",
   "execution_count": 28,
   "id": "fa15d4ad",
   "metadata": {
    "ExecuteTime": {
     "end_time": "2023-03-31T12:42:37.370317Z",
     "start_time": "2023-03-31T12:42:37.357326Z"
    }
   },
   "outputs": [
    {
     "data": {
      "text/html": [
       "<div>\n",
       "<style scoped>\n",
       "    .dataframe tbody tr th:only-of-type {\n",
       "        vertical-align: middle;\n",
       "    }\n",
       "\n",
       "    .dataframe tbody tr th {\n",
       "        vertical-align: top;\n",
       "    }\n",
       "\n",
       "    .dataframe thead th {\n",
       "        text-align: right;\n",
       "    }\n",
       "</style>\n",
       "<table border=\"1\" class=\"dataframe\">\n",
       "  <thead>\n",
       "    <tr style=\"text-align: right;\">\n",
       "      <th></th>\n",
       "      <th>Models</th>\n",
       "      <th>Score</th>\n",
       "    </tr>\n",
       "  </thead>\n",
       "  <tbody>\n",
       "    <tr>\n",
       "      <th>0</th>\n",
       "      <td>Logestic Regression</td>\n",
       "      <td>0.9400</td>\n",
       "    </tr>\n",
       "    <tr>\n",
       "      <th>1</th>\n",
       "      <td>SVM</td>\n",
       "      <td>0.8625</td>\n",
       "    </tr>\n",
       "  </tbody>\n",
       "</table>\n",
       "</div>"
      ],
      "text/plain": [
       "                Models   Score\n",
       "0  Logestic Regression  0.9400\n",
       "1                  SVM  0.8625"
      ]
     },
     "execution_count": 28,
     "metadata": {},
     "output_type": "execute_result"
    }
   ],
   "source": [
    "models = pd.DataFrame({\n",
    "    \n",
    "    \"Models\": [\"Logestic Regression\" , \"SVM\"],\n",
    "    \"Score\":[testing_acc_lr , testing_acc_svc]\n",
    "    \n",
    "})\n",
    "models.sort_values(by=\"Score\" , ascending=False)"
   ]
  },
  {
   "cell_type": "markdown",
   "id": "adacbe63",
   "metadata": {},
   "source": [
    "## plot a bar char to show the best model performance"
   ]
  },
  {
   "cell_type": "code",
   "execution_count": 29,
   "id": "3d040b53",
   "metadata": {
    "ExecuteTime": {
     "end_time": "2023-03-31T12:42:37.479413Z",
     "start_time": "2023-03-31T12:42:37.372315Z"
    }
   },
   "outputs": [
    {
     "data": {
      "image/png": "[encoded data removed]",
      "text/plain": [
       "<Figure size 720x360 with 1 Axes>"
      ]
     },
     "metadata": {},
     "output_type": "display_data"
    }
   ],
   "source": [
    "colors= ['orange' , 'blue']\n",
    "sns.set_style('whitegrid')\n",
    "plt.figure(figsize=(10,5))\n",
    "sns.barplot(x=models['Models'],y=models['Score'], palette=colors )\n",
    "plt.xlabel(\"Models\")\n",
    "plt.ylabel(\"Score\")\n",
    "plt.title(\"Model Selection\")\n",
    "plt.show();"
   ]
  },
  {
   "cell_type": "markdown",
   "id": "836eb653",
   "metadata": {},
   "source": [
    "### Logistic Regression got the highest accuracy"
   ]
  },
  {
   "cell_type": "markdown",
   "id": "3db3382a",
   "metadata": {},
   "source": [
    "## Communication"
   ]
  },
  {
   "cell_type": "code",
   "execution_count": 30,
   "id": "5a3dfa49",
   "metadata": {
    "ExecuteTime": {
     "end_time": "2023-03-31T12:42:37.494493Z",
     "start_time": "2023-03-31T12:42:37.481496Z"
    }
   },
   "outputs": [
    {
     "data": {
      "text/plain": [
       "ram              7.023289e-07\n",
       "battery_power    3.356091e-02\n",
       "px_height        7.997937e-02\n",
       "px_width         1.317819e-01\n",
       "int_memory       8.198506e-01\n",
       "dtype: float64"
      ]
     },
     "execution_count": 30,
     "metadata": {},
     "output_type": "execute_result"
    }
   ],
   "source": [
    "# Extract importances from model\n",
    "importances = model_lr.coef_[0]\n",
    "\n",
    "odds_ratios = pd.Series(np.exp(importances) , index = features).sort_values()\n",
    "odds_ratios.head()"
   ]
  },
  {
   "cell_type": "markdown",
   "id": "4bcef197",
   "metadata": {},
   "source": [
    "## Horizontal bar chart, five largest coefficients"
   ]
  },
  {
   "cell_type": "code",
   "execution_count": 31,
   "id": "25a83367",
   "metadata": {
    "ExecuteTime": {
     "end_time": "2023-03-31T12:42:37.618924Z",
     "start_time": "2023-03-31T12:42:37.497159Z"
    }
   },
   "outputs": [
    {
     "data": {
      "image/png": "[encoded data removed]",
      "text/plain": [
       "<Figure size 432x288 with 1 Axes>"
      ]
     },
     "metadata": {},
     "output_type": "display_data"
    }
   ],
   "source": [
    "odds_ratios.tail().plot(kind= 'barh')\n",
    "plt.xlabel(\"Odds Ratio\");"
   ]
  },
  {
   "cell_type": "markdown",
   "id": "e077796f",
   "metadata": {},
   "source": [
    "## Horizontal bar chart, five smallest coefficients"
   ]
  },
  {
   "cell_type": "code",
   "execution_count": 32,
   "id": "d77f6d03",
   "metadata": {
    "ExecuteTime": {
     "end_time": "2023-03-31T12:42:37.742830Z",
     "start_time": "2023-03-31T12:42:37.620934Z"
    }
   },
   "outputs": [
    {
     "data": {
      "image/png": "[encoded data removed]",
      "text/plain": [
       "<Figure size 432x288 with 1 Axes>"
      ]
     },
     "metadata": {},
     "output_type": "display_data"
    }
   ],
   "source": [
    "odds_ratios.head().plot(kind= 'barh')\n",
    "plt.xlabel(\"Odds Ratio\");"
   ]
  },
  {
   "cell_type": "markdown",
   "id": "1fd12a65",
   "metadata": {},
   "source": [
    "## Thanks!"
   ]
  }
 ],
 "metadata": {
  "kernelspec": {
   "display_name": "Python 3 (ipykernel)",
   "language": "python",
   "name": "python3"
  },
  "language_info": {
   "codemirror_mode": {
    "name": "ipython",
    "version": 3
   },
   "file_extension": ".py",
   "mimetype": "text/x-python",
   "name": "python",
   "nbconvert_exporter": "python",
   "pygments_lexer": "ipython3",
   "version": "3.9.12"
  }
 },
 "nbformat": 4,
 "nbformat_minor": 5
}
