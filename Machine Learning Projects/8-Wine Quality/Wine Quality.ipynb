{
 "cells": [
  {
   "cell_type": "markdown",
   "id": "1428c083",
   "metadata": {},
   "source": [
    "# Wine Quality"
   ]
  },
  {
   "cell_type": "markdown",
   "id": "94f4cdb7",
   "metadata": {},
   "source": [
    "#### Kaggle dataset https://www.kaggle.com/datasets/uciml/red-wine-quality-cortez-et-al-2009"
   ]
  },
  {
   "cell_type": "markdown",
   "id": "e3f63fb2",
   "metadata": {},
   "source": [
    "## Prepare Data"
   ]
  },
  {
   "cell_type": "markdown",
   "id": "55f2319b",
   "metadata": {},
   "source": [
    "## Import libraries"
   ]
  },
  {
   "cell_type": "code",
   "execution_count": 1,
   "id": "95e8bb03",
   "metadata": {
    "ExecuteTime": {
     "end_time": "2023-04-24T00:50:01.756097Z",
     "start_time": "2023-04-24T00:49:59.448955Z"
    }
   },
   "outputs": [],
   "source": [
    "import numpy as np\n",
    "import pandas as pd\n",
    "import matplotlib.pyplot as plt\n",
    "import seaborn as sns\n",
    "import plotly.express as px\n",
    "from sklearn.neighbors import KNeighborsClassifier\n",
    "from sklearn.ensemble import RandomForestClassifier , GradientBoostingClassifier\n",
    "from sklearn.model_selection import train_test_split , GridSearchCV\n",
    "from sklearn.metrics import classification_report , ConfusionMatrixDisplay"
   ]
  },
  {
   "cell_type": "code",
   "execution_count": 2,
   "id": "e419161c",
   "metadata": {
    "ExecuteTime": {
     "end_time": "2023-04-24T00:50:01.788149Z",
     "start_time": "2023-04-24T00:50:01.757031Z"
    }
   },
   "outputs": [
    {
     "data": {
      "text/html": [
       "<div>\n",
       "<style scoped>\n",
       "    .dataframe tbody tr th:only-of-type {\n",
       "        vertical-align: middle;\n",
       "    }\n",
       "\n",
       "    .dataframe tbody tr th {\n",
       "        vertical-align: top;\n",
       "    }\n",
       "\n",
       "    .dataframe thead th {\n",
       "        text-align: right;\n",
       "    }\n",
       "</style>\n",
       "<table border=\"1\" class=\"dataframe\">\n",
       "  <thead>\n",
       "    <tr style=\"text-align: right;\">\n",
       "      <th></th>\n",
       "      <th>fixed acidity</th>\n",
       "      <th>volatile acidity</th>\n",
       "      <th>citric acid</th>\n",
       "      <th>residual sugar</th>\n",
       "      <th>chlorides</th>\n",
       "      <th>free sulfur dioxide</th>\n",
       "      <th>total sulfur dioxide</th>\n",
       "      <th>density</th>\n",
       "      <th>pH</th>\n",
       "      <th>sulphates</th>\n",
       "      <th>alcohol</th>\n",
       "      <th>quality</th>\n",
       "    </tr>\n",
       "  </thead>\n",
       "  <tbody>\n",
       "    <tr>\n",
       "      <th>0</th>\n",
       "      <td>7.4</td>\n",
       "      <td>0.700</td>\n",
       "      <td>0.00</td>\n",
       "      <td>1.9</td>\n",
       "      <td>0.076</td>\n",
       "      <td>11.0</td>\n",
       "      <td>34.0</td>\n",
       "      <td>0.99780</td>\n",
       "      <td>3.51</td>\n",
       "      <td>0.56</td>\n",
       "      <td>9.4</td>\n",
       "      <td>5</td>\n",
       "    </tr>\n",
       "    <tr>\n",
       "      <th>1</th>\n",
       "      <td>7.8</td>\n",
       "      <td>0.880</td>\n",
       "      <td>0.00</td>\n",
       "      <td>2.6</td>\n",
       "      <td>0.098</td>\n",
       "      <td>25.0</td>\n",
       "      <td>67.0</td>\n",
       "      <td>0.99680</td>\n",
       "      <td>3.20</td>\n",
       "      <td>0.68</td>\n",
       "      <td>9.8</td>\n",
       "      <td>5</td>\n",
       "    </tr>\n",
       "    <tr>\n",
       "      <th>2</th>\n",
       "      <td>7.8</td>\n",
       "      <td>0.760</td>\n",
       "      <td>0.04</td>\n",
       "      <td>2.3</td>\n",
       "      <td>0.092</td>\n",
       "      <td>15.0</td>\n",
       "      <td>54.0</td>\n",
       "      <td>0.99700</td>\n",
       "      <td>3.26</td>\n",
       "      <td>0.65</td>\n",
       "      <td>9.8</td>\n",
       "      <td>5</td>\n",
       "    </tr>\n",
       "    <tr>\n",
       "      <th>3</th>\n",
       "      <td>11.2</td>\n",
       "      <td>0.280</td>\n",
       "      <td>0.56</td>\n",
       "      <td>1.9</td>\n",
       "      <td>0.075</td>\n",
       "      <td>17.0</td>\n",
       "      <td>60.0</td>\n",
       "      <td>0.99800</td>\n",
       "      <td>3.16</td>\n",
       "      <td>0.58</td>\n",
       "      <td>9.8</td>\n",
       "      <td>6</td>\n",
       "    </tr>\n",
       "    <tr>\n",
       "      <th>4</th>\n",
       "      <td>7.4</td>\n",
       "      <td>0.700</td>\n",
       "      <td>0.00</td>\n",
       "      <td>1.9</td>\n",
       "      <td>0.076</td>\n",
       "      <td>11.0</td>\n",
       "      <td>34.0</td>\n",
       "      <td>0.99780</td>\n",
       "      <td>3.51</td>\n",
       "      <td>0.56</td>\n",
       "      <td>9.4</td>\n",
       "      <td>5</td>\n",
       "    </tr>\n",
       "    <tr>\n",
       "      <th>...</th>\n",
       "      <td>...</td>\n",
       "      <td>...</td>\n",
       "      <td>...</td>\n",
       "      <td>...</td>\n",
       "      <td>...</td>\n",
       "      <td>...</td>\n",
       "      <td>...</td>\n",
       "      <td>...</td>\n",
       "      <td>...</td>\n",
       "      <td>...</td>\n",
       "      <td>...</td>\n",
       "      <td>...</td>\n",
       "    </tr>\n",
       "    <tr>\n",
       "      <th>1594</th>\n",
       "      <td>6.2</td>\n",
       "      <td>0.600</td>\n",
       "      <td>0.08</td>\n",
       "      <td>2.0</td>\n",
       "      <td>0.090</td>\n",
       "      <td>32.0</td>\n",
       "      <td>44.0</td>\n",
       "      <td>0.99490</td>\n",
       "      <td>3.45</td>\n",
       "      <td>0.58</td>\n",
       "      <td>10.5</td>\n",
       "      <td>5</td>\n",
       "    </tr>\n",
       "    <tr>\n",
       "      <th>1595</th>\n",
       "      <td>5.9</td>\n",
       "      <td>0.550</td>\n",
       "      <td>0.10</td>\n",
       "      <td>2.2</td>\n",
       "      <td>0.062</td>\n",
       "      <td>39.0</td>\n",
       "      <td>51.0</td>\n",
       "      <td>0.99512</td>\n",
       "      <td>3.52</td>\n",
       "      <td>0.76</td>\n",
       "      <td>11.2</td>\n",
       "      <td>6</td>\n",
       "    </tr>\n",
       "    <tr>\n",
       "      <th>1596</th>\n",
       "      <td>6.3</td>\n",
       "      <td>0.510</td>\n",
       "      <td>0.13</td>\n",
       "      <td>2.3</td>\n",
       "      <td>0.076</td>\n",
       "      <td>29.0</td>\n",
       "      <td>40.0</td>\n",
       "      <td>0.99574</td>\n",
       "      <td>3.42</td>\n",
       "      <td>0.75</td>\n",
       "      <td>11.0</td>\n",
       "      <td>6</td>\n",
       "    </tr>\n",
       "    <tr>\n",
       "      <th>1597</th>\n",
       "      <td>5.9</td>\n",
       "      <td>0.645</td>\n",
       "      <td>0.12</td>\n",
       "      <td>2.0</td>\n",
       "      <td>0.075</td>\n",
       "      <td>32.0</td>\n",
       "      <td>44.0</td>\n",
       "      <td>0.99547</td>\n",
       "      <td>3.57</td>\n",
       "      <td>0.71</td>\n",
       "      <td>10.2</td>\n",
       "      <td>5</td>\n",
       "    </tr>\n",
       "    <tr>\n",
       "      <th>1598</th>\n",
       "      <td>6.0</td>\n",
       "      <td>0.310</td>\n",
       "      <td>0.47</td>\n",
       "      <td>3.6</td>\n",
       "      <td>0.067</td>\n",
       "      <td>18.0</td>\n",
       "      <td>42.0</td>\n",
       "      <td>0.99549</td>\n",
       "      <td>3.39</td>\n",
       "      <td>0.66</td>\n",
       "      <td>11.0</td>\n",
       "      <td>6</td>\n",
       "    </tr>\n",
       "  </tbody>\n",
       "</table>\n",
       "<p>1599 rows × 12 columns</p>\n",
       "</div>"
      ],
      "text/plain": [
       "      fixed acidity  volatile acidity  citric acid  residual sugar  chlorides  \\\n",
       "0               7.4             0.700         0.00             1.9      0.076   \n",
       "1               7.8             0.880         0.00             2.6      0.098   \n",
       "2               7.8             0.760         0.04             2.3      0.092   \n",
       "3              11.2             0.280         0.56             1.9      0.075   \n",
       "4               7.4             0.700         0.00             1.9      0.076   \n",
       "...             ...               ...          ...             ...        ...   \n",
       "1594            6.2             0.600         0.08             2.0      0.090   \n",
       "1595            5.9             0.550         0.10             2.2      0.062   \n",
       "1596            6.3             0.510         0.13             2.3      0.076   \n",
       "1597            5.9             0.645         0.12             2.0      0.075   \n",
       "1598            6.0             0.310         0.47             3.6      0.067   \n",
       "\n",
       "      free sulfur dioxide  total sulfur dioxide  density    pH  sulphates  \\\n",
       "0                    11.0                  34.0  0.99780  3.51       0.56   \n",
       "1                    25.0                  67.0  0.99680  3.20       0.68   \n",
       "2                    15.0                  54.0  0.99700  3.26       0.65   \n",
       "3                    17.0                  60.0  0.99800  3.16       0.58   \n",
       "4                    11.0                  34.0  0.99780  3.51       0.56   \n",
       "...                   ...                   ...      ...   ...        ...   \n",
       "1594                 32.0                  44.0  0.99490  3.45       0.58   \n",
       "1595                 39.0                  51.0  0.99512  3.52       0.76   \n",
       "1596                 29.0                  40.0  0.99574  3.42       0.75   \n",
       "1597                 32.0                  44.0  0.99547  3.57       0.71   \n",
       "1598                 18.0                  42.0  0.99549  3.39       0.66   \n",
       "\n",
       "      alcohol  quality  \n",
       "0         9.4        5  \n",
       "1         9.8        5  \n",
       "2         9.8        5  \n",
       "3         9.8        6  \n",
       "4         9.4        5  \n",
       "...       ...      ...  \n",
       "1594     10.5        5  \n",
       "1595     11.2        6  \n",
       "1596     11.0        6  \n",
       "1597     10.2        5  \n",
       "1598     11.0        6  \n",
       "\n",
       "[1599 rows x 12 columns]"
      ]
     },
     "execution_count": 2,
     "metadata": {},
     "output_type": "execute_result"
    }
   ],
   "source": [
    "df = pd.read_csv('train.csv')\n",
    "df"
   ]
  },
  {
   "cell_type": "markdown",
   "id": "e061f442",
   "metadata": {},
   "source": [
    "## Explore"
   ]
  },
  {
   "cell_type": "code",
   "execution_count": 3,
   "id": "a817bc8b",
   "metadata": {
    "ExecuteTime": {
     "end_time": "2023-04-24T00:50:01.803736Z",
     "start_time": "2023-04-24T00:50:01.790148Z"
    }
   },
   "outputs": [
    {
     "name": "stdout",
     "output_type": "stream",
     "text": [
      "<class 'pandas.core.frame.DataFrame'>\n",
      "RangeIndex: 1599 entries, 0 to 1598\n",
      "Data columns (total 12 columns):\n",
      " #   Column                Non-Null Count  Dtype  \n",
      "---  ------                --------------  -----  \n",
      " 0   fixed acidity         1599 non-null   float64\n",
      " 1   volatile acidity      1599 non-null   float64\n",
      " 2   citric acid           1599 non-null   float64\n",
      " 3   residual sugar        1599 non-null   float64\n",
      " 4   chlorides             1599 non-null   float64\n",
      " 5   free sulfur dioxide   1599 non-null   float64\n",
      " 6   total sulfur dioxide  1599 non-null   float64\n",
      " 7   density               1599 non-null   float64\n",
      " 8   pH                    1599 non-null   float64\n",
      " 9   sulphates             1599 non-null   float64\n",
      " 10  alcohol               1599 non-null   float64\n",
      " 11  quality               1599 non-null   int64  \n",
      "dtypes: float64(11), int64(1)\n",
      "memory usage: 150.0 KB\n"
     ]
    }
   ],
   "source": [
    "df.info()"
   ]
  },
  {
   "cell_type": "code",
   "execution_count": 4,
   "id": "8b019848",
   "metadata": {
    "ExecuteTime": {
     "end_time": "2023-04-24T00:50:01.819053Z",
     "start_time": "2023-04-24T00:50:01.806044Z"
    }
   },
   "outputs": [
    {
     "data": {
      "text/plain": [
       "240"
      ]
     },
     "execution_count": 4,
     "metadata": {},
     "output_type": "execute_result"
    }
   ],
   "source": [
    "df.duplicated().sum()"
   ]
  },
  {
   "cell_type": "code",
   "execution_count": 5,
   "id": "dbe3e624",
   "metadata": {
    "ExecuteTime": {
     "end_time": "2023-04-24T00:50:01.834058Z",
     "start_time": "2023-04-24T00:50:01.821052Z"
    }
   },
   "outputs": [
    {
     "data": {
      "text/plain": [
       "0"
      ]
     },
     "execution_count": 5,
     "metadata": {},
     "output_type": "execute_result"
    }
   ],
   "source": [
    "df.drop_duplicates(inplace=True)\n",
    "df.duplicated().sum()"
   ]
  },
  {
   "cell_type": "code",
   "execution_count": 6,
   "id": "f566b658",
   "metadata": {
    "ExecuteTime": {
     "end_time": "2023-04-24T00:50:01.865292Z",
     "start_time": "2023-04-24T00:50:01.835064Z"
    }
   },
   "outputs": [
    {
     "data": {
      "text/html": [
       "<div>\n",
       "<style scoped>\n",
       "    .dataframe tbody tr th:only-of-type {\n",
       "        vertical-align: middle;\n",
       "    }\n",
       "\n",
       "    .dataframe tbody tr th {\n",
       "        vertical-align: top;\n",
       "    }\n",
       "\n",
       "    .dataframe thead th {\n",
       "        text-align: right;\n",
       "    }\n",
       "</style>\n",
       "<table border=\"1\" class=\"dataframe\">\n",
       "  <thead>\n",
       "    <tr style=\"text-align: right;\">\n",
       "      <th></th>\n",
       "      <th>fixed acidity</th>\n",
       "      <th>volatile acidity</th>\n",
       "      <th>citric acid</th>\n",
       "      <th>residual sugar</th>\n",
       "      <th>chlorides</th>\n",
       "      <th>free sulfur dioxide</th>\n",
       "      <th>total sulfur dioxide</th>\n",
       "      <th>density</th>\n",
       "      <th>pH</th>\n",
       "      <th>sulphates</th>\n",
       "      <th>alcohol</th>\n",
       "      <th>quality</th>\n",
       "    </tr>\n",
       "  </thead>\n",
       "  <tbody>\n",
       "    <tr>\n",
       "      <th>count</th>\n",
       "      <td>1359.000000</td>\n",
       "      <td>1359.000000</td>\n",
       "      <td>1359.000000</td>\n",
       "      <td>1359.000000</td>\n",
       "      <td>1359.000000</td>\n",
       "      <td>1359.000000</td>\n",
       "      <td>1359.000000</td>\n",
       "      <td>1359.000000</td>\n",
       "      <td>1359.000000</td>\n",
       "      <td>1359.000000</td>\n",
       "      <td>1359.000000</td>\n",
       "      <td>1359.000000</td>\n",
       "    </tr>\n",
       "    <tr>\n",
       "      <th>mean</th>\n",
       "      <td>8.310596</td>\n",
       "      <td>0.529478</td>\n",
       "      <td>0.272333</td>\n",
       "      <td>2.523400</td>\n",
       "      <td>0.088124</td>\n",
       "      <td>15.893304</td>\n",
       "      <td>46.825975</td>\n",
       "      <td>0.996709</td>\n",
       "      <td>3.309787</td>\n",
       "      <td>0.658705</td>\n",
       "      <td>10.432315</td>\n",
       "      <td>5.623252</td>\n",
       "    </tr>\n",
       "    <tr>\n",
       "      <th>std</th>\n",
       "      <td>1.736990</td>\n",
       "      <td>0.183031</td>\n",
       "      <td>0.195537</td>\n",
       "      <td>1.352314</td>\n",
       "      <td>0.049377</td>\n",
       "      <td>10.447270</td>\n",
       "      <td>33.408946</td>\n",
       "      <td>0.001869</td>\n",
       "      <td>0.155036</td>\n",
       "      <td>0.170667</td>\n",
       "      <td>1.082065</td>\n",
       "      <td>0.823578</td>\n",
       "    </tr>\n",
       "    <tr>\n",
       "      <th>min</th>\n",
       "      <td>4.600000</td>\n",
       "      <td>0.120000</td>\n",
       "      <td>0.000000</td>\n",
       "      <td>0.900000</td>\n",
       "      <td>0.012000</td>\n",
       "      <td>1.000000</td>\n",
       "      <td>6.000000</td>\n",
       "      <td>0.990070</td>\n",
       "      <td>2.740000</td>\n",
       "      <td>0.330000</td>\n",
       "      <td>8.400000</td>\n",
       "      <td>3.000000</td>\n",
       "    </tr>\n",
       "    <tr>\n",
       "      <th>25%</th>\n",
       "      <td>7.100000</td>\n",
       "      <td>0.390000</td>\n",
       "      <td>0.090000</td>\n",
       "      <td>1.900000</td>\n",
       "      <td>0.070000</td>\n",
       "      <td>7.000000</td>\n",
       "      <td>22.000000</td>\n",
       "      <td>0.995600</td>\n",
       "      <td>3.210000</td>\n",
       "      <td>0.550000</td>\n",
       "      <td>9.500000</td>\n",
       "      <td>5.000000</td>\n",
       "    </tr>\n",
       "    <tr>\n",
       "      <th>50%</th>\n",
       "      <td>7.900000</td>\n",
       "      <td>0.520000</td>\n",
       "      <td>0.260000</td>\n",
       "      <td>2.200000</td>\n",
       "      <td>0.079000</td>\n",
       "      <td>14.000000</td>\n",
       "      <td>38.000000</td>\n",
       "      <td>0.996700</td>\n",
       "      <td>3.310000</td>\n",
       "      <td>0.620000</td>\n",
       "      <td>10.200000</td>\n",
       "      <td>6.000000</td>\n",
       "    </tr>\n",
       "    <tr>\n",
       "      <th>75%</th>\n",
       "      <td>9.200000</td>\n",
       "      <td>0.640000</td>\n",
       "      <td>0.430000</td>\n",
       "      <td>2.600000</td>\n",
       "      <td>0.091000</td>\n",
       "      <td>21.000000</td>\n",
       "      <td>63.000000</td>\n",
       "      <td>0.997820</td>\n",
       "      <td>3.400000</td>\n",
       "      <td>0.730000</td>\n",
       "      <td>11.100000</td>\n",
       "      <td>6.000000</td>\n",
       "    </tr>\n",
       "    <tr>\n",
       "      <th>max</th>\n",
       "      <td>15.900000</td>\n",
       "      <td>1.580000</td>\n",
       "      <td>1.000000</td>\n",
       "      <td>15.500000</td>\n",
       "      <td>0.611000</td>\n",
       "      <td>72.000000</td>\n",
       "      <td>289.000000</td>\n",
       "      <td>1.003690</td>\n",
       "      <td>4.010000</td>\n",
       "      <td>2.000000</td>\n",
       "      <td>14.900000</td>\n",
       "      <td>8.000000</td>\n",
       "    </tr>\n",
       "  </tbody>\n",
       "</table>\n",
       "</div>"
      ],
      "text/plain": [
       "       fixed acidity  volatile acidity  citric acid  residual sugar  \\\n",
       "count    1359.000000       1359.000000  1359.000000     1359.000000   \n",
       "mean        8.310596          0.529478     0.272333        2.523400   \n",
       "std         1.736990          0.183031     0.195537        1.352314   \n",
       "min         4.600000          0.120000     0.000000        0.900000   \n",
       "25%         7.100000          0.390000     0.090000        1.900000   \n",
       "50%         7.900000          0.520000     0.260000        2.200000   \n",
       "75%         9.200000          0.640000     0.430000        2.600000   \n",
       "max        15.900000          1.580000     1.000000       15.500000   \n",
       "\n",
       "         chlorides  free sulfur dioxide  total sulfur dioxide      density  \\\n",
       "count  1359.000000          1359.000000           1359.000000  1359.000000   \n",
       "mean      0.088124            15.893304             46.825975     0.996709   \n",
       "std       0.049377            10.447270             33.408946     0.001869   \n",
       "min       0.012000             1.000000              6.000000     0.990070   \n",
       "25%       0.070000             7.000000             22.000000     0.995600   \n",
       "50%       0.079000            14.000000             38.000000     0.996700   \n",
       "75%       0.091000            21.000000             63.000000     0.997820   \n",
       "max       0.611000            72.000000            289.000000     1.003690   \n",
       "\n",
       "                pH    sulphates      alcohol      quality  \n",
       "count  1359.000000  1359.000000  1359.000000  1359.000000  \n",
       "mean      3.309787     0.658705    10.432315     5.623252  \n",
       "std       0.155036     0.170667     1.082065     0.823578  \n",
       "min       2.740000     0.330000     8.400000     3.000000  \n",
       "25%       3.210000     0.550000     9.500000     5.000000  \n",
       "50%       3.310000     0.620000    10.200000     6.000000  \n",
       "75%       3.400000     0.730000    11.100000     6.000000  \n",
       "max       4.010000     2.000000    14.900000     8.000000  "
      ]
     },
     "execution_count": 6,
     "metadata": {},
     "output_type": "execute_result"
    }
   ],
   "source": [
    "df.describe()"
   ]
  },
  {
   "cell_type": "code",
   "execution_count": 7,
   "id": "d2513221",
   "metadata": {
    "ExecuteTime": {
     "end_time": "2023-04-24T00:50:02.321212Z",
     "start_time": "2023-04-24T00:50:01.866252Z"
    }
   },
   "outputs": [
    {
     "data": {
      "image/png": "[encoded data removed]",
      "text/plain": [
       "<Figure size 432x288 with 1 Axes>"
      ]
     },
     "metadata": {
      "needs_background": "light"
     },
     "output_type": "display_data"
    }
   ],
   "source": [
    "# Wine quality classes frequancy\n",
    "sns.countplot(x= df['quality'])\n",
    "plt.xlabel('Wine quality')\n",
    "plt.ylabel('Frequancy')\n",
    "plt.title('Wine quality classes');"
   ]
  },
  {
   "cell_type": "code",
   "execution_count": 8,
   "id": "4b897020",
   "metadata": {
    "ExecuteTime": {
     "end_time": "2023-04-24T00:50:02.510598Z",
     "start_time": "2023-04-24T00:50:02.323190Z"
    }
   },
   "outputs": [
    {
     "data": {
      "image/png": "[encoded data removed]",
      "text/plain": [
       "<Figure size 360x360 with 1 Axes>"
      ]
     },
     "metadata": {
      "needs_background": "light"
     },
     "output_type": "display_data"
    }
   ],
   "source": [
    "#Relation between volatile acidity vs quality\n",
    "plot = plt.figure(figsize= (5,5))\n",
    "sns.barplot(x='quality' , y= 'volatile acidity' , data= df )\n",
    "plt.title('volatile acidity vs quality');"
   ]
  },
  {
   "cell_type": "code",
   "execution_count": 9,
   "id": "a2a9d72a",
   "metadata": {
    "ExecuteTime": {
     "end_time": "2023-04-24T00:50:02.683705Z",
     "start_time": "2023-04-24T00:50:02.512579Z"
    }
   },
   "outputs": [
    {
     "data": {
      "image/png": "[encoded data removed]",
      "text/plain": [
       "<Figure size 360x360 with 1 Axes>"
      ]
     },
     "metadata": {
      "needs_background": "light"
     },
     "output_type": "display_data"
    }
   ],
   "source": [
    "#Relation between citric acid vs quality\n",
    "plot = plt.figure(figsize= (5,5))\n",
    "sns.barplot(x='quality' , y= 'citric acid' , data= df )\n",
    "plt.title('citric acid vs quality');"
   ]
  },
  {
   "cell_type": "markdown",
   "id": "6bc67d36",
   "metadata": {},
   "source": [
    "### Correlation"
   ]
  },
  {
   "cell_type": "code",
   "execution_count": 10,
   "id": "7515d035",
   "metadata": {
    "ExecuteTime": {
     "end_time": "2023-04-24T00:50:03.158816Z",
     "start_time": "2023-04-24T00:50:02.685715Z"
    }
   },
   "outputs": [
    {
     "data": {
      "image/png": "[encoded data removed]",
      "text/plain": [
       "<Figure size 720x720 with 2 Axes>"
      ]
     },
     "metadata": {
      "needs_background": "light"
     },
     "output_type": "display_data"
    }
   ],
   "source": [
    "plt.figure(figsize=(10,10))\n",
    "corr = df.corr()\n",
    "sns.heatmap(corr ,annot=True , cmap= 'Blues');"
   ]
  },
  {
   "cell_type": "markdown",
   "id": "9e372c89",
   "metadata": {},
   "source": [
    "## Split Data"
   ]
  },
  {
   "cell_type": "code",
   "execution_count": 11,
   "id": "910fa927",
   "metadata": {
    "ExecuteTime": {
     "end_time": "2023-04-24T00:50:03.190676Z",
     "start_time": "2023-04-24T00:50:03.160838Z"
    }
   },
   "outputs": [
    {
     "data": {
      "text/html": [
       "<div>\n",
       "<style scoped>\n",
       "    .dataframe tbody tr th:only-of-type {\n",
       "        vertical-align: middle;\n",
       "    }\n",
       "\n",
       "    .dataframe tbody tr th {\n",
       "        vertical-align: top;\n",
       "    }\n",
       "\n",
       "    .dataframe thead th {\n",
       "        text-align: right;\n",
       "    }\n",
       "</style>\n",
       "<table border=\"1\" class=\"dataframe\">\n",
       "  <thead>\n",
       "    <tr style=\"text-align: right;\">\n",
       "      <th></th>\n",
       "      <th>fixed acidity</th>\n",
       "      <th>volatile acidity</th>\n",
       "      <th>citric acid</th>\n",
       "      <th>residual sugar</th>\n",
       "      <th>chlorides</th>\n",
       "      <th>free sulfur dioxide</th>\n",
       "      <th>total sulfur dioxide</th>\n",
       "      <th>density</th>\n",
       "      <th>pH</th>\n",
       "      <th>sulphates</th>\n",
       "      <th>alcohol</th>\n",
       "    </tr>\n",
       "  </thead>\n",
       "  <tbody>\n",
       "    <tr>\n",
       "      <th>0</th>\n",
       "      <td>7.4</td>\n",
       "      <td>0.700</td>\n",
       "      <td>0.00</td>\n",
       "      <td>1.9</td>\n",
       "      <td>0.076</td>\n",
       "      <td>11.0</td>\n",
       "      <td>34.0</td>\n",
       "      <td>0.99780</td>\n",
       "      <td>3.51</td>\n",
       "      <td>0.56</td>\n",
       "      <td>9.4</td>\n",
       "    </tr>\n",
       "    <tr>\n",
       "      <th>1</th>\n",
       "      <td>7.8</td>\n",
       "      <td>0.880</td>\n",
       "      <td>0.00</td>\n",
       "      <td>2.6</td>\n",
       "      <td>0.098</td>\n",
       "      <td>25.0</td>\n",
       "      <td>67.0</td>\n",
       "      <td>0.99680</td>\n",
       "      <td>3.20</td>\n",
       "      <td>0.68</td>\n",
       "      <td>9.8</td>\n",
       "    </tr>\n",
       "    <tr>\n",
       "      <th>2</th>\n",
       "      <td>7.8</td>\n",
       "      <td>0.760</td>\n",
       "      <td>0.04</td>\n",
       "      <td>2.3</td>\n",
       "      <td>0.092</td>\n",
       "      <td>15.0</td>\n",
       "      <td>54.0</td>\n",
       "      <td>0.99700</td>\n",
       "      <td>3.26</td>\n",
       "      <td>0.65</td>\n",
       "      <td>9.8</td>\n",
       "    </tr>\n",
       "    <tr>\n",
       "      <th>3</th>\n",
       "      <td>11.2</td>\n",
       "      <td>0.280</td>\n",
       "      <td>0.56</td>\n",
       "      <td>1.9</td>\n",
       "      <td>0.075</td>\n",
       "      <td>17.0</td>\n",
       "      <td>60.0</td>\n",
       "      <td>0.99800</td>\n",
       "      <td>3.16</td>\n",
       "      <td>0.58</td>\n",
       "      <td>9.8</td>\n",
       "    </tr>\n",
       "    <tr>\n",
       "      <th>5</th>\n",
       "      <td>7.4</td>\n",
       "      <td>0.660</td>\n",
       "      <td>0.00</td>\n",
       "      <td>1.8</td>\n",
       "      <td>0.075</td>\n",
       "      <td>13.0</td>\n",
       "      <td>40.0</td>\n",
       "      <td>0.99780</td>\n",
       "      <td>3.51</td>\n",
       "      <td>0.56</td>\n",
       "      <td>9.4</td>\n",
       "    </tr>\n",
       "    <tr>\n",
       "      <th>...</th>\n",
       "      <td>...</td>\n",
       "      <td>...</td>\n",
       "      <td>...</td>\n",
       "      <td>...</td>\n",
       "      <td>...</td>\n",
       "      <td>...</td>\n",
       "      <td>...</td>\n",
       "      <td>...</td>\n",
       "      <td>...</td>\n",
       "      <td>...</td>\n",
       "      <td>...</td>\n",
       "    </tr>\n",
       "    <tr>\n",
       "      <th>1593</th>\n",
       "      <td>6.8</td>\n",
       "      <td>0.620</td>\n",
       "      <td>0.08</td>\n",
       "      <td>1.9</td>\n",
       "      <td>0.068</td>\n",
       "      <td>28.0</td>\n",
       "      <td>38.0</td>\n",
       "      <td>0.99651</td>\n",
       "      <td>3.42</td>\n",
       "      <td>0.82</td>\n",
       "      <td>9.5</td>\n",
       "    </tr>\n",
       "    <tr>\n",
       "      <th>1594</th>\n",
       "      <td>6.2</td>\n",
       "      <td>0.600</td>\n",
       "      <td>0.08</td>\n",
       "      <td>2.0</td>\n",
       "      <td>0.090</td>\n",
       "      <td>32.0</td>\n",
       "      <td>44.0</td>\n",
       "      <td>0.99490</td>\n",
       "      <td>3.45</td>\n",
       "      <td>0.58</td>\n",
       "      <td>10.5</td>\n",
       "    </tr>\n",
       "    <tr>\n",
       "      <th>1595</th>\n",
       "      <td>5.9</td>\n",
       "      <td>0.550</td>\n",
       "      <td>0.10</td>\n",
       "      <td>2.2</td>\n",
       "      <td>0.062</td>\n",
       "      <td>39.0</td>\n",
       "      <td>51.0</td>\n",
       "      <td>0.99512</td>\n",
       "      <td>3.52</td>\n",
       "      <td>0.76</td>\n",
       "      <td>11.2</td>\n",
       "    </tr>\n",
       "    <tr>\n",
       "      <th>1597</th>\n",
       "      <td>5.9</td>\n",
       "      <td>0.645</td>\n",
       "      <td>0.12</td>\n",
       "      <td>2.0</td>\n",
       "      <td>0.075</td>\n",
       "      <td>32.0</td>\n",
       "      <td>44.0</td>\n",
       "      <td>0.99547</td>\n",
       "      <td>3.57</td>\n",
       "      <td>0.71</td>\n",
       "      <td>10.2</td>\n",
       "    </tr>\n",
       "    <tr>\n",
       "      <th>1598</th>\n",
       "      <td>6.0</td>\n",
       "      <td>0.310</td>\n",
       "      <td>0.47</td>\n",
       "      <td>3.6</td>\n",
       "      <td>0.067</td>\n",
       "      <td>18.0</td>\n",
       "      <td>42.0</td>\n",
       "      <td>0.99549</td>\n",
       "      <td>3.39</td>\n",
       "      <td>0.66</td>\n",
       "      <td>11.0</td>\n",
       "    </tr>\n",
       "  </tbody>\n",
       "</table>\n",
       "<p>1359 rows × 11 columns</p>\n",
       "</div>"
      ],
      "text/plain": [
       "      fixed acidity  volatile acidity  citric acid  residual sugar  chlorides  \\\n",
       "0               7.4             0.700         0.00             1.9      0.076   \n",
       "1               7.8             0.880         0.00             2.6      0.098   \n",
       "2               7.8             0.760         0.04             2.3      0.092   \n",
       "3              11.2             0.280         0.56             1.9      0.075   \n",
       "5               7.4             0.660         0.00             1.8      0.075   \n",
       "...             ...               ...          ...             ...        ...   \n",
       "1593            6.8             0.620         0.08             1.9      0.068   \n",
       "1594            6.2             0.600         0.08             2.0      0.090   \n",
       "1595            5.9             0.550         0.10             2.2      0.062   \n",
       "1597            5.9             0.645         0.12             2.0      0.075   \n",
       "1598            6.0             0.310         0.47             3.6      0.067   \n",
       "\n",
       "      free sulfur dioxide  total sulfur dioxide  density    pH  sulphates  \\\n",
       "0                    11.0                  34.0  0.99780  3.51       0.56   \n",
       "1                    25.0                  67.0  0.99680  3.20       0.68   \n",
       "2                    15.0                  54.0  0.99700  3.26       0.65   \n",
       "3                    17.0                  60.0  0.99800  3.16       0.58   \n",
       "5                    13.0                  40.0  0.99780  3.51       0.56   \n",
       "...                   ...                   ...      ...   ...        ...   \n",
       "1593                 28.0                  38.0  0.99651  3.42       0.82   \n",
       "1594                 32.0                  44.0  0.99490  3.45       0.58   \n",
       "1595                 39.0                  51.0  0.99512  3.52       0.76   \n",
       "1597                 32.0                  44.0  0.99547  3.57       0.71   \n",
       "1598                 18.0                  42.0  0.99549  3.39       0.66   \n",
       "\n",
       "      alcohol  \n",
       "0         9.4  \n",
       "1         9.8  \n",
       "2         9.8  \n",
       "3         9.8  \n",
       "5         9.4  \n",
       "...       ...  \n",
       "1593      9.5  \n",
       "1594     10.5  \n",
       "1595     11.2  \n",
       "1597     10.2  \n",
       "1598     11.0  \n",
       "\n",
       "[1359 rows x 11 columns]"
      ]
     },
     "execution_count": 11,
     "metadata": {},
     "output_type": "execute_result"
    }
   ],
   "source": [
    "X = df.drop(columns= ['quality'])\n",
    "X"
   ]
  },
  {
   "cell_type": "markdown",
   "id": "7f07fab0",
   "metadata": {},
   "source": [
    "### Label Binarization"
   ]
  },
  {
   "cell_type": "code",
   "execution_count": 12,
   "id": "f061a74b",
   "metadata": {
    "ExecuteTime": {
     "end_time": "2023-04-24T00:50:03.206631Z",
     "start_time": "2023-04-24T00:50:03.192629Z"
    }
   },
   "outputs": [
    {
     "data": {
      "text/plain": [
       "0       0\n",
       "1       0\n",
       "2       0\n",
       "3       0\n",
       "5       0\n",
       "       ..\n",
       "1593    0\n",
       "1594    0\n",
       "1595    0\n",
       "1597    0\n",
       "1598    0\n",
       "Name: quality, Length: 1359, dtype: int32"
      ]
     },
     "execution_count": 12,
     "metadata": {},
     "output_type": "execute_result"
    }
   ],
   "source": [
    "y = (df['quality'] > 6).astype(int)\n",
    "y"
   ]
  },
  {
   "cell_type": "code",
   "execution_count": 13,
   "id": "190df429",
   "metadata": {
    "ExecuteTime": {
     "end_time": "2023-04-24T00:50:03.221884Z",
     "start_time": "2023-04-24T00:50:03.208650Z"
    }
   },
   "outputs": [
    {
     "name": "stdout",
     "output_type": "stream",
     "text": [
      "X shape: (1359, 11)\n",
      "y shape: (1359,)\n"
     ]
    }
   ],
   "source": [
    "print(\"X shape:\", X.shape)\n",
    "print(\"y shape:\", y.shape)"
   ]
  },
  {
   "cell_type": "markdown",
   "id": "c5f11b01",
   "metadata": {},
   "source": [
    "### Train & Test Split"
   ]
  },
  {
   "cell_type": "code",
   "execution_count": 14,
   "id": "6df8393d",
   "metadata": {
    "ExecuteTime": {
     "end_time": "2023-04-24T00:50:03.237430Z",
     "start_time": "2023-04-24T00:50:03.223396Z"
    }
   },
   "outputs": [],
   "source": [
    "X_train, X_test, y_train, y_test = train_test_split(X, y, test_size=0.2, random_state=42)"
   ]
  },
  {
   "cell_type": "code",
   "execution_count": 15,
   "id": "cc471d2c",
   "metadata": {
    "ExecuteTime": {
     "end_time": "2023-04-24T00:50:03.253490Z",
     "start_time": "2023-04-24T00:50:03.239452Z"
    }
   },
   "outputs": [
    {
     "name": "stdout",
     "output_type": "stream",
     "text": [
      "X_train shape: (1087, 11)\n",
      "y_train shape: (1087,)\n",
      "X_test shape: (272, 11)\n",
      "y_test shape: (272,)\n"
     ]
    }
   ],
   "source": [
    "print(\"X_train shape:\", X_train.shape)\n",
    "print(\"y_train shape:\", y_train.shape)\n",
    "print(\"X_test shape:\", X_test.shape)\n",
    "print(\"y_test shape:\", y_test.shape)"
   ]
  },
  {
   "cell_type": "markdown",
   "id": "d12c7e5d",
   "metadata": {},
   "source": [
    "## Build Baseline"
   ]
  },
  {
   "cell_type": "code",
   "execution_count": 16,
   "id": "7cec772a",
   "metadata": {
    "ExecuteTime": {
     "end_time": "2023-04-24T00:50:03.269361Z",
     "start_time": "2023-04-24T00:50:03.255521Z"
    }
   },
   "outputs": [
    {
     "name": "stdout",
     "output_type": "stream",
     "text": [
      "Baseline Accuracy: 0.8646\n"
     ]
    }
   ],
   "source": [
    "acc_baseline = y.value_counts(normalize= True).max()\n",
    "print(\"Baseline Accuracy:\", round(acc_baseline, 4))"
   ]
  },
  {
   "cell_type": "markdown",
   "id": "2baeacfa",
   "metadata": {},
   "source": [
    "## Iterate"
   ]
  },
  {
   "cell_type": "markdown",
   "id": "5c87f279",
   "metadata": {},
   "source": [
    "## KNeighborsClassifier"
   ]
  },
  {
   "cell_type": "code",
   "execution_count": 17,
   "id": "b2020b39",
   "metadata": {
    "ExecuteTime": {
     "end_time": "2023-04-24T00:50:03.410244Z",
     "start_time": "2023-04-24T00:50:03.271445Z"
    }
   },
   "outputs": [
    {
     "name": "stdout",
     "output_type": "stream",
     "text": [
      "Training accuracy: f[0.9098436062557498, 0.8822447102115916, 0.8831646734130635, 0.8693652253909844, 0.8666053357865685]\n",
      "Testing accuracy: f[0.8823529411764706, 0.8897058823529411, 0.8786764705882353, 0.875, 0.875]\n"
     ]
    }
   ],
   "source": [
    "k_neighbors = range(2 , 11 , 2)\n",
    "Training_acc = []\n",
    "Testing_acc = []\n",
    "\n",
    "for i in k_neighbors:\n",
    "    \n",
    "    model = KNeighborsClassifier(n_neighbors= i)\n",
    "    model.fit(X_train , y_train)\n",
    "    Training_acc.append(model.score(X_train , y_train))\n",
    "    Testing_acc.append(model.score(X_test , y_test))\n",
    "    \n",
    "print(f'Training accuracy: f{Training_acc}')\n",
    "print(f'Testing accuracy: f{Testing_acc}')"
   ]
  },
  {
   "cell_type": "code",
   "execution_count": 18,
   "id": "a137dfa1",
   "metadata": {
    "ExecuteTime": {
     "end_time": "2023-04-24T00:50:03.504827Z",
     "start_time": "2023-04-24T00:50:03.413164Z"
    }
   },
   "outputs": [
    {
     "data": {
      "image/png": "[encoded data removed]",
      "text/plain": [
       "<Figure size 432x288 with 1 Axes>"
      ]
     },
     "metadata": {
      "needs_background": "light"
     },
     "output_type": "display_data"
    }
   ],
   "source": [
    "# Plot `k_neighbors`, `training_acc`\n",
    "plt.plot(k_neighbors , Training_acc , label= 'Training')\n",
    "plt.plot(k_neighbors , Testing_acc , label= 'Testing')\n",
    "plt.xlabel('K-neighbors')\n",
    "plt.ylabel('Accuracy_score')\n",
    "plt.legend();"
   ]
  },
  {
   "cell_type": "markdown",
   "id": "76d856eb",
   "metadata": {},
   "source": [
    "Based on the visualization the best parameter for n_neighbors is 4"
   ]
  },
  {
   "cell_type": "code",
   "execution_count": 19,
   "id": "af498973",
   "metadata": {
    "ExecuteTime": {
     "end_time": "2023-04-24T00:50:03.520280Z",
     "start_time": "2023-04-24T00:50:03.506857Z"
    }
   },
   "outputs": [],
   "source": [
    "final_model = KNeighborsClassifier(n_neighbors= 4)"
   ]
  },
  {
   "cell_type": "code",
   "execution_count": 20,
   "id": "fc61d1ef",
   "metadata": {
    "ExecuteTime": {
     "end_time": "2023-04-24T00:50:03.535956Z",
     "start_time": "2023-04-24T00:50:03.522405Z"
    }
   },
   "outputs": [
    {
     "data": {
      "text/plain": [
       "KNeighborsClassifier(n_neighbors=4)"
      ]
     },
     "execution_count": 20,
     "metadata": {},
     "output_type": "execute_result"
    }
   ],
   "source": [
    "final_model.fit(X_train , y_train)"
   ]
  },
  {
   "cell_type": "code",
   "execution_count": 21,
   "id": "3d08d422",
   "metadata": {
    "ExecuteTime": {
     "end_time": "2023-04-24T00:50:03.582597Z",
     "start_time": "2023-04-24T00:50:03.537879Z"
    }
   },
   "outputs": [
    {
     "name": "stdout",
     "output_type": "stream",
     "text": [
      "Training accuracy: f0.8822447102115916\n",
      "Testing accuracy: f0.8897058823529411\n"
     ]
    }
   ],
   "source": [
    "print(f'Training accuracy: f{final_model.score(X_train , y_train)}')\n",
    "print(f'Testing accuracy: f{final_model.score(X_test , y_test)}')"
   ]
  },
  {
   "cell_type": "markdown",
   "id": "191192e3",
   "metadata": {},
   "source": [
    "## RandomForestClassifier"
   ]
  },
  {
   "cell_type": "code",
   "execution_count": 22,
   "id": "a12c9cd8",
   "metadata": {
    "ExecuteTime": {
     "end_time": "2023-04-24T00:50:03.597824Z",
     "start_time": "2023-04-24T00:50:03.584691Z"
    }
   },
   "outputs": [],
   "source": [
    "clf = RandomForestClassifier(random_state= 42)"
   ]
  },
  {
   "cell_type": "code",
   "execution_count": 23,
   "id": "954dadb1",
   "metadata": {
    "ExecuteTime": {
     "end_time": "2023-04-24T00:50:03.613613Z",
     "start_time": "2023-04-24T00:50:03.598829Z"
    }
   },
   "outputs": [
    {
     "data": {
      "text/plain": [
       "{'max_depth': range(10, 60, 10), 'n_estimators': range(25, 100, 25)}"
      ]
     },
     "execution_count": 23,
     "metadata": {},
     "output_type": "execute_result"
    }
   ],
   "source": [
    "params = {\n",
    "    'max_depth': range(10 , 60 , 10),\n",
    "    'n_estimators': range(25 , 100 , 25)\n",
    "}\n",
    "params"
   ]
  },
  {
   "cell_type": "code",
   "execution_count": 24,
   "id": "3186dae5",
   "metadata": {
    "ExecuteTime": {
     "end_time": "2023-04-24T00:50:03.628522Z",
     "start_time": "2023-04-24T00:50:03.615427Z"
    }
   },
   "outputs": [
    {
     "data": {
      "text/plain": [
       "GridSearchCV(cv=5, estimator=RandomForestClassifier(random_state=42), n_jobs=-1,\n",
       "             param_grid={'max_depth': range(10, 60, 10),\n",
       "                         'n_estimators': range(25, 100, 25)},\n",
       "             verbose=1)"
      ]
     },
     "execution_count": 24,
     "metadata": {},
     "output_type": "execute_result"
    }
   ],
   "source": [
    "rfc_model = GridSearchCV(\n",
    "    clf,\n",
    "    param_grid= params,\n",
    "    cv= 5,\n",
    "    n_jobs= -1,\n",
    "    verbose=1\n",
    ")\n",
    "rfc_model"
   ]
  },
  {
   "cell_type": "code",
   "execution_count": 25,
   "id": "97093698",
   "metadata": {
    "ExecuteTime": {
     "end_time": "2023-04-24T00:50:07.829854Z",
     "start_time": "2023-04-24T00:50:03.630902Z"
    }
   },
   "outputs": [
    {
     "name": "stdout",
     "output_type": "stream",
     "text": [
      "Fitting 5 folds for each of 15 candidates, totalling 75 fits\n"
     ]
    },
    {
     "data": {
      "text/plain": [
       "GridSearchCV(cv=5, estimator=RandomForestClassifier(random_state=42), n_jobs=-1,\n",
       "             param_grid={'max_depth': range(10, 60, 10),\n",
       "                         'n_estimators': range(25, 100, 25)},\n",
       "             verbose=1)"
      ]
     },
     "execution_count": 25,
     "metadata": {},
     "output_type": "execute_result"
    }
   ],
   "source": [
    "rfc_model.fit(X_train , y_train)"
   ]
  },
  {
   "cell_type": "code",
   "execution_count": 26,
   "id": "adafca31",
   "metadata": {
    "ExecuteTime": {
     "end_time": "2023-04-24T00:50:07.861005Z",
     "start_time": "2023-04-24T00:50:07.831860Z"
    }
   },
   "outputs": [
    {
     "data": {
      "text/html": [
       "<div>\n",
       "<style scoped>\n",
       "    .dataframe tbody tr th:only-of-type {\n",
       "        vertical-align: middle;\n",
       "    }\n",
       "\n",
       "    .dataframe tbody tr th {\n",
       "        vertical-align: top;\n",
       "    }\n",
       "\n",
       "    .dataframe thead th {\n",
       "        text-align: right;\n",
       "    }\n",
       "</style>\n",
       "<table border=\"1\" class=\"dataframe\">\n",
       "  <thead>\n",
       "    <tr style=\"text-align: right;\">\n",
       "      <th></th>\n",
       "      <th>mean_fit_time</th>\n",
       "      <th>std_fit_time</th>\n",
       "      <th>mean_score_time</th>\n",
       "      <th>std_score_time</th>\n",
       "      <th>param_max_depth</th>\n",
       "      <th>param_n_estimators</th>\n",
       "      <th>params</th>\n",
       "      <th>split0_test_score</th>\n",
       "      <th>split1_test_score</th>\n",
       "      <th>split2_test_score</th>\n",
       "      <th>split3_test_score</th>\n",
       "      <th>split4_test_score</th>\n",
       "      <th>mean_test_score</th>\n",
       "      <th>std_test_score</th>\n",
       "      <th>rank_test_score</th>\n",
       "    </tr>\n",
       "  </thead>\n",
       "  <tbody>\n",
       "    <tr>\n",
       "      <th>4</th>\n",
       "      <td>0.130112</td>\n",
       "      <td>0.015404</td>\n",
       "      <td>0.008001</td>\n",
       "      <td>0.000634</td>\n",
       "      <td>20</td>\n",
       "      <td>50</td>\n",
       "      <td>{'max_depth': 20, 'n_estimators': 50}</td>\n",
       "      <td>0.889908</td>\n",
       "      <td>0.866972</td>\n",
       "      <td>0.903226</td>\n",
       "      <td>0.843318</td>\n",
       "      <td>0.866359</td>\n",
       "      <td>0.873957</td>\n",
       "      <td>0.020767</td>\n",
       "      <td>1</td>\n",
       "    </tr>\n",
       "    <tr>\n",
       "      <th>7</th>\n",
       "      <td>0.131035</td>\n",
       "      <td>0.012340</td>\n",
       "      <td>0.008503</td>\n",
       "      <td>0.001413</td>\n",
       "      <td>30</td>\n",
       "      <td>50</td>\n",
       "      <td>{'max_depth': 30, 'n_estimators': 50}</td>\n",
       "      <td>0.889908</td>\n",
       "      <td>0.866972</td>\n",
       "      <td>0.903226</td>\n",
       "      <td>0.843318</td>\n",
       "      <td>0.866359</td>\n",
       "      <td>0.873957</td>\n",
       "      <td>0.020767</td>\n",
       "      <td>1</td>\n",
       "    </tr>\n",
       "    <tr>\n",
       "      <th>10</th>\n",
       "      <td>0.121021</td>\n",
       "      <td>0.012736</td>\n",
       "      <td>0.008829</td>\n",
       "      <td>0.002619</td>\n",
       "      <td>40</td>\n",
       "      <td>50</td>\n",
       "      <td>{'max_depth': 40, 'n_estimators': 50}</td>\n",
       "      <td>0.889908</td>\n",
       "      <td>0.866972</td>\n",
       "      <td>0.903226</td>\n",
       "      <td>0.843318</td>\n",
       "      <td>0.866359</td>\n",
       "      <td>0.873957</td>\n",
       "      <td>0.020767</td>\n",
       "      <td>1</td>\n",
       "    </tr>\n",
       "    <tr>\n",
       "      <th>13</th>\n",
       "      <td>0.111301</td>\n",
       "      <td>0.005160</td>\n",
       "      <td>0.007104</td>\n",
       "      <td>0.000799</td>\n",
       "      <td>50</td>\n",
       "      <td>50</td>\n",
       "      <td>{'max_depth': 50, 'n_estimators': 50}</td>\n",
       "      <td>0.889908</td>\n",
       "      <td>0.866972</td>\n",
       "      <td>0.903226</td>\n",
       "      <td>0.843318</td>\n",
       "      <td>0.866359</td>\n",
       "      <td>0.873957</td>\n",
       "      <td>0.020767</td>\n",
       "      <td>1</td>\n",
       "    </tr>\n",
       "    <tr>\n",
       "      <th>5</th>\n",
       "      <td>0.196369</td>\n",
       "      <td>0.018499</td>\n",
       "      <td>0.012505</td>\n",
       "      <td>0.002788</td>\n",
       "      <td>20</td>\n",
       "      <td>75</td>\n",
       "      <td>{'max_depth': 20, 'n_estimators': 75}</td>\n",
       "      <td>0.889908</td>\n",
       "      <td>0.848624</td>\n",
       "      <td>0.894009</td>\n",
       "      <td>0.847926</td>\n",
       "      <td>0.866359</td>\n",
       "      <td>0.869365</td>\n",
       "      <td>0.019638</td>\n",
       "      <td>5</td>\n",
       "    </tr>\n",
       "    <tr>\n",
       "      <th>8</th>\n",
       "      <td>0.173444</td>\n",
       "      <td>0.009816</td>\n",
       "      <td>0.010335</td>\n",
       "      <td>0.000381</td>\n",
       "      <td>30</td>\n",
       "      <td>75</td>\n",
       "      <td>{'max_depth': 30, 'n_estimators': 75}</td>\n",
       "      <td>0.889908</td>\n",
       "      <td>0.848624</td>\n",
       "      <td>0.894009</td>\n",
       "      <td>0.847926</td>\n",
       "      <td>0.866359</td>\n",
       "      <td>0.869365</td>\n",
       "      <td>0.019638</td>\n",
       "      <td>5</td>\n",
       "    </tr>\n",
       "    <tr>\n",
       "      <th>11</th>\n",
       "      <td>0.170474</td>\n",
       "      <td>0.008453</td>\n",
       "      <td>0.010799</td>\n",
       "      <td>0.000399</td>\n",
       "      <td>40</td>\n",
       "      <td>75</td>\n",
       "      <td>{'max_depth': 40, 'n_estimators': 75}</td>\n",
       "      <td>0.889908</td>\n",
       "      <td>0.848624</td>\n",
       "      <td>0.894009</td>\n",
       "      <td>0.847926</td>\n",
       "      <td>0.866359</td>\n",
       "      <td>0.869365</td>\n",
       "      <td>0.019638</td>\n",
       "      <td>5</td>\n",
       "    </tr>\n",
       "    <tr>\n",
       "      <th>14</th>\n",
       "      <td>0.137800</td>\n",
       "      <td>0.012514</td>\n",
       "      <td>0.006001</td>\n",
       "      <td>0.000003</td>\n",
       "      <td>50</td>\n",
       "      <td>75</td>\n",
       "      <td>{'max_depth': 50, 'n_estimators': 75}</td>\n",
       "      <td>0.889908</td>\n",
       "      <td>0.848624</td>\n",
       "      <td>0.894009</td>\n",
       "      <td>0.847926</td>\n",
       "      <td>0.866359</td>\n",
       "      <td>0.869365</td>\n",
       "      <td>0.019638</td>\n",
       "      <td>5</td>\n",
       "    </tr>\n",
       "    <tr>\n",
       "      <th>3</th>\n",
       "      <td>0.060373</td>\n",
       "      <td>0.002838</td>\n",
       "      <td>0.005002</td>\n",
       "      <td>0.000004</td>\n",
       "      <td>20</td>\n",
       "      <td>25</td>\n",
       "      <td>{'max_depth': 20, 'n_estimators': 25}</td>\n",
       "      <td>0.894495</td>\n",
       "      <td>0.853211</td>\n",
       "      <td>0.889401</td>\n",
       "      <td>0.843318</td>\n",
       "      <td>0.866359</td>\n",
       "      <td>0.869357</td>\n",
       "      <td>0.019907</td>\n",
       "      <td>9</td>\n",
       "    </tr>\n",
       "    <tr>\n",
       "      <th>6</th>\n",
       "      <td>0.062769</td>\n",
       "      <td>0.008563</td>\n",
       "      <td>0.005229</td>\n",
       "      <td>0.000384</td>\n",
       "      <td>30</td>\n",
       "      <td>25</td>\n",
       "      <td>{'max_depth': 30, 'n_estimators': 25}</td>\n",
       "      <td>0.894495</td>\n",
       "      <td>0.853211</td>\n",
       "      <td>0.889401</td>\n",
       "      <td>0.843318</td>\n",
       "      <td>0.866359</td>\n",
       "      <td>0.869357</td>\n",
       "      <td>0.019907</td>\n",
       "      <td>9</td>\n",
       "    </tr>\n",
       "    <tr>\n",
       "      <th>9</th>\n",
       "      <td>0.071125</td>\n",
       "      <td>0.010817</td>\n",
       "      <td>0.004802</td>\n",
       "      <td>0.000401</td>\n",
       "      <td>40</td>\n",
       "      <td>25</td>\n",
       "      <td>{'max_depth': 40, 'n_estimators': 25}</td>\n",
       "      <td>0.894495</td>\n",
       "      <td>0.853211</td>\n",
       "      <td>0.889401</td>\n",
       "      <td>0.843318</td>\n",
       "      <td>0.866359</td>\n",
       "      <td>0.869357</td>\n",
       "      <td>0.019907</td>\n",
       "      <td>9</td>\n",
       "    </tr>\n",
       "    <tr>\n",
       "      <th>12</th>\n",
       "      <td>0.059844</td>\n",
       "      <td>0.003476</td>\n",
       "      <td>0.005002</td>\n",
       "      <td>0.000004</td>\n",
       "      <td>50</td>\n",
       "      <td>25</td>\n",
       "      <td>{'max_depth': 50, 'n_estimators': 25}</td>\n",
       "      <td>0.894495</td>\n",
       "      <td>0.853211</td>\n",
       "      <td>0.889401</td>\n",
       "      <td>0.843318</td>\n",
       "      <td>0.866359</td>\n",
       "      <td>0.869357</td>\n",
       "      <td>0.019907</td>\n",
       "      <td>9</td>\n",
       "    </tr>\n",
       "    <tr>\n",
       "      <th>1</th>\n",
       "      <td>0.138591</td>\n",
       "      <td>0.021552</td>\n",
       "      <td>0.009755</td>\n",
       "      <td>0.003688</td>\n",
       "      <td>10</td>\n",
       "      <td>50</td>\n",
       "      <td>{'max_depth': 10, 'n_estimators': 50}</td>\n",
       "      <td>0.880734</td>\n",
       "      <td>0.857798</td>\n",
       "      <td>0.889401</td>\n",
       "      <td>0.834101</td>\n",
       "      <td>0.880184</td>\n",
       "      <td>0.868444</td>\n",
       "      <td>0.020104</td>\n",
       "      <td>13</td>\n",
       "    </tr>\n",
       "    <tr>\n",
       "      <th>2</th>\n",
       "      <td>0.199723</td>\n",
       "      <td>0.025806</td>\n",
       "      <td>0.012041</td>\n",
       "      <td>0.001393</td>\n",
       "      <td>10</td>\n",
       "      <td>75</td>\n",
       "      <td>{'max_depth': 10, 'n_estimators': 75}</td>\n",
       "      <td>0.894495</td>\n",
       "      <td>0.844037</td>\n",
       "      <td>0.880184</td>\n",
       "      <td>0.834101</td>\n",
       "      <td>0.866359</td>\n",
       "      <td>0.863835</td>\n",
       "      <td>0.022315</td>\n",
       "      <td>14</td>\n",
       "    </tr>\n",
       "    <tr>\n",
       "      <th>0</th>\n",
       "      <td>0.060799</td>\n",
       "      <td>0.000890</td>\n",
       "      <td>0.005409</td>\n",
       "      <td>0.000406</td>\n",
       "      <td>10</td>\n",
       "      <td>25</td>\n",
       "      <td>{'max_depth': 10, 'n_estimators': 25}</td>\n",
       "      <td>0.866972</td>\n",
       "      <td>0.844037</td>\n",
       "      <td>0.880184</td>\n",
       "      <td>0.829493</td>\n",
       "      <td>0.880184</td>\n",
       "      <td>0.860174</td>\n",
       "      <td>0.020242</td>\n",
       "      <td>15</td>\n",
       "    </tr>\n",
       "  </tbody>\n",
       "</table>\n",
       "</div>"
      ],
      "text/plain": [
       "    mean_fit_time  std_fit_time  mean_score_time  std_score_time  \\\n",
       "4        0.130112      0.015404         0.008001        0.000634   \n",
       "7        0.131035      0.012340         0.008503        0.001413   \n",
       "10       0.121021      0.012736         0.008829        0.002619   \n",
       "13       0.111301      0.005160         0.007104        0.000799   \n",
       "5        0.196369      0.018499         0.012505        0.002788   \n",
       "8        0.173444      0.009816         0.010335        0.000381   \n",
       "11       0.170474      0.008453         0.010799        0.000399   \n",
       "14       0.137800      0.012514         0.006001        0.000003   \n",
       "3        0.060373      0.002838         0.005002        0.000004   \n",
       "6        0.062769      0.008563         0.005229        0.000384   \n",
       "9        0.071125      0.010817         0.004802        0.000401   \n",
       "12       0.059844      0.003476         0.005002        0.000004   \n",
       "1        0.138591      0.021552         0.009755        0.003688   \n",
       "2        0.199723      0.025806         0.012041        0.001393   \n",
       "0        0.060799      0.000890         0.005409        0.000406   \n",
       "\n",
       "   param_max_depth param_n_estimators                                 params  \\\n",
       "4               20                 50  {'max_depth': 20, 'n_estimators': 50}   \n",
       "7               30                 50  {'max_depth': 30, 'n_estimators': 50}   \n",
       "10              40                 50  {'max_depth': 40, 'n_estimators': 50}   \n",
       "13              50                 50  {'max_depth': 50, 'n_estimators': 50}   \n",
       "5               20                 75  {'max_depth': 20, 'n_estimators': 75}   \n",
       "8               30                 75  {'max_depth': 30, 'n_estimators': 75}   \n",
       "11              40                 75  {'max_depth': 40, 'n_estimators': 75}   \n",
       "14              50                 75  {'max_depth': 50, 'n_estimators': 75}   \n",
       "3               20                 25  {'max_depth': 20, 'n_estimators': 25}   \n",
       "6               30                 25  {'max_depth': 30, 'n_estimators': 25}   \n",
       "9               40                 25  {'max_depth': 40, 'n_estimators': 25}   \n",
       "12              50                 25  {'max_depth': 50, 'n_estimators': 25}   \n",
       "1               10                 50  {'max_depth': 10, 'n_estimators': 50}   \n",
       "2               10                 75  {'max_depth': 10, 'n_estimators': 75}   \n",
       "0               10                 25  {'max_depth': 10, 'n_estimators': 25}   \n",
       "\n",
       "    split0_test_score  split1_test_score  split2_test_score  \\\n",
       "4            0.889908           0.866972           0.903226   \n",
       "7            0.889908           0.866972           0.903226   \n",
       "10           0.889908           0.866972           0.903226   \n",
       "13           0.889908           0.866972           0.903226   \n",
       "5            0.889908           0.848624           0.894009   \n",
       "8            0.889908           0.848624           0.894009   \n",
       "11           0.889908           0.848624           0.894009   \n",
       "14           0.889908           0.848624           0.894009   \n",
       "3            0.894495           0.853211           0.889401   \n",
       "6            0.894495           0.853211           0.889401   \n",
       "9            0.894495           0.853211           0.889401   \n",
       "12           0.894495           0.853211           0.889401   \n",
       "1            0.880734           0.857798           0.889401   \n",
       "2            0.894495           0.844037           0.880184   \n",
       "0            0.866972           0.844037           0.880184   \n",
       "\n",
       "    split3_test_score  split4_test_score  mean_test_score  std_test_score  \\\n",
       "4            0.843318           0.866359         0.873957        0.020767   \n",
       "7            0.843318           0.866359         0.873957        0.020767   \n",
       "10           0.843318           0.866359         0.873957        0.020767   \n",
       "13           0.843318           0.866359         0.873957        0.020767   \n",
       "5            0.847926           0.866359         0.869365        0.019638   \n",
       "8            0.847926           0.866359         0.869365        0.019638   \n",
       "11           0.847926           0.866359         0.869365        0.019638   \n",
       "14           0.847926           0.866359         0.869365        0.019638   \n",
       "3            0.843318           0.866359         0.869357        0.019907   \n",
       "6            0.843318           0.866359         0.869357        0.019907   \n",
       "9            0.843318           0.866359         0.869357        0.019907   \n",
       "12           0.843318           0.866359         0.869357        0.019907   \n",
       "1            0.834101           0.880184         0.868444        0.020104   \n",
       "2            0.834101           0.866359         0.863835        0.022315   \n",
       "0            0.829493           0.880184         0.860174        0.020242   \n",
       "\n",
       "    rank_test_score  \n",
       "4                 1  \n",
       "7                 1  \n",
       "10                1  \n",
       "13                1  \n",
       "5                 5  \n",
       "8                 5  \n",
       "11                5  \n",
       "14                5  \n",
       "3                 9  \n",
       "6                 9  \n",
       "9                 9  \n",
       "12                9  \n",
       "1                13  \n",
       "2                14  \n",
       "0                15  "
      ]
     },
     "execution_count": 26,
     "metadata": {},
     "output_type": "execute_result"
    }
   ],
   "source": [
    "cv_results = pd.DataFrame(rfc_model.cv_results_)\n",
    "cv_results.sort_values(by= 'rank_test_score')"
   ]
  },
  {
   "cell_type": "code",
   "execution_count": 27,
   "id": "d0330f53",
   "metadata": {
    "ExecuteTime": {
     "end_time": "2023-04-24T00:50:07.876609Z",
     "start_time": "2023-04-24T00:50:07.862438Z"
    }
   },
   "outputs": [
    {
     "data": {
      "text/plain": [
       "{'max_depth': 20, 'n_estimators': 50}"
      ]
     },
     "execution_count": 27,
     "metadata": {},
     "output_type": "execute_result"
    }
   ],
   "source": [
    "rfc_model.best_params_"
   ]
  },
  {
   "cell_type": "code",
   "execution_count": 28,
   "id": "c7465f4f",
   "metadata": {
    "ExecuteTime": {
     "end_time": "2023-04-24T00:50:07.892465Z",
     "start_time": "2023-04-24T00:50:07.880611Z"
    }
   },
   "outputs": [
    {
     "data": {
      "text/plain": [
       "array([0, 0, 0, 0, 0, 1, 0, 0, 0, 0, 0, 0, 0, 0, 0, 0, 0, 0, 0, 0, 0, 0,\n",
       "       0, 0, 0, 0, 0, 0, 0, 0, 0, 0, 0, 0, 0, 0, 0, 0, 0, 0, 0, 0, 0, 0,\n",
       "       0, 0, 0, 0, 0, 0, 0, 0, 0, 0, 0, 0, 0, 0, 0, 0, 0, 0, 0, 0, 0, 0,\n",
       "       0, 0, 0, 1, 0, 1, 0, 0, 0, 0, 0, 0, 0, 0, 0, 0, 0, 0, 0, 1, 0, 0,\n",
       "       0, 0, 0, 0, 0, 0, 0, 0, 0, 1, 0, 0, 0, 0, 0, 0, 0, 0, 0, 0, 0, 0,\n",
       "       0, 0, 0, 0, 0, 0, 0, 0, 0, 0, 0, 0, 0, 0, 0, 0, 0, 0, 0, 0, 0, 0,\n",
       "       0, 0, 0, 0, 1, 0, 0, 0, 0, 0, 1, 0, 0, 0, 0, 0, 0, 0, 0, 0, 0, 0,\n",
       "       0, 0, 0, 0, 0, 0, 0, 0, 0, 0, 0, 0, 0, 0, 0, 0, 0, 0, 0, 0, 0, 0,\n",
       "       0, 0, 0, 0, 0, 0, 0, 0, 0, 0, 0, 0, 0, 0, 0, 0, 0, 0, 0, 0, 1, 0,\n",
       "       0, 0, 0, 1, 0, 1, 0, 0, 0, 0, 0, 0, 1, 0, 0, 0, 0, 0, 1, 1, 0, 0,\n",
       "       0, 0, 0, 0, 0, 0, 0, 0, 0, 0, 0, 0, 0, 0, 0, 1, 0, 0, 0, 0, 0, 0,\n",
       "       0, 0, 0, 0, 0, 0, 0, 1, 0, 0, 1, 0, 0, 0, 0, 0, 0, 0, 1, 0, 0, 0,\n",
       "       0, 0, 0, 0, 0, 0, 0, 0])"
      ]
     },
     "execution_count": 28,
     "metadata": {},
     "output_type": "execute_result"
    }
   ],
   "source": [
    "rfc_model.predict(X_test)"
   ]
  },
  {
   "cell_type": "markdown",
   "id": "4afd9ba0",
   "metadata": {},
   "source": [
    "## ConfusionMatrix"
   ]
  },
  {
   "cell_type": "code",
   "execution_count": 29,
   "id": "ed8dbf75",
   "metadata": {
    "ExecuteTime": {
     "end_time": "2023-04-24T00:50:08.000943Z",
     "start_time": "2023-04-24T00:50:07.894486Z"
    }
   },
   "outputs": [
    {
     "data": {
      "image/png": "[encoded data removed]",
      "text/plain": [
       "<Figure size 432x288 with 2 Axes>"
      ]
     },
     "metadata": {
      "needs_background": "light"
     },
     "output_type": "display_data"
    }
   ],
   "source": [
    "ConfusionMatrixDisplay.from_estimator(\n",
    "    rfc_model,\n",
    "    X_test,\n",
    "    y_test\n",
    ");"
   ]
  },
  {
   "cell_type": "markdown",
   "id": "62f75066",
   "metadata": {},
   "source": [
    "## a Classification report to look at the whole picture of the classification model performances. A classification report includes precision, recall, F1 score and support."
   ]
  },
  {
   "cell_type": "code",
   "execution_count": 30,
   "id": "05295663",
   "metadata": {
    "ExecuteTime": {
     "end_time": "2023-04-24T00:50:08.032482Z",
     "start_time": "2023-04-24T00:50:08.002865Z"
    }
   },
   "outputs": [
    {
     "name": "stdout",
     "output_type": "stream",
     "text": [
      "              precision    recall  f1-score   support\n",
      "\n",
      "           0       0.92      0.98      0.95       238\n",
      "           1       0.76      0.38      0.51        34\n",
      "\n",
      "    accuracy                           0.91       272\n",
      "   macro avg       0.84      0.68      0.73       272\n",
      "weighted avg       0.90      0.91      0.89       272\n",
      "\n"
     ]
    }
   ],
   "source": [
    "print(\n",
    "    classification_report(y_test,\n",
    "                          rfc_model.predict(X_test)\n",
    "                         )\n",
    ")"
   ]
  },
  {
   "cell_type": "markdown",
   "id": "dd233270",
   "metadata": {},
   "source": [
    "## GradientBoostingClassifier"
   ]
  },
  {
   "cell_type": "code",
   "execution_count": 31,
   "id": "a119bc52",
   "metadata": {
    "ExecuteTime": {
     "end_time": "2023-04-24T00:50:08.047702Z",
     "start_time": "2023-04-24T00:50:08.034056Z"
    }
   },
   "outputs": [],
   "source": [
    "clf = GradientBoostingClassifier(random_state= 42)"
   ]
  },
  {
   "cell_type": "code",
   "execution_count": 32,
   "id": "3258740c",
   "metadata": {
    "ExecuteTime": {
     "end_time": "2023-04-24T00:50:08.063061Z",
     "start_time": "2023-04-24T00:50:08.049709Z"
    }
   },
   "outputs": [
    {
     "data": {
      "text/plain": [
       "{'n_estimators': range(25, 125, 25), 'max_depth': range(3, 45, 10)}"
      ]
     },
     "execution_count": 32,
     "metadata": {},
     "output_type": "execute_result"
    }
   ],
   "source": [
    "params = {\n",
    "    'n_estimators': range(25 , 125 , 25),\n",
    "    'max_depth': range(3 , 45 , 10)\n",
    "}\n",
    "params"
   ]
  },
  {
   "cell_type": "code",
   "execution_count": 33,
   "id": "19a3f664",
   "metadata": {
    "ExecuteTime": {
     "end_time": "2023-04-24T00:50:08.079143Z",
     "start_time": "2023-04-24T00:50:08.065066Z"
    }
   },
   "outputs": [
    {
     "data": {
      "text/plain": [
       "GridSearchCV(cv=5, estimator=GradientBoostingClassifier(random_state=42),\n",
       "             n_jobs=-1,\n",
       "             param_grid={'max_depth': range(3, 45, 10),\n",
       "                         'n_estimators': range(25, 125, 25)},\n",
       "             verbose=1)"
      ]
     },
     "execution_count": 33,
     "metadata": {},
     "output_type": "execute_result"
    }
   ],
   "source": [
    "gbc = GridSearchCV(\n",
    "    clf,\n",
    "    param_grid= params,\n",
    "    cv= 5,\n",
    "    n_jobs=-1,\n",
    "    verbose=1\n",
    ")\n",
    "gbc"
   ]
  },
  {
   "cell_type": "code",
   "execution_count": 34,
   "id": "c68ec7d8",
   "metadata": {
    "ExecuteTime": {
     "end_time": "2023-04-24T00:50:11.617464Z",
     "start_time": "2023-04-24T00:50:08.081159Z"
    }
   },
   "outputs": [
    {
     "name": "stdout",
     "output_type": "stream",
     "text": [
      "Fitting 5 folds for each of 20 candidates, totalling 100 fits\n"
     ]
    },
    {
     "data": {
      "text/plain": [
       "GridSearchCV(cv=5, estimator=GradientBoostingClassifier(random_state=42),\n",
       "             n_jobs=-1,\n",
       "             param_grid={'max_depth': range(3, 45, 10),\n",
       "                         'n_estimators': range(25, 125, 25)},\n",
       "             verbose=1)"
      ]
     },
     "execution_count": 34,
     "metadata": {},
     "output_type": "execute_result"
    }
   ],
   "source": [
    "gbc.fit(X_train , y_train)"
   ]
  },
  {
   "cell_type": "code",
   "execution_count": 35,
   "id": "0fb3ff36",
   "metadata": {
    "ExecuteTime": {
     "end_time": "2023-04-24T00:50:11.649178Z",
     "start_time": "2023-04-24T00:50:11.618414Z"
    }
   },
   "outputs": [
    {
     "data": {
      "text/html": [
       "<div>\n",
       "<style scoped>\n",
       "    .dataframe tbody tr th:only-of-type {\n",
       "        vertical-align: middle;\n",
       "    }\n",
       "\n",
       "    .dataframe tbody tr th {\n",
       "        vertical-align: top;\n",
       "    }\n",
       "\n",
       "    .dataframe thead th {\n",
       "        text-align: right;\n",
       "    }\n",
       "</style>\n",
       "<table border=\"1\" class=\"dataframe\">\n",
       "  <thead>\n",
       "    <tr style=\"text-align: right;\">\n",
       "      <th></th>\n",
       "      <th>mean_fit_time</th>\n",
       "      <th>std_fit_time</th>\n",
       "      <th>mean_score_time</th>\n",
       "      <th>std_score_time</th>\n",
       "      <th>param_max_depth</th>\n",
       "      <th>param_n_estimators</th>\n",
       "      <th>params</th>\n",
       "      <th>split0_test_score</th>\n",
       "      <th>split1_test_score</th>\n",
       "      <th>split2_test_score</th>\n",
       "      <th>split3_test_score</th>\n",
       "      <th>split4_test_score</th>\n",
       "      <th>mean_test_score</th>\n",
       "      <th>std_test_score</th>\n",
       "      <th>rank_test_score</th>\n",
       "    </tr>\n",
       "  </thead>\n",
       "  <tbody>\n",
       "    <tr>\n",
       "      <th>0</th>\n",
       "      <td>0.050183</td>\n",
       "      <td>0.001466</td>\n",
       "      <td>0.002003</td>\n",
       "      <td>0.000003</td>\n",
       "      <td>3</td>\n",
       "      <td>25</td>\n",
       "      <td>{'max_depth': 3, 'n_estimators': 25}</td>\n",
       "      <td>0.866972</td>\n",
       "      <td>0.853211</td>\n",
       "      <td>0.870968</td>\n",
       "      <td>0.866359</td>\n",
       "      <td>0.866359</td>\n",
       "      <td>0.864774</td>\n",
       "      <td>0.006032</td>\n",
       "      <td>1</td>\n",
       "    </tr>\n",
       "    <tr>\n",
       "      <th>1</th>\n",
       "      <td>0.103914</td>\n",
       "      <td>0.006152</td>\n",
       "      <td>0.002199</td>\n",
       "      <td>0.000400</td>\n",
       "      <td>3</td>\n",
       "      <td>50</td>\n",
       "      <td>{'max_depth': 3, 'n_estimators': 50}</td>\n",
       "      <td>0.885321</td>\n",
       "      <td>0.834862</td>\n",
       "      <td>0.870968</td>\n",
       "      <td>0.861751</td>\n",
       "      <td>0.861751</td>\n",
       "      <td>0.862931</td>\n",
       "      <td>0.016471</td>\n",
       "      <td>2</td>\n",
       "    </tr>\n",
       "    <tr>\n",
       "      <th>2</th>\n",
       "      <td>0.153332</td>\n",
       "      <td>0.005383</td>\n",
       "      <td>0.002401</td>\n",
       "      <td>0.000490</td>\n",
       "      <td>3</td>\n",
       "      <td>75</td>\n",
       "      <td>{'max_depth': 3, 'n_estimators': 75}</td>\n",
       "      <td>0.880734</td>\n",
       "      <td>0.834862</td>\n",
       "      <td>0.884793</td>\n",
       "      <td>0.857143</td>\n",
       "      <td>0.852535</td>\n",
       "      <td>0.862013</td>\n",
       "      <td>0.018548</td>\n",
       "      <td>3</td>\n",
       "    </tr>\n",
       "    <tr>\n",
       "      <th>3</th>\n",
       "      <td>0.219697</td>\n",
       "      <td>0.015774</td>\n",
       "      <td>0.002405</td>\n",
       "      <td>0.000490</td>\n",
       "      <td>3</td>\n",
       "      <td>100</td>\n",
       "      <td>{'max_depth': 3, 'n_estimators': 100}</td>\n",
       "      <td>0.885321</td>\n",
       "      <td>0.839450</td>\n",
       "      <td>0.880184</td>\n",
       "      <td>0.847926</td>\n",
       "      <td>0.852535</td>\n",
       "      <td>0.861083</td>\n",
       "      <td>0.018257</td>\n",
       "      <td>4</td>\n",
       "    </tr>\n",
       "    <tr>\n",
       "      <th>4</th>\n",
       "      <td>0.180783</td>\n",
       "      <td>0.020283</td>\n",
       "      <td>0.002399</td>\n",
       "      <td>0.000489</td>\n",
       "      <td>13</td>\n",
       "      <td>25</td>\n",
       "      <td>{'max_depth': 13, 'n_estimators': 25}</td>\n",
       "      <td>0.825688</td>\n",
       "      <td>0.802752</td>\n",
       "      <td>0.838710</td>\n",
       "      <td>0.788018</td>\n",
       "      <td>0.847926</td>\n",
       "      <td>0.820619</td>\n",
       "      <td>0.022274</td>\n",
       "      <td>5</td>\n",
       "    </tr>\n",
       "    <tr>\n",
       "      <th>16</th>\n",
       "      <td>0.182117</td>\n",
       "      <td>0.012548</td>\n",
       "      <td>0.002202</td>\n",
       "      <td>0.000399</td>\n",
       "      <td>43</td>\n",
       "      <td>25</td>\n",
       "      <td>{'max_depth': 43, 'n_estimators': 25}</td>\n",
       "      <td>0.825688</td>\n",
       "      <td>0.802752</td>\n",
       "      <td>0.838710</td>\n",
       "      <td>0.797235</td>\n",
       "      <td>0.820276</td>\n",
       "      <td>0.816932</td>\n",
       "      <td>0.015173</td>\n",
       "      <td>6</td>\n",
       "    </tr>\n",
       "    <tr>\n",
       "      <th>8</th>\n",
       "      <td>0.171984</td>\n",
       "      <td>0.009263</td>\n",
       "      <td>0.002002</td>\n",
       "      <td>0.000001</td>\n",
       "      <td>23</td>\n",
       "      <td>25</td>\n",
       "      <td>{'max_depth': 23, 'n_estimators': 25}</td>\n",
       "      <td>0.825688</td>\n",
       "      <td>0.802752</td>\n",
       "      <td>0.838710</td>\n",
       "      <td>0.797235</td>\n",
       "      <td>0.820276</td>\n",
       "      <td>0.816932</td>\n",
       "      <td>0.015173</td>\n",
       "      <td>6</td>\n",
       "    </tr>\n",
       "    <tr>\n",
       "      <th>12</th>\n",
       "      <td>0.172943</td>\n",
       "      <td>0.015409</td>\n",
       "      <td>0.002200</td>\n",
       "      <td>0.000400</td>\n",
       "      <td>33</td>\n",
       "      <td>25</td>\n",
       "      <td>{'max_depth': 33, 'n_estimators': 25}</td>\n",
       "      <td>0.825688</td>\n",
       "      <td>0.802752</td>\n",
       "      <td>0.838710</td>\n",
       "      <td>0.797235</td>\n",
       "      <td>0.820276</td>\n",
       "      <td>0.816932</td>\n",
       "      <td>0.015173</td>\n",
       "      <td>6</td>\n",
       "    </tr>\n",
       "    <tr>\n",
       "      <th>17</th>\n",
       "      <td>0.390907</td>\n",
       "      <td>0.021006</td>\n",
       "      <td>0.002703</td>\n",
       "      <td>0.000601</td>\n",
       "      <td>43</td>\n",
       "      <td>50</td>\n",
       "      <td>{'max_depth': 43, 'n_estimators': 50}</td>\n",
       "      <td>0.821101</td>\n",
       "      <td>0.798165</td>\n",
       "      <td>0.838710</td>\n",
       "      <td>0.792627</td>\n",
       "      <td>0.811060</td>\n",
       "      <td>0.812332</td>\n",
       "      <td>0.016512</td>\n",
       "      <td>9</td>\n",
       "    </tr>\n",
       "    <tr>\n",
       "      <th>15</th>\n",
       "      <td>0.682604</td>\n",
       "      <td>0.042508</td>\n",
       "      <td>0.002704</td>\n",
       "      <td>0.000604</td>\n",
       "      <td>33</td>\n",
       "      <td>100</td>\n",
       "      <td>{'max_depth': 33, 'n_estimators': 100}</td>\n",
       "      <td>0.821101</td>\n",
       "      <td>0.798165</td>\n",
       "      <td>0.843318</td>\n",
       "      <td>0.788018</td>\n",
       "      <td>0.811060</td>\n",
       "      <td>0.812332</td>\n",
       "      <td>0.019134</td>\n",
       "      <td>9</td>\n",
       "    </tr>\n",
       "    <tr>\n",
       "      <th>13</th>\n",
       "      <td>0.356917</td>\n",
       "      <td>0.024706</td>\n",
       "      <td>0.002201</td>\n",
       "      <td>0.000401</td>\n",
       "      <td>33</td>\n",
       "      <td>50</td>\n",
       "      <td>{'max_depth': 33, 'n_estimators': 50}</td>\n",
       "      <td>0.821101</td>\n",
       "      <td>0.798165</td>\n",
       "      <td>0.838710</td>\n",
       "      <td>0.792627</td>\n",
       "      <td>0.811060</td>\n",
       "      <td>0.812332</td>\n",
       "      <td>0.016512</td>\n",
       "      <td>9</td>\n",
       "    </tr>\n",
       "    <tr>\n",
       "      <th>9</th>\n",
       "      <td>0.351421</td>\n",
       "      <td>0.019768</td>\n",
       "      <td>0.002401</td>\n",
       "      <td>0.000492</td>\n",
       "      <td>23</td>\n",
       "      <td>50</td>\n",
       "      <td>{'max_depth': 23, 'n_estimators': 50}</td>\n",
       "      <td>0.821101</td>\n",
       "      <td>0.798165</td>\n",
       "      <td>0.838710</td>\n",
       "      <td>0.792627</td>\n",
       "      <td>0.811060</td>\n",
       "      <td>0.812332</td>\n",
       "      <td>0.016512</td>\n",
       "      <td>9</td>\n",
       "    </tr>\n",
       "    <tr>\n",
       "      <th>7</th>\n",
       "      <td>0.717386</td>\n",
       "      <td>0.069550</td>\n",
       "      <td>0.003000</td>\n",
       "      <td>0.000001</td>\n",
       "      <td>13</td>\n",
       "      <td>100</td>\n",
       "      <td>{'max_depth': 13, 'n_estimators': 100}</td>\n",
       "      <td>0.821101</td>\n",
       "      <td>0.798165</td>\n",
       "      <td>0.843318</td>\n",
       "      <td>0.788018</td>\n",
       "      <td>0.811060</td>\n",
       "      <td>0.812332</td>\n",
       "      <td>0.019134</td>\n",
       "      <td>9</td>\n",
       "    </tr>\n",
       "    <tr>\n",
       "      <th>11</th>\n",
       "      <td>0.678177</td>\n",
       "      <td>0.041025</td>\n",
       "      <td>0.002403</td>\n",
       "      <td>0.000495</td>\n",
       "      <td>23</td>\n",
       "      <td>100</td>\n",
       "      <td>{'max_depth': 23, 'n_estimators': 100}</td>\n",
       "      <td>0.821101</td>\n",
       "      <td>0.798165</td>\n",
       "      <td>0.843318</td>\n",
       "      <td>0.788018</td>\n",
       "      <td>0.811060</td>\n",
       "      <td>0.812332</td>\n",
       "      <td>0.019134</td>\n",
       "      <td>9</td>\n",
       "    </tr>\n",
       "    <tr>\n",
       "      <th>19</th>\n",
       "      <td>0.612631</td>\n",
       "      <td>0.081470</td>\n",
       "      <td>0.002205</td>\n",
       "      <td>0.000746</td>\n",
       "      <td>43</td>\n",
       "      <td>100</td>\n",
       "      <td>{'max_depth': 43, 'n_estimators': 100}</td>\n",
       "      <td>0.821101</td>\n",
       "      <td>0.798165</td>\n",
       "      <td>0.843318</td>\n",
       "      <td>0.788018</td>\n",
       "      <td>0.811060</td>\n",
       "      <td>0.812332</td>\n",
       "      <td>0.019134</td>\n",
       "      <td>9</td>\n",
       "    </tr>\n",
       "    <tr>\n",
       "      <th>10</th>\n",
       "      <td>0.507673</td>\n",
       "      <td>0.028605</td>\n",
       "      <td>0.002402</td>\n",
       "      <td>0.000490</td>\n",
       "      <td>23</td>\n",
       "      <td>75</td>\n",
       "      <td>{'max_depth': 23, 'n_estimators': 75}</td>\n",
       "      <td>0.825688</td>\n",
       "      <td>0.798165</td>\n",
       "      <td>0.843318</td>\n",
       "      <td>0.783410</td>\n",
       "      <td>0.811060</td>\n",
       "      <td>0.812328</td>\n",
       "      <td>0.020868</td>\n",
       "      <td>16</td>\n",
       "    </tr>\n",
       "    <tr>\n",
       "      <th>18</th>\n",
       "      <td>0.517463</td>\n",
       "      <td>0.072031</td>\n",
       "      <td>0.002217</td>\n",
       "      <td>0.000722</td>\n",
       "      <td>43</td>\n",
       "      <td>75</td>\n",
       "      <td>{'max_depth': 43, 'n_estimators': 75}</td>\n",
       "      <td>0.825688</td>\n",
       "      <td>0.798165</td>\n",
       "      <td>0.843318</td>\n",
       "      <td>0.783410</td>\n",
       "      <td>0.811060</td>\n",
       "      <td>0.812328</td>\n",
       "      <td>0.020868</td>\n",
       "      <td>16</td>\n",
       "    </tr>\n",
       "    <tr>\n",
       "      <th>14</th>\n",
       "      <td>0.518651</td>\n",
       "      <td>0.024925</td>\n",
       "      <td>0.002400</td>\n",
       "      <td>0.000490</td>\n",
       "      <td>33</td>\n",
       "      <td>75</td>\n",
       "      <td>{'max_depth': 33, 'n_estimators': 75}</td>\n",
       "      <td>0.825688</td>\n",
       "      <td>0.798165</td>\n",
       "      <td>0.843318</td>\n",
       "      <td>0.783410</td>\n",
       "      <td>0.811060</td>\n",
       "      <td>0.812328</td>\n",
       "      <td>0.020868</td>\n",
       "      <td>16</td>\n",
       "    </tr>\n",
       "    <tr>\n",
       "      <th>6</th>\n",
       "      <td>0.545740</td>\n",
       "      <td>0.054220</td>\n",
       "      <td>0.002399</td>\n",
       "      <td>0.000490</td>\n",
       "      <td>13</td>\n",
       "      <td>75</td>\n",
       "      <td>{'max_depth': 13, 'n_estimators': 75}</td>\n",
       "      <td>0.821101</td>\n",
       "      <td>0.798165</td>\n",
       "      <td>0.843318</td>\n",
       "      <td>0.783410</td>\n",
       "      <td>0.806452</td>\n",
       "      <td>0.810489</td>\n",
       "      <td>0.020454</td>\n",
       "      <td>19</td>\n",
       "    </tr>\n",
       "    <tr>\n",
       "      <th>5</th>\n",
       "      <td>0.355952</td>\n",
       "      <td>0.033987</td>\n",
       "      <td>0.002801</td>\n",
       "      <td>0.000749</td>\n",
       "      <td>13</td>\n",
       "      <td>50</td>\n",
       "      <td>{'max_depth': 13, 'n_estimators': 50}</td>\n",
       "      <td>0.821101</td>\n",
       "      <td>0.798165</td>\n",
       "      <td>0.838710</td>\n",
       "      <td>0.774194</td>\n",
       "      <td>0.811060</td>\n",
       "      <td>0.808646</td>\n",
       "      <td>0.021733</td>\n",
       "      <td>20</td>\n",
       "    </tr>\n",
       "  </tbody>\n",
       "</table>\n",
       "</div>"
      ],
      "text/plain": [
       "    mean_fit_time  std_fit_time  mean_score_time  std_score_time  \\\n",
       "0        0.050183      0.001466         0.002003        0.000003   \n",
       "1        0.103914      0.006152         0.002199        0.000400   \n",
       "2        0.153332      0.005383         0.002401        0.000490   \n",
       "3        0.219697      0.015774         0.002405        0.000490   \n",
       "4        0.180783      0.020283         0.002399        0.000489   \n",
       "16       0.182117      0.012548         0.002202        0.000399   \n",
       "8        0.171984      0.009263         0.002002        0.000001   \n",
       "12       0.172943      0.015409         0.002200        0.000400   \n",
       "17       0.390907      0.021006         0.002703        0.000601   \n",
       "15       0.682604      0.042508         0.002704        0.000604   \n",
       "13       0.356917      0.024706         0.002201        0.000401   \n",
       "9        0.351421      0.019768         0.002401        0.000492   \n",
       "7        0.717386      0.069550         0.003000        0.000001   \n",
       "11       0.678177      0.041025         0.002403        0.000495   \n",
       "19       0.612631      0.081470         0.002205        0.000746   \n",
       "10       0.507673      0.028605         0.002402        0.000490   \n",
       "18       0.517463      0.072031         0.002217        0.000722   \n",
       "14       0.518651      0.024925         0.002400        0.000490   \n",
       "6        0.545740      0.054220         0.002399        0.000490   \n",
       "5        0.355952      0.033987         0.002801        0.000749   \n",
       "\n",
       "   param_max_depth param_n_estimators                                  params  \\\n",
       "0                3                 25    {'max_depth': 3, 'n_estimators': 25}   \n",
       "1                3                 50    {'max_depth': 3, 'n_estimators': 50}   \n",
       "2                3                 75    {'max_depth': 3, 'n_estimators': 75}   \n",
       "3                3                100   {'max_depth': 3, 'n_estimators': 100}   \n",
       "4               13                 25   {'max_depth': 13, 'n_estimators': 25}   \n",
       "16              43                 25   {'max_depth': 43, 'n_estimators': 25}   \n",
       "8               23                 25   {'max_depth': 23, 'n_estimators': 25}   \n",
       "12              33                 25   {'max_depth': 33, 'n_estimators': 25}   \n",
       "17              43                 50   {'max_depth': 43, 'n_estimators': 50}   \n",
       "15              33                100  {'max_depth': 33, 'n_estimators': 100}   \n",
       "13              33                 50   {'max_depth': 33, 'n_estimators': 50}   \n",
       "9               23                 50   {'max_depth': 23, 'n_estimators': 50}   \n",
       "7               13                100  {'max_depth': 13, 'n_estimators': 100}   \n",
       "11              23                100  {'max_depth': 23, 'n_estimators': 100}   \n",
       "19              43                100  {'max_depth': 43, 'n_estimators': 100}   \n",
       "10              23                 75   {'max_depth': 23, 'n_estimators': 75}   \n",
       "18              43                 75   {'max_depth': 43, 'n_estimators': 75}   \n",
       "14              33                 75   {'max_depth': 33, 'n_estimators': 75}   \n",
       "6               13                 75   {'max_depth': 13, 'n_estimators': 75}   \n",
       "5               13                 50   {'max_depth': 13, 'n_estimators': 50}   \n",
       "\n",
       "    split0_test_score  split1_test_score  split2_test_score  \\\n",
       "0            0.866972           0.853211           0.870968   \n",
       "1            0.885321           0.834862           0.870968   \n",
       "2            0.880734           0.834862           0.884793   \n",
       "3            0.885321           0.839450           0.880184   \n",
       "4            0.825688           0.802752           0.838710   \n",
       "16           0.825688           0.802752           0.838710   \n",
       "8            0.825688           0.802752           0.838710   \n",
       "12           0.825688           0.802752           0.838710   \n",
       "17           0.821101           0.798165           0.838710   \n",
       "15           0.821101           0.798165           0.843318   \n",
       "13           0.821101           0.798165           0.838710   \n",
       "9            0.821101           0.798165           0.838710   \n",
       "7            0.821101           0.798165           0.843318   \n",
       "11           0.821101           0.798165           0.843318   \n",
       "19           0.821101           0.798165           0.843318   \n",
       "10           0.825688           0.798165           0.843318   \n",
       "18           0.825688           0.798165           0.843318   \n",
       "14           0.825688           0.798165           0.843318   \n",
       "6            0.821101           0.798165           0.843318   \n",
       "5            0.821101           0.798165           0.838710   \n",
       "\n",
       "    split3_test_score  split4_test_score  mean_test_score  std_test_score  \\\n",
       "0            0.866359           0.866359         0.864774        0.006032   \n",
       "1            0.861751           0.861751         0.862931        0.016471   \n",
       "2            0.857143           0.852535         0.862013        0.018548   \n",
       "3            0.847926           0.852535         0.861083        0.018257   \n",
       "4            0.788018           0.847926         0.820619        0.022274   \n",
       "16           0.797235           0.820276         0.816932        0.015173   \n",
       "8            0.797235           0.820276         0.816932        0.015173   \n",
       "12           0.797235           0.820276         0.816932        0.015173   \n",
       "17           0.792627           0.811060         0.812332        0.016512   \n",
       "15           0.788018           0.811060         0.812332        0.019134   \n",
       "13           0.792627           0.811060         0.812332        0.016512   \n",
       "9            0.792627           0.811060         0.812332        0.016512   \n",
       "7            0.788018           0.811060         0.812332        0.019134   \n",
       "11           0.788018           0.811060         0.812332        0.019134   \n",
       "19           0.788018           0.811060         0.812332        0.019134   \n",
       "10           0.783410           0.811060         0.812328        0.020868   \n",
       "18           0.783410           0.811060         0.812328        0.020868   \n",
       "14           0.783410           0.811060         0.812328        0.020868   \n",
       "6            0.783410           0.806452         0.810489        0.020454   \n",
       "5            0.774194           0.811060         0.808646        0.021733   \n",
       "\n",
       "    rank_test_score  \n",
       "0                 1  \n",
       "1                 2  \n",
       "2                 3  \n",
       "3                 4  \n",
       "4                 5  \n",
       "16                6  \n",
       "8                 6  \n",
       "12                6  \n",
       "17                9  \n",
       "15                9  \n",
       "13                9  \n",
       "9                 9  \n",
       "7                 9  \n",
       "11                9  \n",
       "19                9  \n",
       "10               16  \n",
       "18               16  \n",
       "14               16  \n",
       "6                19  \n",
       "5                20  "
      ]
     },
     "execution_count": 35,
     "metadata": {},
     "output_type": "execute_result"
    }
   ],
   "source": [
    "cv_results = pd.DataFrame(gbc.cv_results_)\n",
    "cv_results.sort_values(by= 'rank_test_score')"
   ]
  },
  {
   "cell_type": "code",
   "execution_count": 36,
   "id": "d60569f6",
   "metadata": {
    "ExecuteTime": {
     "end_time": "2023-04-24T00:50:11.664304Z",
     "start_time": "2023-04-24T00:50:11.651117Z"
    }
   },
   "outputs": [
    {
     "data": {
      "text/plain": [
       "{'max_depth': 3, 'n_estimators': 25}"
      ]
     },
     "execution_count": 36,
     "metadata": {},
     "output_type": "execute_result"
    }
   ],
   "source": [
    "gbc.best_params_"
   ]
  },
  {
   "cell_type": "code",
   "execution_count": 37,
   "id": "4ca34074",
   "metadata": {
    "ExecuteTime": {
     "end_time": "2023-04-24T00:50:11.679804Z",
     "start_time": "2023-04-24T00:50:11.666334Z"
    }
   },
   "outputs": [
    {
     "data": {
      "text/plain": [
       "array([0, 0, 0, 0, 0, 1, 0, 0, 0, 0, 1, 0, 0, 0, 0, 0, 0, 0, 0, 0, 0, 0,\n",
       "       0, 0, 0, 0, 0, 0, 0, 0, 0, 0, 0, 0, 0, 0, 0, 0, 0, 0, 0, 0, 0, 0,\n",
       "       0, 0, 0, 0, 0, 0, 0, 1, 0, 0, 1, 0, 0, 0, 0, 0, 0, 0, 0, 0, 0, 0,\n",
       "       0, 0, 0, 0, 0, 1, 0, 0, 0, 0, 0, 0, 0, 0, 0, 0, 0, 0, 0, 1, 0, 0,\n",
       "       0, 0, 0, 0, 0, 0, 0, 0, 0, 1, 0, 0, 0, 0, 0, 0, 0, 0, 0, 0, 1, 0,\n",
       "       0, 0, 0, 0, 0, 0, 0, 0, 0, 0, 0, 0, 0, 0, 0, 0, 0, 0, 0, 0, 0, 0,\n",
       "       0, 0, 0, 0, 1, 0, 0, 0, 0, 0, 1, 0, 0, 0, 0, 0, 0, 0, 0, 0, 0, 0,\n",
       "       0, 0, 0, 0, 1, 1, 0, 0, 0, 0, 0, 0, 0, 0, 0, 0, 0, 0, 1, 0, 1, 0,\n",
       "       0, 0, 0, 0, 0, 0, 0, 0, 0, 0, 0, 0, 0, 0, 0, 0, 1, 0, 0, 0, 1, 0,\n",
       "       1, 0, 0, 1, 0, 0, 0, 0, 0, 0, 0, 0, 1, 0, 0, 0, 1, 0, 1, 1, 0, 0,\n",
       "       0, 0, 0, 0, 0, 0, 0, 0, 0, 0, 0, 0, 0, 0, 0, 1, 0, 0, 0, 0, 0, 0,\n",
       "       0, 0, 1, 0, 0, 0, 0, 1, 0, 0, 0, 0, 0, 0, 0, 0, 0, 0, 1, 0, 0, 0,\n",
       "       0, 0, 0, 0, 0, 0, 0, 0])"
      ]
     },
     "execution_count": 37,
     "metadata": {},
     "output_type": "execute_result"
    }
   ],
   "source": [
    "gbc.predict(X_test)"
   ]
  },
  {
   "cell_type": "markdown",
   "id": "b3697b19",
   "metadata": {},
   "source": [
    "## ConfusionMatrix"
   ]
  },
  {
   "cell_type": "code",
   "execution_count": 38,
   "id": "9e7a6a6d",
   "metadata": {
    "ExecuteTime": {
     "end_time": "2023-04-24T00:50:11.788895Z",
     "start_time": "2023-04-24T00:50:11.681288Z"
    }
   },
   "outputs": [
    {
     "data": {
      "image/png": "[encoded data removed]",
      "text/plain": [
       "<Figure size 432x288 with 2 Axes>"
      ]
     },
     "metadata": {
      "needs_background": "light"
     },
     "output_type": "display_data"
    }
   ],
   "source": [
    "ConfusionMatrixDisplay.from_estimator(\n",
    "    gbc,\n",
    "    X_test,\n",
    "    y_test\n",
    ");"
   ]
  },
  {
   "cell_type": "markdown",
   "id": "6997ac66",
   "metadata": {},
   "source": [
    "## Classification Report"
   ]
  },
  {
   "cell_type": "code",
   "execution_count": 39,
   "id": "225bfd7d",
   "metadata": {
    "ExecuteTime": {
     "end_time": "2023-04-24T00:50:11.804086Z",
     "start_time": "2023-04-24T00:50:11.790899Z"
    }
   },
   "outputs": [
    {
     "name": "stdout",
     "output_type": "stream",
     "text": [
      "              precision    recall  f1-score   support\n",
      "\n",
      "           0       0.93      0.96      0.95       238\n",
      "           1       0.65      0.50      0.57        34\n",
      "\n",
      "    accuracy                           0.90       272\n",
      "   macro avg       0.79      0.73      0.76       272\n",
      "weighted avg       0.90      0.90      0.90       272\n",
      "\n"
     ]
    }
   ],
   "source": [
    "print(\n",
    "    classification_report(\n",
    "        y_test,\n",
    "        gbc.predict(X_test)\n",
    "    )\n",
    ")"
   ]
  },
  {
   "cell_type": "code",
   "execution_count": 40,
   "id": "51df9dd4",
   "metadata": {
    "ExecuteTime": {
     "end_time": "2023-04-24T00:50:11.835823Z",
     "start_time": "2023-04-24T00:50:11.806170Z"
    }
   },
   "outputs": [
    {
     "data": {
      "text/plain": [
       "{'model': ['KNeighborsClassifier',\n",
       "  'RandomForestClassifier',\n",
       "  'GradientBoostingClassifier'],\n",
       " 'Score': [0.8897058823529411, 0.9080882352941176, 0.9044117647058824]}"
      ]
     },
     "execution_count": 40,
     "metadata": {},
     "output_type": "execute_result"
    }
   ],
   "source": [
    "models = {\n",
    "    \"model\" : ['KNeighborsClassifier' , 'RandomForestClassifier' , 'GradientBoostingClassifier'],\n",
    "    \"Score\": [final_model.score(X_test , y_test) ,rfc_model.score(X_test , y_test) , gbc.score(X_test , y_test) ]\n",
    "}\n",
    "models"
   ]
  },
  {
   "cell_type": "code",
   "execution_count": 41,
   "id": "12236ff0",
   "metadata": {
    "ExecuteTime": {
     "end_time": "2023-04-24T00:50:11.945027Z",
     "start_time": "2023-04-24T00:50:11.837977Z"
    }
   },
   "outputs": [
    {
     "data": {
      "image/png": "[encoded data removed]",
      "text/plain": [
       "<Figure size 720x360 with 1 Axes>"
      ]
     },
     "metadata": {},
     "output_type": "display_data"
    }
   ],
   "source": [
    "colors= ['orange' , 'blue','red']\n",
    "sns.set_style('whitegrid')\n",
    "plt.figure(figsize=(10,5))\n",
    "ax = sns.barplot(x=models['model'],y=models['Score'], palette=colors )\n",
    "plt.xlabel(\"Models\")\n",
    "plt.ylabel(\"Score\")\n",
    "plt.title(\"Model Selection\")\n",
    "\n",
    "# Add value labels to each bar\n",
    "for p in ax.patches:\n",
    "    ax.text(x=p.get_x() + p.get_width() / 2.,\n",
    "            y=p.get_height(),\n",
    "            s='{:.2f}'.format(p.get_height()),\n",
    "            ha='center')\n",
    "\n",
    "plt.show();"
   ]
  },
  {
   "cell_type": "markdown",
   "id": "7ac5bcf1",
   "metadata": {},
   "source": [
    "based on the visualization it`s clear that Random Forest Classifier has the best performance"
   ]
  },
  {
   "cell_type": "markdown",
   "id": "bdfadbae",
   "metadata": {},
   "source": [
    "## Thanks"
   ]
  }
 ],
 "metadata": {
  "kernelspec": {
   "display_name": "Python 3 (ipykernel)",
   "language": "python",
   "name": "python3"
  },
  "language_info": {
   "codemirror_mode": {
    "name": "ipython",
    "version": 3
   },
   "file_extension": ".py",
   "mimetype": "text/x-python",
   "name": "python",
   "nbconvert_exporter": "python",
   "pygments_lexer": "ipython3",
   "version": "3.9.12"
  }
 },
 "nbformat": 4,
 "nbformat_minor": 5
}
