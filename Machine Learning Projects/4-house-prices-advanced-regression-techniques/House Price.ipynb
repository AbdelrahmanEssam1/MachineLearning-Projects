{
 "cells": [
  {
   "cell_type": "markdown",
   "id": "a9d63698",
   "metadata": {},
   "source": [
    "# House Price"
   ]
  },
  {
   "cell_type": "markdown",
   "id": "efe332c0",
   "metadata": {},
   "source": [
    "## Prepare data"
   ]
  },
  {
   "cell_type": "markdown",
   "id": "105c488e",
   "metadata": {},
   "source": [
    "## Import Libararies"
   ]
  },
  {
   "cell_type": "code",
   "execution_count": 1,
   "id": "089b5bd5",
   "metadata": {
    "ExecuteTime": {
     "end_time": "2023-03-29T21:37:10.708637Z",
     "start_time": "2023-03-29T21:37:09.331499Z"
    }
   },
   "outputs": [],
   "source": [
    "import pickle\n",
    "import pandas as pd\n",
    "import numpy as np\n",
    "import matplotlib.pyplot as plt\n",
    "import seaborn as sns\n",
    "from category_encoders import OrdinalEncoder\n",
    "from sklearn.impute import SimpleImputer\n",
    "from sklearn.model_selection import train_test_split , GridSearchCV\n",
    "from sklearn.ensemble import GradientBoostingRegressor\n",
    "from sklearn.metrics import mean_absolute_error , r2_score\n",
    "from sklearn.pipeline import make_pipeline"
   ]
  },
  {
   "cell_type": "code",
   "execution_count": 2,
   "id": "d9e97a9f",
   "metadata": {
    "ExecuteTime": {
     "end_time": "2023-03-29T21:37:10.756188Z",
     "start_time": "2023-03-29T21:37:10.709637Z"
    }
   },
   "outputs": [
    {
     "name": "stdout",
     "output_type": "stream",
     "text": [
      "(1460, 80)\n"
     ]
    },
    {
     "data": {
      "text/html": [
       "<div>\n",
       "<style scoped>\n",
       "    .dataframe tbody tr th:only-of-type {\n",
       "        vertical-align: middle;\n",
       "    }\n",
       "\n",
       "    .dataframe tbody tr th {\n",
       "        vertical-align: top;\n",
       "    }\n",
       "\n",
       "    .dataframe thead th {\n",
       "        text-align: right;\n",
       "    }\n",
       "</style>\n",
       "<table border=\"1\" class=\"dataframe\">\n",
       "  <thead>\n",
       "    <tr style=\"text-align: right;\">\n",
       "      <th></th>\n",
       "      <th>MSSubClass</th>\n",
       "      <th>MSZoning</th>\n",
       "      <th>LotFrontage</th>\n",
       "      <th>LotArea</th>\n",
       "      <th>Street</th>\n",
       "      <th>Alley</th>\n",
       "      <th>LotShape</th>\n",
       "      <th>LandContour</th>\n",
       "      <th>Utilities</th>\n",
       "      <th>LotConfig</th>\n",
       "      <th>...</th>\n",
       "      <th>PoolArea</th>\n",
       "      <th>PoolQC</th>\n",
       "      <th>Fence</th>\n",
       "      <th>MiscFeature</th>\n",
       "      <th>MiscVal</th>\n",
       "      <th>MoSold</th>\n",
       "      <th>YrSold</th>\n",
       "      <th>SaleType</th>\n",
       "      <th>SaleCondition</th>\n",
       "      <th>SalePrice</th>\n",
       "    </tr>\n",
       "    <tr>\n",
       "      <th>Id</th>\n",
       "      <th></th>\n",
       "      <th></th>\n",
       "      <th></th>\n",
       "      <th></th>\n",
       "      <th></th>\n",
       "      <th></th>\n",
       "      <th></th>\n",
       "      <th></th>\n",
       "      <th></th>\n",
       "      <th></th>\n",
       "      <th></th>\n",
       "      <th></th>\n",
       "      <th></th>\n",
       "      <th></th>\n",
       "      <th></th>\n",
       "      <th></th>\n",
       "      <th></th>\n",
       "      <th></th>\n",
       "      <th></th>\n",
       "      <th></th>\n",
       "      <th></th>\n",
       "    </tr>\n",
       "  </thead>\n",
       "  <tbody>\n",
       "    <tr>\n",
       "      <th>1</th>\n",
       "      <td>60</td>\n",
       "      <td>RL</td>\n",
       "      <td>65.0</td>\n",
       "      <td>8450</td>\n",
       "      <td>Pave</td>\n",
       "      <td>NaN</td>\n",
       "      <td>Reg</td>\n",
       "      <td>Lvl</td>\n",
       "      <td>AllPub</td>\n",
       "      <td>Inside</td>\n",
       "      <td>...</td>\n",
       "      <td>0</td>\n",
       "      <td>NaN</td>\n",
       "      <td>NaN</td>\n",
       "      <td>NaN</td>\n",
       "      <td>0</td>\n",
       "      <td>2</td>\n",
       "      <td>2008</td>\n",
       "      <td>WD</td>\n",
       "      <td>Normal</td>\n",
       "      <td>208500</td>\n",
       "    </tr>\n",
       "    <tr>\n",
       "      <th>2</th>\n",
       "      <td>20</td>\n",
       "      <td>RL</td>\n",
       "      <td>80.0</td>\n",
       "      <td>9600</td>\n",
       "      <td>Pave</td>\n",
       "      <td>NaN</td>\n",
       "      <td>Reg</td>\n",
       "      <td>Lvl</td>\n",
       "      <td>AllPub</td>\n",
       "      <td>FR2</td>\n",
       "      <td>...</td>\n",
       "      <td>0</td>\n",
       "      <td>NaN</td>\n",
       "      <td>NaN</td>\n",
       "      <td>NaN</td>\n",
       "      <td>0</td>\n",
       "      <td>5</td>\n",
       "      <td>2007</td>\n",
       "      <td>WD</td>\n",
       "      <td>Normal</td>\n",
       "      <td>181500</td>\n",
       "    </tr>\n",
       "    <tr>\n",
       "      <th>3</th>\n",
       "      <td>60</td>\n",
       "      <td>RL</td>\n",
       "      <td>68.0</td>\n",
       "      <td>11250</td>\n",
       "      <td>Pave</td>\n",
       "      <td>NaN</td>\n",
       "      <td>IR1</td>\n",
       "      <td>Lvl</td>\n",
       "      <td>AllPub</td>\n",
       "      <td>Inside</td>\n",
       "      <td>...</td>\n",
       "      <td>0</td>\n",
       "      <td>NaN</td>\n",
       "      <td>NaN</td>\n",
       "      <td>NaN</td>\n",
       "      <td>0</td>\n",
       "      <td>9</td>\n",
       "      <td>2008</td>\n",
       "      <td>WD</td>\n",
       "      <td>Normal</td>\n",
       "      <td>223500</td>\n",
       "    </tr>\n",
       "    <tr>\n",
       "      <th>4</th>\n",
       "      <td>70</td>\n",
       "      <td>RL</td>\n",
       "      <td>60.0</td>\n",
       "      <td>9550</td>\n",
       "      <td>Pave</td>\n",
       "      <td>NaN</td>\n",
       "      <td>IR1</td>\n",
       "      <td>Lvl</td>\n",
       "      <td>AllPub</td>\n",
       "      <td>Corner</td>\n",
       "      <td>...</td>\n",
       "      <td>0</td>\n",
       "      <td>NaN</td>\n",
       "      <td>NaN</td>\n",
       "      <td>NaN</td>\n",
       "      <td>0</td>\n",
       "      <td>2</td>\n",
       "      <td>2006</td>\n",
       "      <td>WD</td>\n",
       "      <td>Abnorml</td>\n",
       "      <td>140000</td>\n",
       "    </tr>\n",
       "    <tr>\n",
       "      <th>5</th>\n",
       "      <td>60</td>\n",
       "      <td>RL</td>\n",
       "      <td>84.0</td>\n",
       "      <td>14260</td>\n",
       "      <td>Pave</td>\n",
       "      <td>NaN</td>\n",
       "      <td>IR1</td>\n",
       "      <td>Lvl</td>\n",
       "      <td>AllPub</td>\n",
       "      <td>FR2</td>\n",
       "      <td>...</td>\n",
       "      <td>0</td>\n",
       "      <td>NaN</td>\n",
       "      <td>NaN</td>\n",
       "      <td>NaN</td>\n",
       "      <td>0</td>\n",
       "      <td>12</td>\n",
       "      <td>2008</td>\n",
       "      <td>WD</td>\n",
       "      <td>Normal</td>\n",
       "      <td>250000</td>\n",
       "    </tr>\n",
       "    <tr>\n",
       "      <th>6</th>\n",
       "      <td>50</td>\n",
       "      <td>RL</td>\n",
       "      <td>85.0</td>\n",
       "      <td>14115</td>\n",
       "      <td>Pave</td>\n",
       "      <td>NaN</td>\n",
       "      <td>IR1</td>\n",
       "      <td>Lvl</td>\n",
       "      <td>AllPub</td>\n",
       "      <td>Inside</td>\n",
       "      <td>...</td>\n",
       "      <td>0</td>\n",
       "      <td>NaN</td>\n",
       "      <td>MnPrv</td>\n",
       "      <td>Shed</td>\n",
       "      <td>700</td>\n",
       "      <td>10</td>\n",
       "      <td>2009</td>\n",
       "      <td>WD</td>\n",
       "      <td>Normal</td>\n",
       "      <td>143000</td>\n",
       "    </tr>\n",
       "    <tr>\n",
       "      <th>7</th>\n",
       "      <td>20</td>\n",
       "      <td>RL</td>\n",
       "      <td>75.0</td>\n",
       "      <td>10084</td>\n",
       "      <td>Pave</td>\n",
       "      <td>NaN</td>\n",
       "      <td>Reg</td>\n",
       "      <td>Lvl</td>\n",
       "      <td>AllPub</td>\n",
       "      <td>Inside</td>\n",
       "      <td>...</td>\n",
       "      <td>0</td>\n",
       "      <td>NaN</td>\n",
       "      <td>NaN</td>\n",
       "      <td>NaN</td>\n",
       "      <td>0</td>\n",
       "      <td>8</td>\n",
       "      <td>2007</td>\n",
       "      <td>WD</td>\n",
       "      <td>Normal</td>\n",
       "      <td>307000</td>\n",
       "    </tr>\n",
       "    <tr>\n",
       "      <th>8</th>\n",
       "      <td>60</td>\n",
       "      <td>RL</td>\n",
       "      <td>NaN</td>\n",
       "      <td>10382</td>\n",
       "      <td>Pave</td>\n",
       "      <td>NaN</td>\n",
       "      <td>IR1</td>\n",
       "      <td>Lvl</td>\n",
       "      <td>AllPub</td>\n",
       "      <td>Corner</td>\n",
       "      <td>...</td>\n",
       "      <td>0</td>\n",
       "      <td>NaN</td>\n",
       "      <td>NaN</td>\n",
       "      <td>Shed</td>\n",
       "      <td>350</td>\n",
       "      <td>11</td>\n",
       "      <td>2009</td>\n",
       "      <td>WD</td>\n",
       "      <td>Normal</td>\n",
       "      <td>200000</td>\n",
       "    </tr>\n",
       "    <tr>\n",
       "      <th>9</th>\n",
       "      <td>50</td>\n",
       "      <td>RM</td>\n",
       "      <td>51.0</td>\n",
       "      <td>6120</td>\n",
       "      <td>Pave</td>\n",
       "      <td>NaN</td>\n",
       "      <td>Reg</td>\n",
       "      <td>Lvl</td>\n",
       "      <td>AllPub</td>\n",
       "      <td>Inside</td>\n",
       "      <td>...</td>\n",
       "      <td>0</td>\n",
       "      <td>NaN</td>\n",
       "      <td>NaN</td>\n",
       "      <td>NaN</td>\n",
       "      <td>0</td>\n",
       "      <td>4</td>\n",
       "      <td>2008</td>\n",
       "      <td>WD</td>\n",
       "      <td>Abnorml</td>\n",
       "      <td>129900</td>\n",
       "    </tr>\n",
       "    <tr>\n",
       "      <th>10</th>\n",
       "      <td>190</td>\n",
       "      <td>RL</td>\n",
       "      <td>50.0</td>\n",
       "      <td>7420</td>\n",
       "      <td>Pave</td>\n",
       "      <td>NaN</td>\n",
       "      <td>Reg</td>\n",
       "      <td>Lvl</td>\n",
       "      <td>AllPub</td>\n",
       "      <td>Corner</td>\n",
       "      <td>...</td>\n",
       "      <td>0</td>\n",
       "      <td>NaN</td>\n",
       "      <td>NaN</td>\n",
       "      <td>NaN</td>\n",
       "      <td>0</td>\n",
       "      <td>1</td>\n",
       "      <td>2008</td>\n",
       "      <td>WD</td>\n",
       "      <td>Normal</td>\n",
       "      <td>118000</td>\n",
       "    </tr>\n",
       "  </tbody>\n",
       "</table>\n",
       "<p>10 rows × 80 columns</p>\n",
       "</div>"
      ],
      "text/plain": [
       "    MSSubClass MSZoning  LotFrontage  LotArea Street Alley LotShape  \\\n",
       "Id                                                                    \n",
       "1           60       RL         65.0     8450   Pave   NaN      Reg   \n",
       "2           20       RL         80.0     9600   Pave   NaN      Reg   \n",
       "3           60       RL         68.0    11250   Pave   NaN      IR1   \n",
       "4           70       RL         60.0     9550   Pave   NaN      IR1   \n",
       "5           60       RL         84.0    14260   Pave   NaN      IR1   \n",
       "6           50       RL         85.0    14115   Pave   NaN      IR1   \n",
       "7           20       RL         75.0    10084   Pave   NaN      Reg   \n",
       "8           60       RL          NaN    10382   Pave   NaN      IR1   \n",
       "9           50       RM         51.0     6120   Pave   NaN      Reg   \n",
       "10         190       RL         50.0     7420   Pave   NaN      Reg   \n",
       "\n",
       "   LandContour Utilities LotConfig  ... PoolArea PoolQC  Fence MiscFeature  \\\n",
       "Id                                  ...                                      \n",
       "1          Lvl    AllPub    Inside  ...        0    NaN    NaN         NaN   \n",
       "2          Lvl    AllPub       FR2  ...        0    NaN    NaN         NaN   \n",
       "3          Lvl    AllPub    Inside  ...        0    NaN    NaN         NaN   \n",
       "4          Lvl    AllPub    Corner  ...        0    NaN    NaN         NaN   \n",
       "5          Lvl    AllPub       FR2  ...        0    NaN    NaN         NaN   \n",
       "6          Lvl    AllPub    Inside  ...        0    NaN  MnPrv        Shed   \n",
       "7          Lvl    AllPub    Inside  ...        0    NaN    NaN         NaN   \n",
       "8          Lvl    AllPub    Corner  ...        0    NaN    NaN        Shed   \n",
       "9          Lvl    AllPub    Inside  ...        0    NaN    NaN         NaN   \n",
       "10         Lvl    AllPub    Corner  ...        0    NaN    NaN         NaN   \n",
       "\n",
       "   MiscVal MoSold  YrSold  SaleType  SaleCondition  SalePrice  \n",
       "Id                                                             \n",
       "1        0      2    2008        WD         Normal     208500  \n",
       "2        0      5    2007        WD         Normal     181500  \n",
       "3        0      9    2008        WD         Normal     223500  \n",
       "4        0      2    2006        WD        Abnorml     140000  \n",
       "5        0     12    2008        WD         Normal     250000  \n",
       "6      700     10    2009        WD         Normal     143000  \n",
       "7        0      8    2007        WD         Normal     307000  \n",
       "8      350     11    2009        WD         Normal     200000  \n",
       "9        0      4    2008        WD        Abnorml     129900  \n",
       "10       0      1    2008        WD         Normal     118000  \n",
       "\n",
       "[10 rows x 80 columns]"
      ]
     },
     "execution_count": 2,
     "metadata": {},
     "output_type": "execute_result"
    }
   ],
   "source": [
    "df = pd.read_csv(\"train.csv\").set_index(\"Id\")\n",
    "print(df.shape)\n",
    "df.head(10)"
   ]
  },
  {
   "cell_type": "markdown",
   "id": "9472956b",
   "metadata": {},
   "source": [
    "## Explore"
   ]
  },
  {
   "cell_type": "code",
   "execution_count": 3,
   "id": "7a325185",
   "metadata": {
    "ExecuteTime": {
     "end_time": "2023-03-29T21:37:10.787460Z",
     "start_time": "2023-03-29T21:37:10.757189Z"
    }
   },
   "outputs": [
    {
     "name": "stdout",
     "output_type": "stream",
     "text": [
      "<class 'pandas.core.frame.DataFrame'>\n",
      "Int64Index: 1460 entries, 1 to 1460\n",
      "Data columns (total 80 columns):\n",
      " #   Column         Non-Null Count  Dtype  \n",
      "---  ------         --------------  -----  \n",
      " 0   MSSubClass     1460 non-null   int64  \n",
      " 1   MSZoning       1460 non-null   object \n",
      " 2   LotFrontage    1201 non-null   float64\n",
      " 3   LotArea        1460 non-null   int64  \n",
      " 4   Street         1460 non-null   object \n",
      " 5   Alley          91 non-null     object \n",
      " 6   LotShape       1460 non-null   object \n",
      " 7   LandContour    1460 non-null   object \n",
      " 8   Utilities      1460 non-null   object \n",
      " 9   LotConfig      1460 non-null   object \n",
      " 10  LandSlope      1460 non-null   object \n",
      " 11  Neighborhood   1460 non-null   object \n",
      " 12  Condition1     1460 non-null   object \n",
      " 13  Condition2     1460 non-null   object \n",
      " 14  BldgType       1460 non-null   object \n",
      " 15  HouseStyle     1460 non-null   object \n",
      " 16  OverallQual    1460 non-null   int64  \n",
      " 17  OverallCond    1460 non-null   int64  \n",
      " 18  YearBuilt      1460 non-null   int64  \n",
      " 19  YearRemodAdd   1460 non-null   int64  \n",
      " 20  RoofStyle      1460 non-null   object \n",
      " 21  RoofMatl       1460 non-null   object \n",
      " 22  Exterior1st    1460 non-null   object \n",
      " 23  Exterior2nd    1460 non-null   object \n",
      " 24  MasVnrType     1452 non-null   object \n",
      " 25  MasVnrArea     1452 non-null   float64\n",
      " 26  ExterQual      1460 non-null   object \n",
      " 27  ExterCond      1460 non-null   object \n",
      " 28  Foundation     1460 non-null   object \n",
      " 29  BsmtQual       1423 non-null   object \n",
      " 30  BsmtCond       1423 non-null   object \n",
      " 31  BsmtExposure   1422 non-null   object \n",
      " 32  BsmtFinType1   1423 non-null   object \n",
      " 33  BsmtFinSF1     1460 non-null   int64  \n",
      " 34  BsmtFinType2   1422 non-null   object \n",
      " 35  BsmtFinSF2     1460 non-null   int64  \n",
      " 36  BsmtUnfSF      1460 non-null   int64  \n",
      " 37  TotalBsmtSF    1460 non-null   int64  \n",
      " 38  Heating        1460 non-null   object \n",
      " 39  HeatingQC      1460 non-null   object \n",
      " 40  CentralAir     1460 non-null   object \n",
      " 41  Electrical     1459 non-null   object \n",
      " 42  1stFlrSF       1460 non-null   int64  \n",
      " 43  2ndFlrSF       1460 non-null   int64  \n",
      " 44  LowQualFinSF   1460 non-null   int64  \n",
      " 45  GrLivArea      1460 non-null   int64  \n",
      " 46  BsmtFullBath   1460 non-null   int64  \n",
      " 47  BsmtHalfBath   1460 non-null   int64  \n",
      " 48  FullBath       1460 non-null   int64  \n",
      " 49  HalfBath       1460 non-null   int64  \n",
      " 50  BedroomAbvGr   1460 non-null   int64  \n",
      " 51  KitchenAbvGr   1460 non-null   int64  \n",
      " 52  KitchenQual    1460 non-null   object \n",
      " 53  TotRmsAbvGrd   1460 non-null   int64  \n",
      " 54  Functional     1460 non-null   object \n",
      " 55  Fireplaces     1460 non-null   int64  \n",
      " 56  FireplaceQu    770 non-null    object \n",
      " 57  GarageType     1379 non-null   object \n",
      " 58  GarageYrBlt    1379 non-null   float64\n",
      " 59  GarageFinish   1379 non-null   object \n",
      " 60  GarageCars     1460 non-null   int64  \n",
      " 61  GarageArea     1460 non-null   int64  \n",
      " 62  GarageQual     1379 non-null   object \n",
      " 63  GarageCond     1379 non-null   object \n",
      " 64  PavedDrive     1460 non-null   object \n",
      " 65  WoodDeckSF     1460 non-null   int64  \n",
      " 66  OpenPorchSF    1460 non-null   int64  \n",
      " 67  EnclosedPorch  1460 non-null   int64  \n",
      " 68  3SsnPorch      1460 non-null   int64  \n",
      " 69  ScreenPorch    1460 non-null   int64  \n",
      " 70  PoolArea       1460 non-null   int64  \n",
      " 71  PoolQC         7 non-null      object \n",
      " 72  Fence          281 non-null    object \n",
      " 73  MiscFeature    54 non-null     object \n",
      " 74  MiscVal        1460 non-null   int64  \n",
      " 75  MoSold         1460 non-null   int64  \n",
      " 76  YrSold         1460 non-null   int64  \n",
      " 77  SaleType       1460 non-null   object \n",
      " 78  SaleCondition  1460 non-null   object \n",
      " 79  SalePrice      1460 non-null   int64  \n",
      "dtypes: float64(3), int64(34), object(43)\n",
      "memory usage: 923.9+ KB\n"
     ]
    }
   ],
   "source": [
    "df.info()"
   ]
  },
  {
   "cell_type": "markdown",
   "id": "39292cf4",
   "metadata": {},
   "source": [
    "## Leaky columns"
   ]
  },
  {
   "cell_type": "code",
   "execution_count": 4,
   "id": "ed4bd7b4",
   "metadata": {
    "ExecuteTime": {
     "end_time": "2023-03-29T21:37:10.802985Z",
     "start_time": "2023-03-29T21:37:10.789452Z"
    }
   },
   "outputs": [
    {
     "data": {
      "text/plain": [
       "FireplaceQu    0.472603\n",
       "Fence          0.807534\n",
       "Alley          0.937671\n",
       "MiscFeature    0.963014\n",
       "PoolQC         0.995205\n",
       "dtype: float64"
      ]
     },
     "execution_count": 4,
     "metadata": {},
     "output_type": "execute_result"
    }
   ],
   "source": [
    "((df.isna().sum()).sort_values().tail()) / len(df)"
   ]
  },
  {
   "cell_type": "code",
   "execution_count": 5,
   "id": "51dd7665",
   "metadata": {
    "ExecuteTime": {
     "end_time": "2023-03-29T21:37:10.819020Z",
     "start_time": "2023-03-29T21:37:10.803976Z"
    }
   },
   "outputs": [],
   "source": [
    "df.drop(columns=['Alley','Fence','MiscFeature','PoolQC'], axis=1 , inplace= True)"
   ]
  },
  {
   "cell_type": "code",
   "execution_count": 6,
   "id": "38c90098",
   "metadata": {
    "ExecuteTime": {
     "end_time": "2023-03-29T21:37:10.928467Z",
     "start_time": "2023-03-29T21:37:10.820012Z"
    }
   },
   "outputs": [
    {
     "data": {
      "image/png": "[encoded data removed]",
      "text/plain": [
       "<Figure size 432x288 with 1 Axes>"
      ]
     },
     "metadata": {
      "needs_background": "light"
     },
     "output_type": "display_data"
    }
   ],
   "source": [
    "plt.scatter(x=df['SalePrice'] , y=df['OverallQual'])\n",
    "plt.xlabel(\"SalesPrice\")\n",
    "plt.ylabel(\"OverallQual\")\n",
    "plt.title(\"Correlation between SalePrice and OverallQual\");"
   ]
  },
  {
   "cell_type": "code",
   "execution_count": 7,
   "id": "c41456c6",
   "metadata": {
    "ExecuteTime": {
     "end_time": "2023-03-29T21:37:11.021500Z",
     "start_time": "2023-03-29T21:37:10.929465Z"
    }
   },
   "outputs": [
    {
     "data": {
      "image/png": "[encoded data removed]",
      "text/plain": [
       "<Figure size 432x288 with 1 Axes>"
      ]
     },
     "metadata": {
      "needs_background": "light"
     },
     "output_type": "display_data"
    }
   ],
   "source": [
    "df['OverallQual'].hist()\n",
    "plt.xlabel('OverallQual')\n",
    "plt.ylabel('Count')\n",
    "plt.title(\"Distbution of OverallQual\");"
   ]
  },
  {
   "cell_type": "code",
   "execution_count": 8,
   "id": "abccdd3d",
   "metadata": {
    "ExecuteTime": {
     "end_time": "2023-03-29T21:37:11.117108Z",
     "start_time": "2023-03-29T21:37:11.023503Z"
    }
   },
   "outputs": [
    {
     "data": {
      "image/png": "[encoded data removed]",
      "text/plain": [
       "<Figure size 432x288 with 1 Axes>"
      ]
     },
     "metadata": {
      "needs_background": "light"
     },
     "output_type": "display_data"
    }
   ],
   "source": [
    "sns.boxenplot(x='Electrical' , y= 'SalePrice' , data=df)\n",
    "plt.xlabel(\"Electrical\")\n",
    "plt.ylabel(\"SalePrice\")\n",
    "plt.title(\"Distribution of SalePrice/Electrical Ratio\");"
   ]
  },
  {
   "cell_type": "code",
   "execution_count": 9,
   "id": "a65721ac",
   "metadata": {
    "ExecuteTime": {
     "end_time": "2023-03-29T21:37:11.243684Z",
     "start_time": "2023-03-29T21:37:11.119131Z"
    }
   },
   "outputs": [
    {
     "data": {
      "image/png": "[encoded data removed]",
      "text/plain": [
       "<Figure size 432x288 with 1 Axes>"
      ]
     },
     "metadata": {
      "needs_background": "light"
     },
     "output_type": "display_data"
    }
   ],
   "source": [
    "df['TotalBsmtSF'].hist()\n",
    "plt.xlabel('TotalBsmtSF')\n",
    "plt.ylabel('Count')\n",
    "plt.title(\"Distbution of TotalBsmtSF\");"
   ]
  },
  {
   "cell_type": "code",
   "execution_count": 10,
   "id": "26131ce7",
   "metadata": {
    "ExecuteTime": {
     "end_time": "2023-03-29T21:37:11.322770Z",
     "start_time": "2023-03-29T21:37:11.246596Z"
    }
   },
   "outputs": [
    {
     "data": {
      "image/png": "[encoded data removed]",
      "text/plain": [
       "<Figure size 432x288 with 1 Axes>"
      ]
     },
     "metadata": {
      "needs_background": "light"
     },
     "output_type": "display_data"
    }
   ],
   "source": [
    "df['LotArea'].hist()\n",
    "plt.xlabel('LotArea')\n",
    "plt.ylabel('Count')\n",
    "plt.title(\"Distbution of LotArea\");"
   ]
  },
  {
   "cell_type": "markdown",
   "id": "2b6934ed",
   "metadata": {},
   "source": [
    "## Multicollinearity"
   ]
  },
  {
   "cell_type": "code",
   "execution_count": 11,
   "id": "80e44ce1",
   "metadata": {
    "ExecuteTime": {
     "end_time": "2023-03-29T21:37:11.529842Z",
     "start_time": "2023-03-29T21:37:11.324769Z"
    }
   },
   "outputs": [
    {
     "data": {
      "image/png": "[encoded data removed]",
      "text/plain": [
       "<Figure size 432x288 with 2 Axes>"
      ]
     },
     "metadata": {
      "needs_background": "light"
     },
     "output_type": "display_data"
    }
   ],
   "source": [
    "corr = df.corr()\n",
    "sns.heatmap(corr);"
   ]
  },
  {
   "cell_type": "markdown",
   "id": "fde51ad2",
   "metadata": {},
   "source": [
    "## Split"
   ]
  },
  {
   "cell_type": "code",
   "execution_count": 12,
   "id": "66ea7342",
   "metadata": {
    "ExecuteTime": {
     "end_time": "2023-03-29T21:37:11.545816Z",
     "start_time": "2023-03-29T21:37:11.531843Z"
    }
   },
   "outputs": [],
   "source": [
    "target = 'SalePrice'\n",
    "X = df.drop(columns=[target])\n",
    "y = df[target]"
   ]
  },
  {
   "cell_type": "code",
   "execution_count": 13,
   "id": "6330a7bc",
   "metadata": {
    "ExecuteTime": {
     "end_time": "2023-03-29T21:37:11.561331Z",
     "start_time": "2023-03-29T21:37:11.546819Z"
    }
   },
   "outputs": [
    {
     "name": "stdout",
     "output_type": "stream",
     "text": [
      "X_train shape: (1168, 75)\n",
      "y_train shape: (1168,)\n",
      "X_test shape: (292, 75)\n",
      "y_test shape: (292,)\n"
     ]
    }
   ],
   "source": [
    "X_train , X_test , y_train , y_test = train_test_split(X ,y ,test_size=0.2 , random_state=42 )\n",
    "print(\"X_train shape:\", X_train.shape)\n",
    "print(\"y_train shape:\", y_train.shape)\n",
    "print(\"X_test shape:\", X_test.shape)\n",
    "print(\"y_test shape:\", y_test.shape)"
   ]
  },
  {
   "cell_type": "markdown",
   "id": "7b72c443",
   "metadata": {},
   "source": [
    "## Build Baseline"
   ]
  },
  {
   "cell_type": "code",
   "execution_count": 14,
   "id": "0e309ce3",
   "metadata": {
    "ExecuteTime": {
     "end_time": "2023-03-29T21:37:11.577320Z",
     "start_time": "2023-03-29T21:37:11.562337Z"
    }
   },
   "outputs": [
    {
     "name": "stdout",
     "output_type": "stream",
     "text": [
      "Mean apt price: 181441.5419520548\n",
      "Baseline MAE: 56306.770899793584\n"
     ]
    }
   ],
   "source": [
    "y_mean = y_train.mean()\n",
    "y_pred_baseline= [y_mean] * len(y_train)\n",
    "print(\"Mean apt price:\", y_mean)\n",
    "\n",
    "print(\"Baseline MAE:\", mean_absolute_error(y_train,y_pred_baseline))"
   ]
  },
  {
   "cell_type": "markdown",
   "id": "a82522f2",
   "metadata": {},
   "source": [
    "## Iterate"
   ]
  },
  {
   "cell_type": "code",
   "execution_count": 15,
   "id": "d23378df",
   "metadata": {
    "ExecuteTime": {
     "end_time": "2023-03-29T21:37:11.592554Z",
     "start_time": "2023-03-29T21:37:11.578319Z"
    }
   },
   "outputs": [],
   "source": [
    "clf = make_pipeline(\n",
    "\n",
    "    OrdinalEncoder(),\n",
    "    SimpleImputer(),\n",
    "    GradientBoostingRegressor(random_state=42)\n",
    "\n",
    ")"
   ]
  },
  {
   "cell_type": "code",
   "execution_count": 16,
   "id": "c67be71f",
   "metadata": {
    "ExecuteTime": {
     "end_time": "2023-03-29T21:37:11.607605Z",
     "start_time": "2023-03-29T21:37:11.594564Z"
    }
   },
   "outputs": [
    {
     "data": {
      "text/plain": [
       "{'simpleimputer__strategy': ['mean', 'median'],\n",
       " 'gradientboostingregressor__n_estimators': range(100, 150, 5),\n",
       " 'gradientboostingregressor__max_depth': range(3, 7)}"
      ]
     },
     "execution_count": 16,
     "metadata": {},
     "output_type": "execute_result"
    }
   ],
   "source": [
    "params = {\n",
    "    \n",
    "    \"simpleimputer__strategy\": [\"mean\",\"median\"],\n",
    "    \"gradientboostingregressor__n_estimators\": range(100 , 150 , 5),\n",
    "    \"gradientboostingregressor__max_depth\": range(3 , 7 , 1)\n",
    "    \n",
    "}\n",
    "params"
   ]
  },
  {
   "cell_type": "code",
   "execution_count": 17,
   "id": "eaba6469",
   "metadata": {
    "ExecuteTime": {
     "end_time": "2023-03-29T21:37:11.622827Z",
     "start_time": "2023-03-29T21:37:11.608592Z"
    }
   },
   "outputs": [],
   "source": [
    "model_gbr = GridSearchCV(\n",
    "\n",
    "    clf,\n",
    "    param_grid= params,\n",
    "    cv= 5,\n",
    "    n_jobs= -1,\n",
    "    verbose= 1\n",
    "\n",
    ")"
   ]
  },
  {
   "cell_type": "code",
   "execution_count": 18,
   "id": "a8a2d47b",
   "metadata": {
    "ExecuteTime": {
     "end_time": "2023-03-29T21:37:56.975746Z",
     "start_time": "2023-03-29T21:37:11.624828Z"
    }
   },
   "outputs": [
    {
     "name": "stdout",
     "output_type": "stream",
     "text": [
      "Fitting 5 folds for each of 80 candidates, totalling 400 fits\n"
     ]
    },
    {
     "data": {
      "text/plain": [
       "GridSearchCV(cv=5,\n",
       "             estimator=Pipeline(steps=[('ordinalencoder', OrdinalEncoder()),\n",
       "                                       ('simpleimputer', SimpleImputer()),\n",
       "                                       ('gradientboostingregressor',\n",
       "                                        GradientBoostingRegressor(random_state=42))]),\n",
       "             n_jobs=-1,\n",
       "             param_grid={'gradientboostingregressor__max_depth': range(3, 7),\n",
       "                         'gradientboostingregressor__n_estimators': range(100, 150, 5),\n",
       "                         'simpleimputer__strategy': ['mean', 'median']},\n",
       "             verbose=1)"
      ]
     },
     "execution_count": 18,
     "metadata": {},
     "output_type": "execute_result"
    }
   ],
   "source": [
    "model_gbr.fit(X_train , y_train)"
   ]
  },
  {
   "cell_type": "code",
   "execution_count": 19,
   "id": "33284540",
   "metadata": {
    "ExecuteTime": {
     "end_time": "2023-03-29T21:37:56.991529Z",
     "start_time": "2023-03-29T21:37:56.977633Z"
    }
   },
   "outputs": [
    {
     "data": {
      "text/html": [
       "<div>\n",
       "<style scoped>\n",
       "    .dataframe tbody tr th:only-of-type {\n",
       "        vertical-align: middle;\n",
       "    }\n",
       "\n",
       "    .dataframe tbody tr th {\n",
       "        vertical-align: top;\n",
       "    }\n",
       "\n",
       "    .dataframe thead th {\n",
       "        text-align: right;\n",
       "    }\n",
       "</style>\n",
       "<table border=\"1\" class=\"dataframe\">\n",
       "  <thead>\n",
       "    <tr style=\"text-align: right;\">\n",
       "      <th></th>\n",
       "      <th>mean_fit_time</th>\n",
       "      <th>std_fit_time</th>\n",
       "      <th>mean_score_time</th>\n",
       "      <th>std_score_time</th>\n",
       "      <th>param_gradientboostingregressor__max_depth</th>\n",
       "      <th>param_gradientboostingregressor__n_estimators</th>\n",
       "      <th>param_simpleimputer__strategy</th>\n",
       "      <th>params</th>\n",
       "      <th>split0_test_score</th>\n",
       "      <th>split1_test_score</th>\n",
       "      <th>split2_test_score</th>\n",
       "      <th>split3_test_score</th>\n",
       "      <th>split4_test_score</th>\n",
       "      <th>mean_test_score</th>\n",
       "      <th>std_test_score</th>\n",
       "      <th>rank_test_score</th>\n",
       "    </tr>\n",
       "  </thead>\n",
       "  <tbody>\n",
       "    <tr>\n",
       "      <th>39</th>\n",
       "      <td>1.127878</td>\n",
       "      <td>0.024753</td>\n",
       "      <td>0.048621</td>\n",
       "      <td>0.004805</td>\n",
       "      <td>4</td>\n",
       "      <td>145</td>\n",
       "      <td>median</td>\n",
       "      <td>{'gradientboostingregressor__max_depth': 4, 'g...</td>\n",
       "      <td>0.872507</td>\n",
       "      <td>0.797978</td>\n",
       "      <td>0.857568</td>\n",
       "      <td>0.890262</td>\n",
       "      <td>0.907534</td>\n",
       "      <td>0.865170</td>\n",
       "      <td>0.037552</td>\n",
       "      <td>1</td>\n",
       "    </tr>\n",
       "    <tr>\n",
       "      <th>37</th>\n",
       "      <td>1.103854</td>\n",
       "      <td>0.027873</td>\n",
       "      <td>0.047417</td>\n",
       "      <td>0.006136</td>\n",
       "      <td>4</td>\n",
       "      <td>140</td>\n",
       "      <td>median</td>\n",
       "      <td>{'gradientboostingregressor__max_depth': 4, 'g...</td>\n",
       "      <td>0.872455</td>\n",
       "      <td>0.797769</td>\n",
       "      <td>0.857021</td>\n",
       "      <td>0.890419</td>\n",
       "      <td>0.906980</td>\n",
       "      <td>0.864929</td>\n",
       "      <td>0.037544</td>\n",
       "      <td>2</td>\n",
       "    </tr>\n",
       "    <tr>\n",
       "      <th>35</th>\n",
       "      <td>1.055979</td>\n",
       "      <td>0.017115</td>\n",
       "      <td>0.048129</td>\n",
       "      <td>0.004319</td>\n",
       "      <td>4</td>\n",
       "      <td>135</td>\n",
       "      <td>median</td>\n",
       "      <td>{'gradientboostingregressor__max_depth': 4, 'g...</td>\n",
       "      <td>0.872832</td>\n",
       "      <td>0.797089</td>\n",
       "      <td>0.856671</td>\n",
       "      <td>0.890810</td>\n",
       "      <td>0.906897</td>\n",
       "      <td>0.864860</td>\n",
       "      <td>0.037852</td>\n",
       "      <td>3</td>\n",
       "    </tr>\n",
       "    <tr>\n",
       "      <th>31</th>\n",
       "      <td>1.002434</td>\n",
       "      <td>0.016324</td>\n",
       "      <td>0.046506</td>\n",
       "      <td>0.003822</td>\n",
       "      <td>4</td>\n",
       "      <td>125</td>\n",
       "      <td>median</td>\n",
       "      <td>{'gradientboostingregressor__max_depth': 4, 'g...</td>\n",
       "      <td>0.873523</td>\n",
       "      <td>0.795860</td>\n",
       "      <td>0.856559</td>\n",
       "      <td>0.891192</td>\n",
       "      <td>0.906219</td>\n",
       "      <td>0.864671</td>\n",
       "      <td>0.038233</td>\n",
       "      <td>4</td>\n",
       "    </tr>\n",
       "    <tr>\n",
       "      <th>33</th>\n",
       "      <td>1.112742</td>\n",
       "      <td>0.033018</td>\n",
       "      <td>0.043821</td>\n",
       "      <td>0.001465</td>\n",
       "      <td>4</td>\n",
       "      <td>130</td>\n",
       "      <td>median</td>\n",
       "      <td>{'gradientboostingregressor__max_depth': 4, 'g...</td>\n",
       "      <td>0.872856</td>\n",
       "      <td>0.795820</td>\n",
       "      <td>0.856676</td>\n",
       "      <td>0.891396</td>\n",
       "      <td>0.906228</td>\n",
       "      <td>0.864595</td>\n",
       "      <td>0.038243</td>\n",
       "      <td>5</td>\n",
       "    </tr>\n",
       "    <tr>\n",
       "      <th>34</th>\n",
       "      <td>1.068361</td>\n",
       "      <td>0.025387</td>\n",
       "      <td>0.043711</td>\n",
       "      <td>0.002463</td>\n",
       "      <td>4</td>\n",
       "      <td>135</td>\n",
       "      <td>mean</td>\n",
       "      <td>{'gradientboostingregressor__max_depth': 4, 'g...</td>\n",
       "      <td>0.873214</td>\n",
       "      <td>0.794782</td>\n",
       "      <td>0.856919</td>\n",
       "      <td>0.892288</td>\n",
       "      <td>0.905230</td>\n",
       "      <td>0.864486</td>\n",
       "      <td>0.038536</td>\n",
       "      <td>6</td>\n",
       "    </tr>\n",
       "    <tr>\n",
       "      <th>29</th>\n",
       "      <td>0.997623</td>\n",
       "      <td>0.082954</td>\n",
       "      <td>0.047712</td>\n",
       "      <td>0.005630</td>\n",
       "      <td>4</td>\n",
       "      <td>120</td>\n",
       "      <td>median</td>\n",
       "      <td>{'gradientboostingregressor__max_depth': 4, 'g...</td>\n",
       "      <td>0.873133</td>\n",
       "      <td>0.795578</td>\n",
       "      <td>0.856987</td>\n",
       "      <td>0.890903</td>\n",
       "      <td>0.905686</td>\n",
       "      <td>0.864457</td>\n",
       "      <td>0.038143</td>\n",
       "      <td>7</td>\n",
       "    </tr>\n",
       "    <tr>\n",
       "      <th>38</th>\n",
       "      <td>1.131682</td>\n",
       "      <td>0.022761</td>\n",
       "      <td>0.048809</td>\n",
       "      <td>0.005473</td>\n",
       "      <td>4</td>\n",
       "      <td>145</td>\n",
       "      <td>mean</td>\n",
       "      <td>{'gradientboostingregressor__max_depth': 4, 'g...</td>\n",
       "      <td>0.873569</td>\n",
       "      <td>0.793895</td>\n",
       "      <td>0.857531</td>\n",
       "      <td>0.891637</td>\n",
       "      <td>0.905413</td>\n",
       "      <td>0.864409</td>\n",
       "      <td>0.038797</td>\n",
       "      <td>8</td>\n",
       "    </tr>\n",
       "    <tr>\n",
       "      <th>36</th>\n",
       "      <td>1.092651</td>\n",
       "      <td>0.016249</td>\n",
       "      <td>0.045962</td>\n",
       "      <td>0.004708</td>\n",
       "      <td>4</td>\n",
       "      <td>140</td>\n",
       "      <td>mean</td>\n",
       "      <td>{'gradientboostingregressor__max_depth': 4, 'g...</td>\n",
       "      <td>0.873401</td>\n",
       "      <td>0.793470</td>\n",
       "      <td>0.857554</td>\n",
       "      <td>0.891898</td>\n",
       "      <td>0.905335</td>\n",
       "      <td>0.864332</td>\n",
       "      <td>0.038964</td>\n",
       "      <td>9</td>\n",
       "    </tr>\n",
       "    <tr>\n",
       "      <th>32</th>\n",
       "      <td>1.180675</td>\n",
       "      <td>0.096086</td>\n",
       "      <td>0.045513</td>\n",
       "      <td>0.004034</td>\n",
       "      <td>4</td>\n",
       "      <td>130</td>\n",
       "      <td>mean</td>\n",
       "      <td>{'gradientboostingregressor__max_depth': 4, 'g...</td>\n",
       "      <td>0.873073</td>\n",
       "      <td>0.794585</td>\n",
       "      <td>0.856801</td>\n",
       "      <td>0.892119</td>\n",
       "      <td>0.904947</td>\n",
       "      <td>0.864305</td>\n",
       "      <td>0.038521</td>\n",
       "      <td>10</td>\n",
       "    </tr>\n",
       "  </tbody>\n",
       "</table>\n",
       "</div>"
      ],
      "text/plain": [
       "    mean_fit_time  std_fit_time  mean_score_time  std_score_time  \\\n",
       "39       1.127878      0.024753         0.048621        0.004805   \n",
       "37       1.103854      0.027873         0.047417        0.006136   \n",
       "35       1.055979      0.017115         0.048129        0.004319   \n",
       "31       1.002434      0.016324         0.046506        0.003822   \n",
       "33       1.112742      0.033018         0.043821        0.001465   \n",
       "34       1.068361      0.025387         0.043711        0.002463   \n",
       "29       0.997623      0.082954         0.047712        0.005630   \n",
       "38       1.131682      0.022761         0.048809        0.005473   \n",
       "36       1.092651      0.016249         0.045962        0.004708   \n",
       "32       1.180675      0.096086         0.045513        0.004034   \n",
       "\n",
       "   param_gradientboostingregressor__max_depth  \\\n",
       "39                                          4   \n",
       "37                                          4   \n",
       "35                                          4   \n",
       "31                                          4   \n",
       "33                                          4   \n",
       "34                                          4   \n",
       "29                                          4   \n",
       "38                                          4   \n",
       "36                                          4   \n",
       "32                                          4   \n",
       "\n",
       "   param_gradientboostingregressor__n_estimators  \\\n",
       "39                                           145   \n",
       "37                                           140   \n",
       "35                                           135   \n",
       "31                                           125   \n",
       "33                                           130   \n",
       "34                                           135   \n",
       "29                                           120   \n",
       "38                                           145   \n",
       "36                                           140   \n",
       "32                                           130   \n",
       "\n",
       "   param_simpleimputer__strategy  \\\n",
       "39                        median   \n",
       "37                        median   \n",
       "35                        median   \n",
       "31                        median   \n",
       "33                        median   \n",
       "34                          mean   \n",
       "29                        median   \n",
       "38                          mean   \n",
       "36                          mean   \n",
       "32                          mean   \n",
       "\n",
       "                                               params  split0_test_score  \\\n",
       "39  {'gradientboostingregressor__max_depth': 4, 'g...           0.872507   \n",
       "37  {'gradientboostingregressor__max_depth': 4, 'g...           0.872455   \n",
       "35  {'gradientboostingregressor__max_depth': 4, 'g...           0.872832   \n",
       "31  {'gradientboostingregressor__max_depth': 4, 'g...           0.873523   \n",
       "33  {'gradientboostingregressor__max_depth': 4, 'g...           0.872856   \n",
       "34  {'gradientboostingregressor__max_depth': 4, 'g...           0.873214   \n",
       "29  {'gradientboostingregressor__max_depth': 4, 'g...           0.873133   \n",
       "38  {'gradientboostingregressor__max_depth': 4, 'g...           0.873569   \n",
       "36  {'gradientboostingregressor__max_depth': 4, 'g...           0.873401   \n",
       "32  {'gradientboostingregressor__max_depth': 4, 'g...           0.873073   \n",
       "\n",
       "    split1_test_score  split2_test_score  split3_test_score  \\\n",
       "39           0.797978           0.857568           0.890262   \n",
       "37           0.797769           0.857021           0.890419   \n",
       "35           0.797089           0.856671           0.890810   \n",
       "31           0.795860           0.856559           0.891192   \n",
       "33           0.795820           0.856676           0.891396   \n",
       "34           0.794782           0.856919           0.892288   \n",
       "29           0.795578           0.856987           0.890903   \n",
       "38           0.793895           0.857531           0.891637   \n",
       "36           0.793470           0.857554           0.891898   \n",
       "32           0.794585           0.856801           0.892119   \n",
       "\n",
       "    split4_test_score  mean_test_score  std_test_score  rank_test_score  \n",
       "39           0.907534         0.865170        0.037552                1  \n",
       "37           0.906980         0.864929        0.037544                2  \n",
       "35           0.906897         0.864860        0.037852                3  \n",
       "31           0.906219         0.864671        0.038233                4  \n",
       "33           0.906228         0.864595        0.038243                5  \n",
       "34           0.905230         0.864486        0.038536                6  \n",
       "29           0.905686         0.864457        0.038143                7  \n",
       "38           0.905413         0.864409        0.038797                8  \n",
       "36           0.905335         0.864332        0.038964                9  \n",
       "32           0.904947         0.864305        0.038521               10  "
      ]
     },
     "execution_count": 19,
     "metadata": {},
     "output_type": "execute_result"
    }
   ],
   "source": [
    "results = pd.DataFrame(model_gbr.cv_results_)\n",
    "results.sort_values(\"rank_test_score\").head(10)"
   ]
  },
  {
   "cell_type": "code",
   "execution_count": 20,
   "id": "22620363",
   "metadata": {
    "ExecuteTime": {
     "end_time": "2023-03-29T21:37:57.007510Z",
     "start_time": "2023-03-29T21:37:56.992488Z"
    }
   },
   "outputs": [
    {
     "data": {
      "text/plain": [
       "{'gradientboostingregressor__max_depth': 4,\n",
       " 'gradientboostingregressor__n_estimators': 145,\n",
       " 'simpleimputer__strategy': 'median'}"
      ]
     },
     "execution_count": 20,
     "metadata": {},
     "output_type": "execute_result"
    }
   ],
   "source": [
    "model_gbr.best_params_"
   ]
  },
  {
   "cell_type": "code",
   "execution_count": 21,
   "id": "e9766608",
   "metadata": {
    "ExecuteTime": {
     "end_time": "2023-03-29T21:37:57.054257Z",
     "start_time": "2023-03-29T21:37:57.008494Z"
    }
   },
   "outputs": [
    {
     "data": {
      "text/plain": [
       "array([147737.00469017, 177931.69490249,  92616.33113331, ...,\n",
       "       120531.32399546, 169260.4949013 , 190892.34973481])"
      ]
     },
     "execution_count": 21,
     "metadata": {},
     "output_type": "execute_result"
    }
   ],
   "source": [
    "y_pred_train = model_gbr.predict(X_train)\n",
    "y_pred_train"
   ]
  },
  {
   "cell_type": "markdown",
   "id": "0ecfd3a8",
   "metadata": {},
   "source": [
    "## Evaluate"
   ]
  },
  {
   "cell_type": "code",
   "execution_count": 22,
   "id": "18cf3450",
   "metadata": {
    "ExecuteTime": {
     "end_time": "2023-03-29T21:37:57.100531Z",
     "start_time": "2023-03-29T21:37:57.055248Z"
    }
   },
   "outputs": [
    {
     "name": "stdout",
     "output_type": "stream",
     "text": [
      "Training Accuracy: 0.9894\n",
      "Test Accuracy: 0.8895\n"
     ]
    }
   ],
   "source": [
    "y_pred_test = model_gbr.predict(X_test)\n",
    "\n",
    "acc_train = r2_score(y_pred_train , y_train)\n",
    "acc_test = r2_score(y_pred_test,y_test)\n",
    "\n",
    "print(\"Training Accuracy:\", round(acc_train, 4))\n",
    "print(\"Test Accuracy:\", round(acc_test, 4))"
   ]
  },
  {
   "cell_type": "markdown",
   "id": "ba25b394",
   "metadata": {},
   "source": [
    "## Communication"
   ]
  },
  {
   "cell_type": "code",
   "execution_count": 23,
   "id": "e095c97d",
   "metadata": {
    "ExecuteTime": {
     "end_time": "2023-03-29T21:37:57.194926Z",
     "start_time": "2023-03-29T21:37:57.102542Z"
    }
   },
   "outputs": [
    {
     "data": {
      "image/png": "[encoded data removed]",
      "text/plain": [
       "<Figure size 432x288 with 1 Axes>"
      ]
     },
     "metadata": {
      "needs_background": "light"
     },
     "output_type": "display_data"
    }
   ],
   "source": [
    "importances = model_gbr.best_estimator_.named_steps['gradientboostingregressor'].feature_importances_\n",
    "features = X_test.columns\n",
    "feat_imp = pd.Series(importances , index= features)\n",
    "feat_imp.sort_values().tail(10).plot(kind= 'barh')\n",
    "plt.xlabel(\"Gini Importance\")\n",
    "plt.ylabel(\"Feature\")\n",
    "plt.title(\"Feature Importance\");"
   ]
  },
  {
   "cell_type": "markdown",
   "id": "92ba1b89",
   "metadata": {},
   "source": [
    "## Save Model"
   ]
  },
  {
   "cell_type": "code",
   "execution_count": 24,
   "id": "187089f4",
   "metadata": {
    "ExecuteTime": {
     "end_time": "2023-03-29T21:37:57.210919Z",
     "start_time": "2023-03-29T21:37:57.195920Z"
    }
   },
   "outputs": [],
   "source": [
    "with open(\"model-2\" , \"wb\") as f:\n",
    "    pickle.dump(model_gbr , f)"
   ]
  }
 ],
 "metadata": {
  "kernelspec": {
   "display_name": "Python 3 (ipykernel)",
   "language": "python",
   "name": "python3"
  },
  "language_info": {
   "codemirror_mode": {
    "name": "ipython",
    "version": 3
   },
   "file_extension": ".py",
   "mimetype": "text/x-python",
   "name": "python",
   "nbconvert_exporter": "python",
   "pygments_lexer": "ipython3",
   "version": "3.9.12"
  }
 },
 "nbformat": 4,
 "nbformat_minor": 5
}
