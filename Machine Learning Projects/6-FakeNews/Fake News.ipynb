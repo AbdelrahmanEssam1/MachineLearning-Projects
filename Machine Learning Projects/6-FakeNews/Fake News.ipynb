{
 "cells": [
  {
   "cell_type": "markdown",
   "id": "f1086d1d",
   "metadata": {},
   "source": [
    "# Fake News"
   ]
  },
  {
   "cell_type": "markdown",
   "id": "6914b39c",
   "metadata": {},
   "source": [
    "## About the data"
   ]
  },
  {
   "cell_type": "markdown",
   "id": "c6a6b7f0",
   "metadata": {},
   "source": [
    "### 1.id: unique id for a news article\n",
    "### 2.title: the title of the news article\n",
    "### 3.author: author of the news article\n",
    "### 4.text: the text of the article; could be incomplete\n",
    "### 5.label: a label that marks whether the news article is real or fake"
   ]
  },
  {
   "cell_type": "markdown",
   "id": "6ebf56a6",
   "metadata": {},
   "source": [
    "#### 1 => fake news\n",
    "#### 0 => real news"
   ]
  },
  {
   "cell_type": "markdown",
   "id": "ac26414c",
   "metadata": {},
   "source": [
    "## Importing libraries"
   ]
  },
  {
   "cell_type": "code",
   "execution_count": 1,
   "id": "e1f877ac",
   "metadata": {
    "ExecuteTime": {
     "end_time": "2023-04-07T01:27:36.782874Z",
     "start_time": "2023-04-07T01:27:34.863115Z"
    }
   },
   "outputs": [],
   "source": [
    "import numpy as np\n",
    "import pandas as pd\n",
    "from matplotlib import pyplot as plt\n",
    "%matplotlib inline\n",
    "import seaborn as sns\n",
    "import re\n",
    "from nltk.corpus import stopwords\n",
    "from nltk.stem.porter import PorterStemmer\n",
    "from sklearn.feature_extraction.text import CountVectorizer\n",
    "from sklearn.feature_extraction.text import TfidfTransformer\n",
    "from sklearn.linear_model import LogisticRegression\n",
    "from sklearn.svm import SVC\n",
    "from sklearn.tree import DecisionTreeClassifier\n",
    "from sklearn.ensemble import RandomForestClassifier , GradientBoostingClassifier\n",
    "from sklearn.model_selection import train_test_split , GridSearchCV\n",
    "from sklearn.metrics import accuracy_score , ConfusionMatrixDisplay , classification_report , roc_curve"
   ]
  },
  {
   "cell_type": "code",
   "execution_count": 2,
   "id": "c67acc74",
   "metadata": {
    "ExecuteTime": {
     "end_time": "2023-04-07T01:27:36.797751Z",
     "start_time": "2023-04-07T01:27:36.784873Z"
    }
   },
   "outputs": [
    {
     "name": "stdout",
     "output_type": "stream",
     "text": [
      "['i', 'me', 'my', 'myself', 'we', 'our', 'ours', 'ourselves', 'you', \"you're\", \"you've\", \"you'll\", \"you'd\", 'your', 'yours', 'yourself', 'yourselves', 'he', 'him', 'his', 'himself', 'she', \"she's\", 'her', 'hers', 'herself', 'it', \"it's\", 'its', 'itself', 'they', 'them', 'their', 'theirs', 'themselves', 'what', 'which', 'who', 'whom', 'this', 'that', \"that'll\", 'these', 'those', 'am', 'is', 'are', 'was', 'were', 'be', 'been', 'being', 'have', 'has', 'had', 'having', 'do', 'does', 'did', 'doing', 'a', 'an', 'the', 'and', 'but', 'if', 'or', 'because', 'as', 'until', 'while', 'of', 'at', 'by', 'for', 'with', 'about', 'against', 'between', 'into', 'through', 'during', 'before', 'after', 'above', 'below', 'to', 'from', 'up', 'down', 'in', 'out', 'on', 'off', 'over', 'under', 'again', 'further', 'then', 'once', 'here', 'there', 'when', 'where', 'why', 'how', 'all', 'any', 'both', 'each', 'few', 'more', 'most', 'other', 'some', 'such', 'no', 'nor', 'not', 'only', 'own', 'same', 'so', 'than', 'too', 'very', 's', 't', 'can', 'will', 'just', 'don', \"don't\", 'should', \"should've\", 'now', 'd', 'll', 'm', 'o', 're', 've', 'y', 'ain', 'aren', \"aren't\", 'couldn', \"couldn't\", 'didn', \"didn't\", 'doesn', \"doesn't\", 'hadn', \"hadn't\", 'hasn', \"hasn't\", 'haven', \"haven't\", 'isn', \"isn't\", 'ma', 'mightn', \"mightn't\", 'mustn', \"mustn't\", 'needn', \"needn't\", 'shan', \"shan't\", 'shouldn', \"shouldn't\", 'wasn', \"wasn't\", 'weren', \"weren't\", 'won', \"won't\", 'wouldn', \"wouldn't\"]\n"
     ]
    }
   ],
   "source": [
    "# Printing the stopwords in English\n",
    "print(stopwords.words('english'))"
   ]
  },
  {
   "cell_type": "markdown",
   "id": "57d1f1d6",
   "metadata": {},
   "source": [
    "## Data Preparation"
   ]
  },
  {
   "cell_type": "code",
   "execution_count": 31,
   "id": "08e966de",
   "metadata": {
    "ExecuteTime": {
     "end_time": "2023-04-07T01:42:19.259953Z",
     "start_time": "2023-04-07T01:42:18.272812Z"
    }
   },
   "outputs": [
    {
     "name": "stdout",
     "output_type": "stream",
     "text": [
      "The shape of the dataset is: (20800, 5)\n"
     ]
    },
    {
     "data": {
      "text/html": [
       "<div>\n",
       "<style scoped>\n",
       "    .dataframe tbody tr th:only-of-type {\n",
       "        vertical-align: middle;\n",
       "    }\n",
       "\n",
       "    .dataframe tbody tr th {\n",
       "        vertical-align: top;\n",
       "    }\n",
       "\n",
       "    .dataframe thead th {\n",
       "        text-align: right;\n",
       "    }\n",
       "</style>\n",
       "<table border=\"1\" class=\"dataframe\">\n",
       "  <thead>\n",
       "    <tr style=\"text-align: right;\">\n",
       "      <th></th>\n",
       "      <th>id</th>\n",
       "      <th>title</th>\n",
       "      <th>author</th>\n",
       "      <th>text</th>\n",
       "      <th>label</th>\n",
       "    </tr>\n",
       "  </thead>\n",
       "  <tbody>\n",
       "    <tr>\n",
       "      <th>0</th>\n",
       "      <td>0</td>\n",
       "      <td>House Dem Aide: We Didn’t Even See Comey’s Let...</td>\n",
       "      <td>Darrell Lucus</td>\n",
       "      <td>House Dem Aide: We Didn’t Even See Comey’s Let...</td>\n",
       "      <td>1</td>\n",
       "    </tr>\n",
       "    <tr>\n",
       "      <th>1</th>\n",
       "      <td>1</td>\n",
       "      <td>FLYNN: Hillary Clinton, Big Woman on Campus - ...</td>\n",
       "      <td>Daniel J. Flynn</td>\n",
       "      <td>Ever get the feeling your life circles the rou...</td>\n",
       "      <td>0</td>\n",
       "    </tr>\n",
       "    <tr>\n",
       "      <th>2</th>\n",
       "      <td>2</td>\n",
       "      <td>Why the Truth Might Get You Fired</td>\n",
       "      <td>Consortiumnews.com</td>\n",
       "      <td>Why the Truth Might Get You Fired October 29, ...</td>\n",
       "      <td>1</td>\n",
       "    </tr>\n",
       "    <tr>\n",
       "      <th>3</th>\n",
       "      <td>3</td>\n",
       "      <td>15 Civilians Killed In Single US Airstrike Hav...</td>\n",
       "      <td>Jessica Purkiss</td>\n",
       "      <td>Videos 15 Civilians Killed In Single US Airstr...</td>\n",
       "      <td>1</td>\n",
       "    </tr>\n",
       "    <tr>\n",
       "      <th>4</th>\n",
       "      <td>4</td>\n",
       "      <td>Iranian woman jailed for fictional unpublished...</td>\n",
       "      <td>Howard Portnoy</td>\n",
       "      <td>Print \\nAn Iranian woman has been sentenced to...</td>\n",
       "      <td>1</td>\n",
       "    </tr>\n",
       "  </tbody>\n",
       "</table>\n",
       "</div>"
      ],
      "text/plain": [
       "   id                                              title              author  \\\n",
       "0   0  House Dem Aide: We Didn’t Even See Comey’s Let...       Darrell Lucus   \n",
       "1   1  FLYNN: Hillary Clinton, Big Woman on Campus - ...     Daniel J. Flynn   \n",
       "2   2                  Why the Truth Might Get You Fired  Consortiumnews.com   \n",
       "3   3  15 Civilians Killed In Single US Airstrike Hav...     Jessica Purkiss   \n",
       "4   4  Iranian woman jailed for fictional unpublished...      Howard Portnoy   \n",
       "\n",
       "                                                text  label  \n",
       "0  House Dem Aide: We Didn’t Even See Comey’s Let...      1  \n",
       "1  Ever get the feeling your life circles the rou...      0  \n",
       "2  Why the Truth Might Get You Fired October 29, ...      1  \n",
       "3  Videos 15 Civilians Killed In Single US Airstr...      1  \n",
       "4  Print \\nAn Iranian woman has been sentenced to...      1  "
      ]
     },
     "execution_count": 31,
     "metadata": {},
     "output_type": "execute_result"
    }
   ],
   "source": [
    "# load the data\n",
    "df = pd.read_csv('train.csv')\n",
    "print(f\"The shape of the dataset is: {df.shape}\")\n",
    "df.head()"
   ]
  },
  {
   "cell_type": "code",
   "execution_count": 4,
   "id": "4ac0d30b",
   "metadata": {
    "ExecuteTime": {
     "end_time": "2023-04-07T01:27:37.834510Z",
     "start_time": "2023-04-07T01:27:37.756742Z"
    },
    "scrolled": true
   },
   "outputs": [
    {
     "name": "stdout",
     "output_type": "stream",
     "text": [
      "<class 'pandas.core.frame.DataFrame'>\n",
      "RangeIndex: 20800 entries, 0 to 20799\n",
      "Data columns (total 5 columns):\n",
      " #   Column  Non-Null Count  Dtype \n",
      "---  ------  --------------  ----- \n",
      " 0   id      20800 non-null  int64 \n",
      " 1   title   20242 non-null  object\n",
      " 2   author  18843 non-null  object\n",
      " 3   text    20761 non-null  object\n",
      " 4   label   20800 non-null  int64 \n",
      "dtypes: int64(2), object(3)\n",
      "memory usage: 812.6+ KB\n"
     ]
    }
   ],
   "source": [
    "df.info()"
   ]
  },
  {
   "cell_type": "code",
   "execution_count": 5,
   "id": "87148870",
   "metadata": {
    "ExecuteTime": {
     "end_time": "2023-04-07T01:27:37.864606Z",
     "start_time": "2023-04-07T01:27:37.836444Z"
    }
   },
   "outputs": [
    {
     "data": {
      "text/plain": [
       "id           0\n",
       "title      558\n",
       "author    1957\n",
       "text        39\n",
       "label        0\n",
       "dtype: int64"
      ]
     },
     "execution_count": 5,
     "metadata": {},
     "output_type": "execute_result"
    }
   ],
   "source": [
    "df.isna().sum()"
   ]
  },
  {
   "cell_type": "markdown",
   "id": "212f55b9",
   "metadata": {},
   "source": [
    "## Data Preprocessing"
   ]
  },
  {
   "cell_type": "markdown",
   "id": "bd94931c",
   "metadata": {},
   "source": [
    "### Handling null values"
   ]
  },
  {
   "cell_type": "code",
   "execution_count": 6,
   "id": "23f6f455",
   "metadata": {
    "ExecuteTime": {
     "end_time": "2023-04-07T01:27:37.880180Z",
     "start_time": "2023-04-07T01:27:37.865664Z"
    }
   },
   "outputs": [],
   "source": [
    "df.fillna(\" \", inplace= True)"
   ]
  },
  {
   "cell_type": "code",
   "execution_count": 7,
   "id": "d6e84f28",
   "metadata": {
    "ExecuteTime": {
     "end_time": "2023-04-07T01:27:37.895618Z",
     "start_time": "2023-04-07T01:27:37.881192Z"
    }
   },
   "outputs": [],
   "source": [
    "df['content'] = df['title'] + \" \" + df['author']"
   ]
  },
  {
   "cell_type": "code",
   "execution_count": 8,
   "id": "6b4ca1a5",
   "metadata": {
    "ExecuteTime": {
     "end_time": "2023-04-07T01:27:37.910591Z",
     "start_time": "2023-04-07T01:27:37.896537Z"
    }
   },
   "outputs": [
    {
     "data": {
      "text/html": [
       "<div>\n",
       "<style scoped>\n",
       "    .dataframe tbody tr th:only-of-type {\n",
       "        vertical-align: middle;\n",
       "    }\n",
       "\n",
       "    .dataframe tbody tr th {\n",
       "        vertical-align: top;\n",
       "    }\n",
       "\n",
       "    .dataframe thead th {\n",
       "        text-align: right;\n",
       "    }\n",
       "</style>\n",
       "<table border=\"1\" class=\"dataframe\">\n",
       "  <thead>\n",
       "    <tr style=\"text-align: right;\">\n",
       "      <th></th>\n",
       "      <th>id</th>\n",
       "      <th>title</th>\n",
       "      <th>author</th>\n",
       "      <th>text</th>\n",
       "      <th>label</th>\n",
       "      <th>content</th>\n",
       "    </tr>\n",
       "  </thead>\n",
       "  <tbody>\n",
       "    <tr>\n",
       "      <th>0</th>\n",
       "      <td>0</td>\n",
       "      <td>House Dem Aide: We Didn’t Even See Comey’s Let...</td>\n",
       "      <td>Darrell Lucus</td>\n",
       "      <td>House Dem Aide: We Didn’t Even See Comey’s Let...</td>\n",
       "      <td>1</td>\n",
       "      <td>House Dem Aide: We Didn’t Even See Comey’s Let...</td>\n",
       "    </tr>\n",
       "    <tr>\n",
       "      <th>1</th>\n",
       "      <td>1</td>\n",
       "      <td>FLYNN: Hillary Clinton, Big Woman on Campus - ...</td>\n",
       "      <td>Daniel J. Flynn</td>\n",
       "      <td>Ever get the feeling your life circles the rou...</td>\n",
       "      <td>0</td>\n",
       "      <td>FLYNN: Hillary Clinton, Big Woman on Campus - ...</td>\n",
       "    </tr>\n",
       "    <tr>\n",
       "      <th>2</th>\n",
       "      <td>2</td>\n",
       "      <td>Why the Truth Might Get You Fired</td>\n",
       "      <td>Consortiumnews.com</td>\n",
       "      <td>Why the Truth Might Get You Fired October 29, ...</td>\n",
       "      <td>1</td>\n",
       "      <td>Why the Truth Might Get You Fired Consortiumne...</td>\n",
       "    </tr>\n",
       "    <tr>\n",
       "      <th>3</th>\n",
       "      <td>3</td>\n",
       "      <td>15 Civilians Killed In Single US Airstrike Hav...</td>\n",
       "      <td>Jessica Purkiss</td>\n",
       "      <td>Videos 15 Civilians Killed In Single US Airstr...</td>\n",
       "      <td>1</td>\n",
       "      <td>15 Civilians Killed In Single US Airstrike Hav...</td>\n",
       "    </tr>\n",
       "    <tr>\n",
       "      <th>4</th>\n",
       "      <td>4</td>\n",
       "      <td>Iranian woman jailed for fictional unpublished...</td>\n",
       "      <td>Howard Portnoy</td>\n",
       "      <td>Print \\nAn Iranian woman has been sentenced to...</td>\n",
       "      <td>1</td>\n",
       "      <td>Iranian woman jailed for fictional unpublished...</td>\n",
       "    </tr>\n",
       "  </tbody>\n",
       "</table>\n",
       "</div>"
      ],
      "text/plain": [
       "   id                                              title              author  \\\n",
       "0   0  House Dem Aide: We Didn’t Even See Comey’s Let...       Darrell Lucus   \n",
       "1   1  FLYNN: Hillary Clinton, Big Woman on Campus - ...     Daniel J. Flynn   \n",
       "2   2                  Why the Truth Might Get You Fired  Consortiumnews.com   \n",
       "3   3  15 Civilians Killed In Single US Airstrike Hav...     Jessica Purkiss   \n",
       "4   4  Iranian woman jailed for fictional unpublished...      Howard Portnoy   \n",
       "\n",
       "                                                text  label  \\\n",
       "0  House Dem Aide: We Didn’t Even See Comey’s Let...      1   \n",
       "1  Ever get the feeling your life circles the rou...      0   \n",
       "2  Why the Truth Might Get You Fired October 29, ...      1   \n",
       "3  Videos 15 Civilians Killed In Single US Airstr...      1   \n",
       "4  Print \\nAn Iranian woman has been sentenced to...      1   \n",
       "\n",
       "                                             content  \n",
       "0  House Dem Aide: We Didn’t Even See Comey’s Let...  \n",
       "1  FLYNN: Hillary Clinton, Big Woman on Campus - ...  \n",
       "2  Why the Truth Might Get You Fired Consortiumne...  \n",
       "3  15 Civilians Killed In Single US Airstrike Hav...  \n",
       "4  Iranian woman jailed for fictional unpublished...  "
      ]
     },
     "execution_count": 8,
     "metadata": {},
     "output_type": "execute_result"
    }
   ],
   "source": [
    "df.head()"
   ]
  },
  {
   "cell_type": "markdown",
   "id": "70b052a2",
   "metadata": {},
   "source": [
    "## Stemming"
   ]
  },
  {
   "cell_type": "markdown",
   "id": "780790bd",
   "metadata": {},
   "source": [
    "### Stemming is the process of reducing a word to its base or root form, by removing suffixes and prefixes"
   ]
  },
  {
   "cell_type": "code",
   "execution_count": 9,
   "id": "675f4162",
   "metadata": {
    "ExecuteTime": {
     "end_time": "2023-04-07T01:27:37.925818Z",
     "start_time": "2023-04-07T01:27:37.912535Z"
    }
   },
   "outputs": [],
   "source": [
    "port_stem = PorterStemmer()"
   ]
  },
  {
   "cell_type": "code",
   "execution_count": 10,
   "id": "c7e45162",
   "metadata": {
    "ExecuteTime": {
     "end_time": "2023-04-07T01:27:37.940938Z",
     "start_time": "2023-04-07T01:27:37.928892Z"
    }
   },
   "outputs": [],
   "source": [
    "def stemming(content):\n",
    "    #replace any non-alphabetic characters in the content variable with a space character\n",
    "    stemmed_content= re.sub('[^a-zA-Z]',' ',content)\n",
    "    #Convert all words into lower case letters\n",
    "    stemmed_content = stemmed_content.lower() \n",
    "    # Split the words into list\n",
    "    stemmed_content = stemmed_content.split()\n",
    "    #generate a list of stemmed words from stemmed_content, excluding any stop words from the list\n",
    "    stemmed_content = [port_stem.stem(word) for word in stemmed_content if not word in stopwords.words('english')]\n",
    "    #Join the elements from the list 'stemmed_content' into a single string separated by spaces\n",
    "    stemmed_content = \" \".join(stemmed_content)\n",
    "    return stemmed_content"
   ]
  },
  {
   "cell_type": "code",
   "execution_count": 11,
   "id": "d3bb7713",
   "metadata": {
    "ExecuteTime": {
     "end_time": "2023-04-07T01:28:21.149078Z",
     "start_time": "2023-04-07T01:27:37.942872Z"
    }
   },
   "outputs": [],
   "source": [
    "df['content']= df['content'].apply(stemming)"
   ]
  },
  {
   "cell_type": "code",
   "execution_count": 12,
   "id": "d54beee2",
   "metadata": {
    "ExecuteTime": {
     "end_time": "2023-04-07T01:28:21.164603Z",
     "start_time": "2023-04-07T01:28:21.151071Z"
    }
   },
   "outputs": [
    {
     "data": {
      "text/plain": [
       "0        hous dem aid even see comey letter jason chaff...\n",
       "1        flynn hillari clinton big woman campu breitbar...\n",
       "2                   truth might get fire consortiumnew com\n",
       "3        civilian kill singl us airstrik identifi jessi...\n",
       "4        iranian woman jail fiction unpublish stori wom...\n",
       "                               ...                        \n",
       "20795    rapper trump poster child white supremaci jero...\n",
       "20796    n f l playoff schedul matchup odd new york tim...\n",
       "20797    maci said receiv takeov approach hudson bay ne...\n",
       "20798    nato russia hold parallel exercis balkan alex ...\n",
       "20799                            keep f aliv david swanson\n",
       "Name: content, Length: 20800, dtype: object"
      ]
     },
     "execution_count": 12,
     "metadata": {},
     "output_type": "execute_result"
    }
   ],
   "source": [
    "df['content']"
   ]
  },
  {
   "cell_type": "markdown",
   "id": "ba313748",
   "metadata": {},
   "source": [
    "## Converting the textual data to numerical data"
   ]
  },
  {
   "cell_type": "code",
   "execution_count": 13,
   "id": "36b64a28",
   "metadata": {
    "ExecuteTime": {
     "end_time": "2023-04-07T01:28:21.762219Z",
     "start_time": "2023-04-07T01:28:21.166602Z"
    }
   },
   "outputs": [],
   "source": [
    "transformer = TfidfTransformer(smooth_idf=False)\n",
    "count_vectorizer = CountVectorizer(ngram_range=(1, 2))\n",
    "counts = count_vectorizer.fit_transform(df['content'].values)\n",
    "tfidf = transformer.fit_transform(counts)"
   ]
  },
  {
   "cell_type": "markdown",
   "id": "51a8cca9",
   "metadata": {},
   "source": [
    "## Split data into train & test data"
   ]
  },
  {
   "cell_type": "code",
   "execution_count": 14,
   "id": "03d23c4a",
   "metadata": {
    "ExecuteTime": {
     "end_time": "2023-04-07T01:28:21.777892Z",
     "start_time": "2023-04-07T01:28:21.764357Z"
    }
   },
   "outputs": [],
   "source": [
    "targets = df['label'].values"
   ]
  },
  {
   "cell_type": "code",
   "execution_count": 15,
   "id": "f0eaaff8",
   "metadata": {
    "ExecuteTime": {
     "end_time": "2023-04-07T01:28:21.795946Z",
     "start_time": "2023-04-07T01:28:21.779897Z"
    }
   },
   "outputs": [
    {
     "name": "stdout",
     "output_type": "stream",
     "text": [
      "target shape: (20800,)\n",
      "X shape: (20800, 131551)\n"
     ]
    }
   ],
   "source": [
    "print(f\"target shape: {targets.shape}\")\n",
    "print(f\"X shape: {tfidf.shape}\")"
   ]
  },
  {
   "cell_type": "code",
   "execution_count": 16,
   "id": "1abc08f3",
   "metadata": {
    "ExecuteTime": {
     "end_time": "2023-04-07T01:28:21.809400Z",
     "start_time": "2023-04-07T01:28:21.799918Z"
    }
   },
   "outputs": [],
   "source": [
    "X_train, X_test, y_train, y_test = train_test_split(tfidf, targets, test_size=0.2, random_state=49)"
   ]
  },
  {
   "cell_type": "code",
   "execution_count": 17,
   "id": "a5be4aff",
   "metadata": {
    "ExecuteTime": {
     "end_time": "2023-04-07T01:28:21.825438Z",
     "start_time": "2023-04-07T01:28:21.811401Z"
    }
   },
   "outputs": [
    {
     "name": "stdout",
     "output_type": "stream",
     "text": [
      "The shape of X_train is: 16640\n",
      "The shape of X_test is: 4160\n"
     ]
    }
   ],
   "source": [
    "print(f\"The shape of X_train is: {X_train.shape[0]}\")\n",
    "print(f\"The shape of X_test is: {X_test.shape[0]}\")"
   ]
  },
  {
   "cell_type": "markdown",
   "id": "fe6f5e6b",
   "metadata": {},
   "source": [
    "## Iterate"
   ]
  },
  {
   "cell_type": "code",
   "execution_count": 27,
   "id": "7232b6d5",
   "metadata": {
    "ExecuteTime": {
     "end_time": "2023-04-07T01:31:21.730391Z",
     "start_time": "2023-04-07T01:31:21.717797Z"
    }
   },
   "outputs": [],
   "source": [
    "def train(model , model_name):\n",
    "    model.fit(X_train,y_train)\n",
    "    print(f\"Training accuracy of {model_name} is {model.score(X_train,y_train)}\")\n",
    "    print(f\"testing accuracy of {model_name} is {model.score(X_test,y_test)}\")\n",
    "def conf_matrix(model):\n",
    "    ConfusionMatrixDisplay.from_estimator(\n",
    "        model,\n",
    "        X_test,\n",
    "        y_test\n",
    "    )\n",
    "def class_report(model):\n",
    "    print(classification_report(\n",
    "        y_test,\n",
    "        model.predict(X_test)\n",
    "    ))"
   ]
  },
  {
   "cell_type": "markdown",
   "id": "4011bb40",
   "metadata": {},
   "source": [
    "## LogisticRegression"
   ]
  },
  {
   "cell_type": "code",
   "execution_count": 19,
   "id": "786e2e76",
   "metadata": {
    "ExecuteTime": {
     "end_time": "2023-04-07T01:28:21.855644Z",
     "start_time": "2023-04-07T01:28:21.842367Z"
    }
   },
   "outputs": [],
   "source": [
    "model_lr = LogisticRegression()"
   ]
  },
  {
   "cell_type": "code",
   "execution_count": 21,
   "id": "7e6d35db",
   "metadata": {
    "ExecuteTime": {
     "end_time": "2023-04-07T01:28:40.321626Z",
     "start_time": "2023-04-07T01:28:39.396143Z"
    }
   },
   "outputs": [
    {
     "name": "stdout",
     "output_type": "stream",
     "text": [
      "Training accuracy of LogisticRegression is 0.9884615384615385\n",
      "testing accuracy of LogisticRegression is 0.9711538461538461\n"
     ]
    }
   ],
   "source": [
    "train(model_lr, 'LogisticRegression')"
   ]
  },
  {
   "cell_type": "code",
   "execution_count": 23,
   "id": "d80c63fd",
   "metadata": {
    "ExecuteTime": {
     "end_time": "2023-04-07T01:28:47.621272Z",
     "start_time": "2023-04-07T01:28:47.502725Z"
    }
   },
   "outputs": [
    {
     "data": {
      "image/png": "[encoded data removed]",
      "text/plain": [
       "<Figure size 432x288 with 2 Axes>"
      ]
     },
     "metadata": {
      "needs_background": "light"
     },
     "output_type": "display_data"
    }
   ],
   "source": [
    "conf_matrix(model_lr)"
   ]
  },
  {
   "cell_type": "code",
   "execution_count": 24,
   "id": "e2c1a157",
   "metadata": {
    "ExecuteTime": {
     "end_time": "2023-04-07T01:28:49.820866Z",
     "start_time": "2023-04-07T01:28:49.804314Z"
    }
   },
   "outputs": [
    {
     "name": "stdout",
     "output_type": "stream",
     "text": [
      "              precision    recall  f1-score   support\n",
      "\n",
      "           0       1.00      0.94      0.97      2062\n",
      "           1       0.95      1.00      0.97      2098\n",
      "\n",
      "    accuracy                           0.97      4160\n",
      "   macro avg       0.97      0.97      0.97      4160\n",
      "weighted avg       0.97      0.97      0.97      4160\n",
      "\n"
     ]
    }
   ],
   "source": [
    "class_report(model_lr)"
   ]
  },
  {
   "cell_type": "markdown",
   "id": "0ca09dd4",
   "metadata": {},
   "source": [
    "## SVM"
   ]
  },
  {
   "cell_type": "code",
   "execution_count": 25,
   "id": "f43d2e51",
   "metadata": {
    "ExecuteTime": {
     "end_time": "2023-04-07T01:28:56.534179Z",
     "start_time": "2023-04-07T01:28:56.519181Z"
    }
   },
   "outputs": [],
   "source": [
    "svc_model= SVC()"
   ]
  },
  {
   "cell_type": "code",
   "execution_count": 26,
   "id": "6531bfe6",
   "metadata": {
    "ExecuteTime": {
     "end_time": "2023-04-07T01:30:43.414791Z",
     "start_time": "2023-04-07T01:28:58.136675Z"
    }
   },
   "outputs": [
    {
     "name": "stdout",
     "output_type": "stream",
     "text": [
      "Training accuracy of SVM is 0.9996995192307693\n",
      "testing accuracy of SVM is 0.9848557692307692\n"
     ]
    }
   ],
   "source": [
    "train(svc_model, 'SVM')"
   ]
  },
  {
   "cell_type": "code",
   "execution_count": 28,
   "id": "ce217517",
   "metadata": {
    "ExecuteTime": {
     "end_time": "2023-04-07T01:31:50.334817Z",
     "start_time": "2023-04-07T01:31:44.580698Z"
    }
   },
   "outputs": [
    {
     "data": {
      "image/png": "[encoded data removed]",
      "text/plain": [
       "<Figure size 432x288 with 2 Axes>"
      ]
     },
     "metadata": {
      "needs_background": "light"
     },
     "output_type": "display_data"
    }
   ],
   "source": [
    "conf_matrix(svc_model)"
   ]
  },
  {
   "cell_type": "code",
   "execution_count": 29,
   "id": "102b374e",
   "metadata": {
    "ExecuteTime": {
     "end_time": "2023-04-07T01:32:16.688015Z",
     "start_time": "2023-04-07T01:32:11.113267Z"
    }
   },
   "outputs": [
    {
     "name": "stdout",
     "output_type": "stream",
     "text": [
      "              precision    recall  f1-score   support\n",
      "\n",
      "           0       1.00      0.97      0.98      2062\n",
      "           1       0.97      1.00      0.99      2098\n",
      "\n",
      "    accuracy                           0.98      4160\n",
      "   macro avg       0.99      0.98      0.98      4160\n",
      "weighted avg       0.99      0.98      0.98      4160\n",
      "\n"
     ]
    }
   ],
   "source": [
    "class_report(svc_model)"
   ]
  },
  {
   "cell_type": "markdown",
   "id": "5f1a677a",
   "metadata": {},
   "source": [
    "## DecisionTreeClassifier"
   ]
  },
  {
   "cell_type": "code",
   "execution_count": 42,
   "id": "ae966fe4",
   "metadata": {
    "ExecuteTime": {
     "end_time": "2023-04-07T01:57:57.816575Z",
     "start_time": "2023-04-07T01:57:23.653615Z"
    }
   },
   "outputs": [],
   "source": [
    "depth_num= range(50, 71, 2)\n",
    "training_acc= []\n",
    "testing_acc = []\n",
    "for depth in depth_num:\n",
    "    tree_model = DecisionTreeClassifier(max_depth=depth,random_state=42)\n",
    "    tree_model.fit(X_train,y_train)\n",
    "    training_acc.append(tree_model.score(X_train,y_train))\n",
    "    testing_acc.append(tree_model.score(X_test,y_test))"
   ]
  },
  {
   "cell_type": "code",
   "execution_count": 43,
   "id": "e8c99364",
   "metadata": {
    "ExecuteTime": {
     "end_time": "2023-04-07T01:57:57.832100Z",
     "start_time": "2023-04-07T01:57:57.819568Z"
    }
   },
   "outputs": [
    {
     "name": "stdout",
     "output_type": "stream",
     "text": [
      "Training Accuracy Scores: [0.99609375, 0.9965144230769231, 0.996875]\n",
      "testing Accuracy Scores: [0.9915865384615384, 0.9918269230769231, 0.9944711538461538]\n"
     ]
    }
   ],
   "source": [
    "print(\"Training Accuracy Scores:\", training_acc[:3])\n",
    "print(\"testing Accuracy Scores:\", testing_acc[:3])"
   ]
  },
  {
   "cell_type": "code",
   "execution_count": 44,
   "id": "4de2bf2c",
   "metadata": {
    "ExecuteTime": {
     "end_time": "2023-04-07T01:57:57.956747Z",
     "start_time": "2023-04-07T01:57:57.834098Z"
    }
   },
   "outputs": [
    {
     "data": {
      "image/png": "[encoded data removed]",
      "text/plain": [
       "<Figure size 432x288 with 1 Axes>"
      ]
     },
     "metadata": {
      "needs_background": "light"
     },
     "output_type": "display_data"
    }
   ],
   "source": [
    "plt.plot(depth_num , training_acc , label= 'Training')\n",
    "plt.plot(depth_num , testing_acc , label= 'Testing')\n",
    "plt.xlabel('Max_Depth')\n",
    "plt.ylabel('Accuracy_score')\n",
    "plt.legend();"
   ]
  },
  {
   "cell_type": "code",
   "execution_count": 84,
   "id": "1d1b9189",
   "metadata": {
    "ExecuteTime": {
     "end_time": "2023-04-07T02:49:34.725715Z",
     "start_time": "2023-04-07T02:49:30.911755Z"
    }
   },
   "outputs": [
    {
     "name": "stdout",
     "output_type": "stream",
     "text": [
      "Training accuracy of DesicionTreeClassifier is 0.9975961538461539\n",
      "testing accuracy of DesicionTreeClassifier is 0.9947115384615385\n"
     ]
    }
   ],
   "source": [
    "# final model\n",
    "tree_final_model=DecisionTreeClassifier(max_depth=58,random_state=42)\n",
    "tree_final_model.fit(X_train,y_train)\n",
    "tree_training_acc = tree_final_model.score(X_train,y_train)\n",
    "tree_testing_acc = tree_final_model.score(X_test,y_test)\n",
    "print(f\"Training accuracy of DesicionTreeClassifier is {tree_training_acc}\")\n",
    "print(f\"testing accuracy of DesicionTreeClassifier is {tree_testing_acc}\")"
   ]
  },
  {
   "cell_type": "code",
   "execution_count": 58,
   "id": "e360d5aa",
   "metadata": {
    "ExecuteTime": {
     "end_time": "2023-04-07T02:20:57.000048Z",
     "start_time": "2023-04-07T02:20:56.904754Z"
    }
   },
   "outputs": [
    {
     "data": {
      "image/png": "[encoded data removed]",
      "text/plain": [
       "<Figure size 432x288 with 2 Axes>"
      ]
     },
     "metadata": {
      "needs_background": "light"
     },
     "output_type": "display_data"
    }
   ],
   "source": [
    "conf_matrix(tree_final_model)"
   ]
  },
  {
   "cell_type": "code",
   "execution_count": 59,
   "id": "a92c9e09",
   "metadata": {
    "ExecuteTime": {
     "end_time": "2023-04-07T02:21:17.964253Z",
     "start_time": "2023-04-07T02:21:17.950477Z"
    }
   },
   "outputs": [
    {
     "name": "stdout",
     "output_type": "stream",
     "text": [
      "              precision    recall  f1-score   support\n",
      "\n",
      "           0       1.00      0.99      0.99      2062\n",
      "           1       0.99      1.00      0.99      2098\n",
      "\n",
      "    accuracy                           0.99      4160\n",
      "   macro avg       0.99      0.99      0.99      4160\n",
      "weighted avg       0.99      0.99      0.99      4160\n",
      "\n"
     ]
    }
   ],
   "source": [
    "class_report(tree_final_model)"
   ]
  },
  {
   "cell_type": "markdown",
   "id": "3c7e4f77",
   "metadata": {},
   "source": [
    "## RandomForestClassifier"
   ]
  },
  {
   "cell_type": "code",
   "execution_count": 72,
   "id": "0893d0d6",
   "metadata": {
    "ExecuteTime": {
     "end_time": "2023-04-07T02:41:27.574861Z",
     "start_time": "2023-04-07T02:41:27.561458Z"
    }
   },
   "outputs": [
    {
     "data": {
      "text/plain": [
       "{'n_estimators': range(50, 125, 25), 'max_depth': range(60, 81, 2)}"
      ]
     },
     "execution_count": 72,
     "metadata": {},
     "output_type": "execute_result"
    }
   ],
   "source": [
    "clf= RandomForestClassifier(random_state=42)\n",
    "params={\n",
    "    \"n_estimators\": range(50,125,25),\n",
    "    \"max_depth\": range(60,81,2)\n",
    "}\n",
    "params"
   ]
  },
  {
   "cell_type": "code",
   "execution_count": 73,
   "id": "3ad1cff5",
   "metadata": {
    "ExecuteTime": {
     "end_time": "2023-04-07T02:41:28.026236Z",
     "start_time": "2023-04-07T02:41:28.016723Z"
    }
   },
   "outputs": [],
   "source": [
    "rfc_model = GridSearchCV(\n",
    "    clf,\n",
    "    param_grid= params,\n",
    "    cv= 5,\n",
    "    n_jobs= -1,\n",
    "    verbose=1\n",
    ")"
   ]
  },
  {
   "cell_type": "code",
   "execution_count": 74,
   "id": "bbf37565",
   "metadata": {
    "ExecuteTime": {
     "end_time": "2023-04-07T02:47:16.336820Z",
     "start_time": "2023-04-07T02:41:28.454646Z"
    }
   },
   "outputs": [
    {
     "name": "stdout",
     "output_type": "stream",
     "text": [
      "Fitting 5 folds for each of 33 candidates, totalling 165 fits\n"
     ]
    },
    {
     "data": {
      "text/plain": [
       "GridSearchCV(cv=5, estimator=RandomForestClassifier(random_state=42), n_jobs=-1,\n",
       "             param_grid={'max_depth': range(60, 81, 2),\n",
       "                         'n_estimators': range(50, 125, 25)},\n",
       "             verbose=1)"
      ]
     },
     "execution_count": 74,
     "metadata": {},
     "output_type": "execute_result"
    }
   ],
   "source": [
    "rfc_model.fit(X_train,y_train)"
   ]
  },
  {
   "cell_type": "code",
   "execution_count": 75,
   "id": "f64709b9",
   "metadata": {
    "ExecuteTime": {
     "end_time": "2023-04-07T02:47:16.368464Z",
     "start_time": "2023-04-07T02:47:16.340790Z"
    }
   },
   "outputs": [
    {
     "data": {
      "text/html": [
       "<div>\n",
       "<style scoped>\n",
       "    .dataframe tbody tr th:only-of-type {\n",
       "        vertical-align: middle;\n",
       "    }\n",
       "\n",
       "    .dataframe tbody tr th {\n",
       "        vertical-align: top;\n",
       "    }\n",
       "\n",
       "    .dataframe thead th {\n",
       "        text-align: right;\n",
       "    }\n",
       "</style>\n",
       "<table border=\"1\" class=\"dataframe\">\n",
       "  <thead>\n",
       "    <tr style=\"text-align: right;\">\n",
       "      <th></th>\n",
       "      <th>mean_fit_time</th>\n",
       "      <th>std_fit_time</th>\n",
       "      <th>mean_score_time</th>\n",
       "      <th>std_score_time</th>\n",
       "      <th>param_max_depth</th>\n",
       "      <th>param_n_estimators</th>\n",
       "      <th>params</th>\n",
       "      <th>split0_test_score</th>\n",
       "      <th>split1_test_score</th>\n",
       "      <th>split2_test_score</th>\n",
       "      <th>split3_test_score</th>\n",
       "      <th>split4_test_score</th>\n",
       "      <th>mean_test_score</th>\n",
       "      <th>std_test_score</th>\n",
       "      <th>rank_test_score</th>\n",
       "    </tr>\n",
       "  </thead>\n",
       "  <tbody>\n",
       "    <tr>\n",
       "      <th>26</th>\n",
       "      <td>31.833499</td>\n",
       "      <td>0.516756</td>\n",
       "      <td>0.147250</td>\n",
       "      <td>0.006312</td>\n",
       "      <td>76</td>\n",
       "      <td>100</td>\n",
       "      <td>{'max_depth': 76, 'n_estimators': 100}</td>\n",
       "      <td>0.968450</td>\n",
       "      <td>0.964243</td>\n",
       "      <td>0.967248</td>\n",
       "      <td>0.969050</td>\n",
       "      <td>0.971755</td>\n",
       "      <td>0.968149</td>\n",
       "      <td>0.002449</td>\n",
       "      <td>1</td>\n",
       "    </tr>\n",
       "    <tr>\n",
       "      <th>29</th>\n",
       "      <td>31.365484</td>\n",
       "      <td>0.160573</td>\n",
       "      <td>0.148313</td>\n",
       "      <td>0.004636</td>\n",
       "      <td>78</td>\n",
       "      <td>100</td>\n",
       "      <td>{'max_depth': 78, 'n_estimators': 100}</td>\n",
       "      <td>0.969651</td>\n",
       "      <td>0.963942</td>\n",
       "      <td>0.965745</td>\n",
       "      <td>0.967548</td>\n",
       "      <td>0.970252</td>\n",
       "      <td>0.967428</td>\n",
       "      <td>0.002363</td>\n",
       "      <td>2</td>\n",
       "    </tr>\n",
       "    <tr>\n",
       "      <th>25</th>\n",
       "      <td>23.823970</td>\n",
       "      <td>0.376595</td>\n",
       "      <td>0.108393</td>\n",
       "      <td>0.002055</td>\n",
       "      <td>76</td>\n",
       "      <td>75</td>\n",
       "      <td>{'max_depth': 76, 'n_estimators': 75}</td>\n",
       "      <td>0.965144</td>\n",
       "      <td>0.961839</td>\n",
       "      <td>0.966046</td>\n",
       "      <td>0.967248</td>\n",
       "      <td>0.974159</td>\n",
       "      <td>0.966887</td>\n",
       "      <td>0.004055</td>\n",
       "      <td>3</td>\n",
       "    </tr>\n",
       "    <tr>\n",
       "      <th>28</th>\n",
       "      <td>23.927191</td>\n",
       "      <td>0.188914</td>\n",
       "      <td>0.108333</td>\n",
       "      <td>0.003523</td>\n",
       "      <td>78</td>\n",
       "      <td>75</td>\n",
       "      <td>{'max_depth': 78, 'n_estimators': 75}</td>\n",
       "      <td>0.965445</td>\n",
       "      <td>0.962440</td>\n",
       "      <td>0.963341</td>\n",
       "      <td>0.968450</td>\n",
       "      <td>0.974459</td>\n",
       "      <td>0.966827</td>\n",
       "      <td>0.004340</td>\n",
       "      <td>4</td>\n",
       "    </tr>\n",
       "    <tr>\n",
       "      <th>23</th>\n",
       "      <td>30.874189</td>\n",
       "      <td>0.473382</td>\n",
       "      <td>0.155924</td>\n",
       "      <td>0.030680</td>\n",
       "      <td>74</td>\n",
       "      <td>100</td>\n",
       "      <td>{'max_depth': 74, 'n_estimators': 100}</td>\n",
       "      <td>0.968450</td>\n",
       "      <td>0.963642</td>\n",
       "      <td>0.965144</td>\n",
       "      <td>0.966947</td>\n",
       "      <td>0.969050</td>\n",
       "      <td>0.966647</td>\n",
       "      <td>0.002020</td>\n",
       "      <td>5</td>\n",
       "    </tr>\n",
       "    <tr>\n",
       "      <th>32</th>\n",
       "      <td>28.634162</td>\n",
       "      <td>0.137546</td>\n",
       "      <td>0.113666</td>\n",
       "      <td>0.005887</td>\n",
       "      <td>80</td>\n",
       "      <td>100</td>\n",
       "      <td>{'max_depth': 80, 'n_estimators': 100}</td>\n",
       "      <td>0.968149</td>\n",
       "      <td>0.964243</td>\n",
       "      <td>0.963942</td>\n",
       "      <td>0.967248</td>\n",
       "      <td>0.967849</td>\n",
       "      <td>0.966286</td>\n",
       "      <td>0.001817</td>\n",
       "      <td>6</td>\n",
       "    </tr>\n",
       "    <tr>\n",
       "      <th>20</th>\n",
       "      <td>30.735780</td>\n",
       "      <td>0.608113</td>\n",
       "      <td>0.144351</td>\n",
       "      <td>0.005450</td>\n",
       "      <td>72</td>\n",
       "      <td>100</td>\n",
       "      <td>{'max_depth': 72, 'n_estimators': 100}</td>\n",
       "      <td>0.965144</td>\n",
       "      <td>0.960938</td>\n",
       "      <td>0.966046</td>\n",
       "      <td>0.966346</td>\n",
       "      <td>0.969050</td>\n",
       "      <td>0.965505</td>\n",
       "      <td>0.002629</td>\n",
       "      <td>7</td>\n",
       "    </tr>\n",
       "    <tr>\n",
       "      <th>24</th>\n",
       "      <td>15.866322</td>\n",
       "      <td>0.132891</td>\n",
       "      <td>0.072909</td>\n",
       "      <td>0.001465</td>\n",
       "      <td>76</td>\n",
       "      <td>50</td>\n",
       "      <td>{'max_depth': 76, 'n_estimators': 50}</td>\n",
       "      <td>0.963942</td>\n",
       "      <td>0.960337</td>\n",
       "      <td>0.966947</td>\n",
       "      <td>0.963642</td>\n",
       "      <td>0.970252</td>\n",
       "      <td>0.965024</td>\n",
       "      <td>0.003349</td>\n",
       "      <td>8</td>\n",
       "    </tr>\n",
       "    <tr>\n",
       "      <th>31</th>\n",
       "      <td>23.716946</td>\n",
       "      <td>0.359174</td>\n",
       "      <td>0.095296</td>\n",
       "      <td>0.006592</td>\n",
       "      <td>80</td>\n",
       "      <td>75</td>\n",
       "      <td>{'max_depth': 80, 'n_estimators': 75}</td>\n",
       "      <td>0.963041</td>\n",
       "      <td>0.960637</td>\n",
       "      <td>0.962440</td>\n",
       "      <td>0.966346</td>\n",
       "      <td>0.971454</td>\n",
       "      <td>0.964784</td>\n",
       "      <td>0.003812</td>\n",
       "      <td>9</td>\n",
       "    </tr>\n",
       "    <tr>\n",
       "      <th>22</th>\n",
       "      <td>23.665243</td>\n",
       "      <td>0.474692</td>\n",
       "      <td>0.121146</td>\n",
       "      <td>0.010165</td>\n",
       "      <td>74</td>\n",
       "      <td>75</td>\n",
       "      <td>{'max_depth': 74, 'n_estimators': 75}</td>\n",
       "      <td>0.964543</td>\n",
       "      <td>0.958233</td>\n",
       "      <td>0.963341</td>\n",
       "      <td>0.963642</td>\n",
       "      <td>0.972957</td>\n",
       "      <td>0.964543</td>\n",
       "      <td>0.004751</td>\n",
       "      <td>10</td>\n",
       "    </tr>\n",
       "  </tbody>\n",
       "</table>\n",
       "</div>"
      ],
      "text/plain": [
       "    mean_fit_time  std_fit_time  mean_score_time  std_score_time  \\\n",
       "26      31.833499      0.516756         0.147250        0.006312   \n",
       "29      31.365484      0.160573         0.148313        0.004636   \n",
       "25      23.823970      0.376595         0.108393        0.002055   \n",
       "28      23.927191      0.188914         0.108333        0.003523   \n",
       "23      30.874189      0.473382         0.155924        0.030680   \n",
       "32      28.634162      0.137546         0.113666        0.005887   \n",
       "20      30.735780      0.608113         0.144351        0.005450   \n",
       "24      15.866322      0.132891         0.072909        0.001465   \n",
       "31      23.716946      0.359174         0.095296        0.006592   \n",
       "22      23.665243      0.474692         0.121146        0.010165   \n",
       "\n",
       "   param_max_depth param_n_estimators                                  params  \\\n",
       "26              76                100  {'max_depth': 76, 'n_estimators': 100}   \n",
       "29              78                100  {'max_depth': 78, 'n_estimators': 100}   \n",
       "25              76                 75   {'max_depth': 76, 'n_estimators': 75}   \n",
       "28              78                 75   {'max_depth': 78, 'n_estimators': 75}   \n",
       "23              74                100  {'max_depth': 74, 'n_estimators': 100}   \n",
       "32              80                100  {'max_depth': 80, 'n_estimators': 100}   \n",
       "20              72                100  {'max_depth': 72, 'n_estimators': 100}   \n",
       "24              76                 50   {'max_depth': 76, 'n_estimators': 50}   \n",
       "31              80                 75   {'max_depth': 80, 'n_estimators': 75}   \n",
       "22              74                 75   {'max_depth': 74, 'n_estimators': 75}   \n",
       "\n",
       "    split0_test_score  split1_test_score  split2_test_score  \\\n",
       "26           0.968450           0.964243           0.967248   \n",
       "29           0.969651           0.963942           0.965745   \n",
       "25           0.965144           0.961839           0.966046   \n",
       "28           0.965445           0.962440           0.963341   \n",
       "23           0.968450           0.963642           0.965144   \n",
       "32           0.968149           0.964243           0.963942   \n",
       "20           0.965144           0.960938           0.966046   \n",
       "24           0.963942           0.960337           0.966947   \n",
       "31           0.963041           0.960637           0.962440   \n",
       "22           0.964543           0.958233           0.963341   \n",
       "\n",
       "    split3_test_score  split4_test_score  mean_test_score  std_test_score  \\\n",
       "26           0.969050           0.971755         0.968149        0.002449   \n",
       "29           0.967548           0.970252         0.967428        0.002363   \n",
       "25           0.967248           0.974159         0.966887        0.004055   \n",
       "28           0.968450           0.974459         0.966827        0.004340   \n",
       "23           0.966947           0.969050         0.966647        0.002020   \n",
       "32           0.967248           0.967849         0.966286        0.001817   \n",
       "20           0.966346           0.969050         0.965505        0.002629   \n",
       "24           0.963642           0.970252         0.965024        0.003349   \n",
       "31           0.966346           0.971454         0.964784        0.003812   \n",
       "22           0.963642           0.972957         0.964543        0.004751   \n",
       "\n",
       "    rank_test_score  \n",
       "26                1  \n",
       "29                2  \n",
       "25                3  \n",
       "28                4  \n",
       "23                5  \n",
       "32                6  \n",
       "20                7  \n",
       "24                8  \n",
       "31                9  \n",
       "22               10  "
      ]
     },
     "execution_count": 75,
     "metadata": {},
     "output_type": "execute_result"
    }
   ],
   "source": [
    "cv_results= pd.DataFrame(rfc_model.cv_results_)\n",
    "cv_results.sort_values('rank_test_score').head(10)"
   ]
  },
  {
   "cell_type": "code",
   "execution_count": 76,
   "id": "8705ad41",
   "metadata": {
    "ExecuteTime": {
     "end_time": "2023-04-07T02:47:44.171778Z",
     "start_time": "2023-04-07T02:47:44.162002Z"
    }
   },
   "outputs": [
    {
     "data": {
      "text/plain": [
       "{'max_depth': 76, 'n_estimators': 100}"
      ]
     },
     "execution_count": 76,
     "metadata": {},
     "output_type": "execute_result"
    }
   ],
   "source": [
    "rfc_model.best_params_"
   ]
  },
  {
   "cell_type": "code",
   "execution_count": 78,
   "id": "108cac5d",
   "metadata": {
    "ExecuteTime": {
     "end_time": "2023-04-07T02:47:59.042161Z",
     "start_time": "2023-04-07T02:47:58.896713Z"
    }
   },
   "outputs": [
    {
     "data": {
      "text/plain": [
       "array([1, 1, 0, ..., 1, 0, 1], dtype=int64)"
      ]
     },
     "execution_count": 78,
     "metadata": {},
     "output_type": "execute_result"
    }
   ],
   "source": [
    "rfc_model.predict(X_test)"
   ]
  },
  {
   "cell_type": "code",
   "execution_count": 80,
   "id": "529dc1b9",
   "metadata": {
    "ExecuteTime": {
     "end_time": "2023-04-07T02:48:35.147973Z",
     "start_time": "2023-04-07T02:48:34.610342Z"
    }
   },
   "outputs": [
    {
     "name": "stdout",
     "output_type": "stream",
     "text": [
      "Training accuracy: 0.9822\n",
      "test accuracy: 0.9692\n"
     ]
    }
   ],
   "source": [
    "acc_train = rfc_model.score(X_train , y_train)\n",
    "acc_test = rfc_model.score(X_test , y_test)\n",
    "\n",
    "print(f\"Training accuracy: {round(acc_train , 4)}\")\n",
    "print(f\"test accuracy: {round(acc_test , 4)}\")"
   ]
  },
  {
   "cell_type": "code",
   "execution_count": 81,
   "id": "f375aa64",
   "metadata": {
    "ExecuteTime": {
     "end_time": "2023-04-07T02:48:53.713885Z",
     "start_time": "2023-04-07T02:48:53.491132Z"
    }
   },
   "outputs": [
    {
     "data": {
      "image/png": "[encoded data removed]",
      "text/plain": [
       "<Figure size 432x288 with 2 Axes>"
      ]
     },
     "metadata": {
      "needs_background": "light"
     },
     "output_type": "display_data"
    }
   ],
   "source": [
    "conf_matrix(rfc_model)"
   ]
  },
  {
   "cell_type": "code",
   "execution_count": 82,
   "id": "9ef9c2ff",
   "metadata": {
    "ExecuteTime": {
     "end_time": "2023-04-07T02:49:03.501744Z",
     "start_time": "2023-04-07T02:49:03.354790Z"
    }
   },
   "outputs": [
    {
     "name": "stdout",
     "output_type": "stream",
     "text": [
      "              precision    recall  f1-score   support\n",
      "\n",
      "           0       1.00      0.94      0.97      2062\n",
      "           1       0.94      1.00      0.97      2098\n",
      "\n",
      "    accuracy                           0.97      4160\n",
      "   macro avg       0.97      0.97      0.97      4160\n",
      "weighted avg       0.97      0.97      0.97      4160\n",
      "\n"
     ]
    }
   ],
   "source": [
    "class_report(rfc_model)"
   ]
  },
  {
   "cell_type": "code",
   "execution_count": 85,
   "id": "8d6d2b42",
   "metadata": {
    "ExecuteTime": {
     "end_time": "2023-04-07T02:49:46.956060Z",
     "start_time": "2023-04-07T02:49:40.498137Z"
    }
   },
   "outputs": [
    {
     "data": {
      "text/html": [
       "<div>\n",
       "<style scoped>\n",
       "    .dataframe tbody tr th:only-of-type {\n",
       "        vertical-align: middle;\n",
       "    }\n",
       "\n",
       "    .dataframe tbody tr th {\n",
       "        vertical-align: top;\n",
       "    }\n",
       "\n",
       "    .dataframe thead th {\n",
       "        text-align: right;\n",
       "    }\n",
       "</style>\n",
       "<table border=\"1\" class=\"dataframe\">\n",
       "  <thead>\n",
       "    <tr style=\"text-align: right;\">\n",
       "      <th></th>\n",
       "      <th>Models</th>\n",
       "      <th>Score</th>\n",
       "    </tr>\n",
       "  </thead>\n",
       "  <tbody>\n",
       "    <tr>\n",
       "      <th>2</th>\n",
       "      <td>DecisionTreeClassifier</td>\n",
       "      <td>0.994712</td>\n",
       "    </tr>\n",
       "    <tr>\n",
       "      <th>1</th>\n",
       "      <td>SVM</td>\n",
       "      <td>0.984856</td>\n",
       "    </tr>\n",
       "    <tr>\n",
       "      <th>0</th>\n",
       "      <td>Logestic Regression</td>\n",
       "      <td>0.971154</td>\n",
       "    </tr>\n",
       "    <tr>\n",
       "      <th>3</th>\n",
       "      <td>RandomForestClassifier</td>\n",
       "      <td>0.969231</td>\n",
       "    </tr>\n",
       "  </tbody>\n",
       "</table>\n",
       "</div>"
      ],
      "text/plain": [
       "                   Models     Score\n",
       "2  DecisionTreeClassifier  0.994712\n",
       "1                     SVM  0.984856\n",
       "0     Logestic Regression  0.971154\n",
       "3  RandomForestClassifier  0.969231"
      ]
     },
     "execution_count": 85,
     "metadata": {},
     "output_type": "execute_result"
    }
   ],
   "source": [
    "models = pd.DataFrame({\n",
    "    \n",
    "    \"Models\": [\"Logestic Regression\" , \"SVM\", \"DecisionTreeClassifier\",\"RandomForestClassifier\"],\n",
    "    \"Score\":[model_lr.score(X_test,y_test) ,svc_model.score(X_test,y_test) ,tree_testing_acc,acc_test ]\n",
    "    \n",
    "})\n",
    "models.sort_values(by=\"Score\" , ascending=False)"
   ]
  },
  {
   "cell_type": "code",
   "execution_count": 86,
   "id": "981f20dd",
   "metadata": {
    "ExecuteTime": {
     "end_time": "2023-04-07T02:52:36.259719Z",
     "start_time": "2023-04-07T02:52:36.140495Z"
    }
   },
   "outputs": [
    {
     "data": {
      "image/png": "[encoded data removed]",
      "text/plain": [
       "<Figure size 720x360 with 1 Axes>"
      ]
     },
     "metadata": {},
     "output_type": "display_data"
    }
   ],
   "source": [
    "colors= ['orange' , 'blue','red','green']\n",
    "sns.set_style('whitegrid')\n",
    "plt.figure(figsize=(10,5))\n",
    "sns.barplot(x=models['Models'],y=models['Score'], palette=colors )\n",
    "plt.xlabel(\"Models\")\n",
    "plt.ylabel(\"Score\")\n",
    "plt.title(\"Model Selection\")\n",
    "plt.show();"
   ]
  },
  {
   "cell_type": "markdown",
   "id": "780d2992",
   "metadata": {},
   "source": [
    "## DecisionTreeClassifier got the highest accuracy"
   ]
  },
  {
   "cell_type": "markdown",
   "id": "3365e224",
   "metadata": {},
   "source": [
    "## Thanks!"
   ]
  }
 ],
 "metadata": {
  "kernelspec": {
   "display_name": "Python 3 (ipykernel)",
   "language": "python",
   "name": "python3"
  },
  "language_info": {
   "codemirror_mode": {
    "name": "ipython",
    "version": 3
   },
   "file_extension": ".py",
   "mimetype": "text/x-python",
   "name": "python",
   "nbconvert_exporter": "python",
   "pygments_lexer": "ipython3",
   "version": "3.9.12"
  }
 },
 "nbformat": 4,
 "nbformat_minor": 5
}
